{
 "cells": [
  {
   "cell_type": "markdown",
   "id": "396bb25c",
   "metadata": {},
   "source": [
    "---\n",
    "# Assigment 1\n",
    "\n",
    "Name: DUONG SON THONG\n",
    "\n",
    "Student Number: 223593948\n",
    "\n",
    "Email: s223593948@deakin.edu.au\n",
    "\n",
    "Postgraduate (SIT744)\n",
    "\n",
    "---"
   ]
  },
  {
   "cell_type": "markdown",
   "id": "643b3792",
   "metadata": {},
   "source": [
    "## Introduction"
   ]
  },
  {
   "cell_type": "markdown",
   "id": "b0d06458",
   "metadata": {},
   "source": [
    "Data link: https://www.kaggle.com/datasets/nanditapore/healthcare-diabetes\n"
   ]
  },
  {
   "cell_type": "markdown",
   "id": "dafbffb3",
   "metadata": {},
   "source": [
    "The Diabetes Prediction Dataset is a useful resource for researchers, data scientists, and healthcare professionals working on diabetes risk prediction. It contains a range of important health-related features that were carefully collected to support the development of deep learning models. These models can help identify individuals who may be at risk of developing diabetes, supporting efforts in early detection and more effective treatment planning."
   ]
  },
  {
   "cell_type": "markdown",
   "id": "290258ad",
   "metadata": {},
   "source": [
    "# Describe the dataset\n",
    "\n",
    "This dataset comprises medical diagnostic measurements for **2,768 samples**, primarily used for predictive modeling of diabetes. It contains **10 columns**, each representing patient attributes or outcomes related to diabetes diagnostics.\n",
    "\n",
    "**Variables**\n",
    "\n",
    "| Variable Name | Label                             |\n",
    "|---------------------|-------------------------------------------------|\n",
    "| Pregnancies         | Number of times the individual has been pregnant|\n",
    "| Glucose             | Plasma glucose concentration (mg/dL)            |\n",
    "| BloodPressure       | Diastolic blood pressure (mm Hg)                |\n",
    "| SkinThickness       | Triceps skinfold thickness (mm)                 |\n",
    "| Insulin             | 2-Hour serum insulin (mu U/ml).                 |\n",
    "| BMI                 | Body mass index (weight in kg/(height in m)^2)  |\n",
    "| DiabetesPedigreeFunction      | A function representing diabetes likelihood based on family history          |\n",
    "| Age                 | Age of the individual (years)  |\n",
    "| Outcome                 | Binary indicator of diabetes presence (1 = diabetic, 0 = non-diabetic)  |\n",
    "| Id                 | Unique identifier for each record.  |"
   ]
  },
  {
   "cell_type": "markdown",
   "id": "53d7d97d",
   "metadata": {},
   "source": [
    "**Import package**"
   ]
  },
  {
   "cell_type": "code",
   "execution_count": 9,
   "id": "6016a782",
   "metadata": {},
   "outputs": [],
   "source": [
    "import torch\n",
    "from torch import nn\n",
    "import pandas as pd\n",
    "from torch.utils.data import DataLoader, random_split, Dataset\n",
    "from sklearn.impute import SimpleImputer\n",
    "import numpy as np\n",
    "from sklearn.preprocessing import StandardScaler\n",
    "from imblearn.over_sampling import SMOTE\n",
    "from torch.utils.tensorboard import SummaryWriter\n",
    "import time\n",
    "import matplotlib.pyplot as plt\n",
    "import seaborn as sns\n"
   ]
  },
  {
   "cell_type": "markdown",
   "id": "a17eaa38",
   "metadata": {},
   "source": [
    "---\n",
    "## **Set 1 Build a Simple Neural Network (P-Level Tasks)**\n",
    "---"
   ]
  },
  {
   "cell_type": "markdown",
   "id": "41041962",
   "metadata": {},
   "source": [
    "### **1. Define the Machine Learning Problem**\n",
    "\n",
    "**Problem Title:** *Predicting Diabetes Diagnosis Using Neural Networks*\n",
    "\n",
    "#### a. Problem Description\n",
    "\n",
    "This project uses a dataset containing medical diagnostic measurements from female patients to predict the presence of diabetes. The task is a **binary classification** problem, where the goal is to determine whether a patient has diabetes (Outcome = 1) or not (Outcome = 0) based on various features such as glucose level, BMI, age, and more. Neural networks are well-suited for this task due to their ability to model complex, nonlinear relationships between health indicators.\n",
    "\n",
    "#### b. Objectives\n",
    "\n",
    "* Develop a neural network that can accurately classify whether a patient has diabetes.\n",
    "* Evaluate model performance using appropriate metrics.\n",
    "* Explore hyperparameter tuning and architecture optimization to improve model performance.\n",
    "\n",
    "#### c. Potential Ethical Concerns and Dataset Biases\n",
    "\n",
    "* **Dataset Bias – Gender Limitation:**\n",
    "  The dataset contains only female patients, which introduces **gender bias**. As a result, the trained model may not generalize well to male patients or populations with different demographics.\n",
    "\n",
    "* **Privacy and Security:**\n",
    "  Since the dataset involves sensitive medical information, it is essential to **ensure patient anonymity** and comply with privacy laws such as **HIPAA** (Health Insurance Portability and Accountability Act) or **GDPR** (General Data Protection Regulation). Any data handling or sharing should prioritize ethical standards for data protection.\n",
    "\n",
    "* **Model Explainability:**\n",
    "  Neural networks are often considered **black-box** models. This lack of transparency can be a barrier in clinical environments where interpretability is critical. Incorporating **explainable AI (XAI)** techniques, such as SHAP or LIME, may improve trust and usability among healthcare professionals.\n",
    "\n"
   ]
  },
  {
   "cell_type": "markdown",
   "id": "db1555f0",
   "metadata": {},
   "source": [
    "### **2. Dataset Selection and Justification**\n",
    "\n",
    "#### Selected Dataset\n",
    "The dataset consists of medical information from **2,768 patients**, including features like **glucose level**, **blood pressure**, **BMI**, and a binary **Outcome** indicating the presence (`1`) or absence (`0`) of diabetes.\n",
    "\n",
    "\n",
    "#### Justification of Suitability\n",
    "\n",
    "- **Size:**  \n",
    "  With 2,768 entries, the dataset is reasonably sized for training a neural network without requiring excessive computational resources. While not \"big data,\" it offers a solid foundation for supervised learning.\n",
    "\n",
    "- **Complexity:**  \n",
    "  The dataset includes a mix of **demographic** (e.g., age, pregnancies) and **physiological** (e.g., glucose, insulin) features. This complexity is well-suited for neural networks, which can model nonlinear interactions between variables.\n",
    "\n",
    "- **Relevance:**  \n",
    "  All features are medically relevant to diabetes prediction, aligning well with the classification objective.\n",
    "\n",
    "\n",
    "#### Bias Considerations\n",
    "\n",
    "- **Zero values in medical fields** (e.g., Insulin, Glucose, BloodPressure) likely indicate missing or unrecorded data, which can introduce bias if not handled properly.\n",
    "\n",
    "- **Demographic scope is unclear**, as there is no gender or ethnicity column. This makes it hard to assess generalizability across populations.\n"
   ]
  },
  {
   "cell_type": "markdown",
   "id": "33bf3ed9",
   "metadata": {},
   "source": [
    "##### Process Data Steps:\n",
    "- Drop the Id column (not predictive).\n",
    "\n",
    "- Replace zero values in physiological fields with NaN.\n",
    "\n",
    "- Impute missing values using median (robust against outliers).\n",
    "\n",
    "- Normalize numerical features (neural networks benefit from scaled inputs).\n",
    "\n",
    "- Separate features and labels"
   ]
  },
  {
   "cell_type": "code",
   "execution_count": 10,
   "id": "e110a5e8",
   "metadata": {},
   "outputs": [
    {
     "data": {
      "application/vnd.microsoft.datawrangler.viewer.v0+json": {
       "columns": [
        {
         "name": "index",
         "rawType": "int64",
         "type": "integer"
        },
        {
         "name": "Pregnancies",
         "rawType": "float64",
         "type": "float"
        },
        {
         "name": "Glucose",
         "rawType": "float64",
         "type": "float"
        },
        {
         "name": "BloodPressure",
         "rawType": "float64",
         "type": "float"
        },
        {
         "name": "SkinThickness",
         "rawType": "float64",
         "type": "float"
        },
        {
         "name": "Insulin",
         "rawType": "float64",
         "type": "float"
        },
        {
         "name": "BMI",
         "rawType": "float64",
         "type": "float"
        },
        {
         "name": "DiabetesPedigreeFunction",
         "rawType": "float64",
         "type": "float"
        },
        {
         "name": "Age",
         "rawType": "float64",
         "type": "float"
        },
        {
         "name": "Outcome",
         "rawType": "float64",
         "type": "float"
        }
       ],
       "ref": "895f02af-ae86-45bb-9c06-ab644f8916c4",
       "rows": [
        [
         "0",
         "0.6792323914931376",
         "0.8569929344713865",
         "-0.03218970580657022",
         "0.6416055003997498",
         "-0.17701539359303756",
         "0.14166152936854604",
         "0.47850938881474814",
         "1.4324949359450592",
         "1.0"
        ],
        [
         "1",
         "-0.8253412798040815",
         "-1.2087170686367092",
         "-0.5327577152031217",
         "-0.022803038734746",
         "-0.17701539359303756",
         "-0.8439515242581379",
         "-0.3691304251184163",
         "-0.1810791413996087",
         "0.0"
        ],
        [
         "2",
         "1.2810618600120252",
         "2.004609602864773",
         "-0.6996137183353055",
         "-0.022803038734746",
         "-0.17701539359303756",
         "-1.3085976781107176",
         "0.6167115323908077",
         "-0.09615418996041568",
         "1.0"
        ],
        [
         "3",
         "-0.8253412798040815",
         "-1.0775608779631793",
         "-0.5327577152031217",
         "-0.6872115778692419",
         "-0.5631483666240406",
         "-0.6327487270524199",
         "-0.9342236344071926",
         "-1.0303286557915392",
         "0.0"
        ],
        [
         "4",
         "-1.1262560140635252",
         "0.4963134101191793",
         "-2.701885755921511",
         "0.6416055003997498",
         "0.3297841335101538",
         "1.4792792450047598",
         "5.579704066144408",
         "-0.01122923852122263",
         "1.0"
        ]
       ],
       "shape": {
        "columns": 9,
        "rows": 5
       }
      },
      "text/html": [
       "<div>\n",
       "<style scoped>\n",
       "    .dataframe tbody tr th:only-of-type {\n",
       "        vertical-align: middle;\n",
       "    }\n",
       "\n",
       "    .dataframe tbody tr th {\n",
       "        vertical-align: top;\n",
       "    }\n",
       "\n",
       "    .dataframe thead th {\n",
       "        text-align: right;\n",
       "    }\n",
       "</style>\n",
       "<table border=\"1\" class=\"dataframe\">\n",
       "  <thead>\n",
       "    <tr style=\"text-align: right;\">\n",
       "      <th></th>\n",
       "      <th>Pregnancies</th>\n",
       "      <th>Glucose</th>\n",
       "      <th>BloodPressure</th>\n",
       "      <th>SkinThickness</th>\n",
       "      <th>Insulin</th>\n",
       "      <th>BMI</th>\n",
       "      <th>DiabetesPedigreeFunction</th>\n",
       "      <th>Age</th>\n",
       "      <th>Outcome</th>\n",
       "    </tr>\n",
       "  </thead>\n",
       "  <tbody>\n",
       "    <tr>\n",
       "      <th>0</th>\n",
       "      <td>0.679232</td>\n",
       "      <td>0.856993</td>\n",
       "      <td>-0.032190</td>\n",
       "      <td>0.641606</td>\n",
       "      <td>-0.177015</td>\n",
       "      <td>0.141662</td>\n",
       "      <td>0.478509</td>\n",
       "      <td>1.432495</td>\n",
       "      <td>1.0</td>\n",
       "    </tr>\n",
       "    <tr>\n",
       "      <th>1</th>\n",
       "      <td>-0.825341</td>\n",
       "      <td>-1.208717</td>\n",
       "      <td>-0.532758</td>\n",
       "      <td>-0.022803</td>\n",
       "      <td>-0.177015</td>\n",
       "      <td>-0.843952</td>\n",
       "      <td>-0.369130</td>\n",
       "      <td>-0.181079</td>\n",
       "      <td>0.0</td>\n",
       "    </tr>\n",
       "    <tr>\n",
       "      <th>2</th>\n",
       "      <td>1.281062</td>\n",
       "      <td>2.004610</td>\n",
       "      <td>-0.699614</td>\n",
       "      <td>-0.022803</td>\n",
       "      <td>-0.177015</td>\n",
       "      <td>-1.308598</td>\n",
       "      <td>0.616712</td>\n",
       "      <td>-0.096154</td>\n",
       "      <td>1.0</td>\n",
       "    </tr>\n",
       "    <tr>\n",
       "      <th>3</th>\n",
       "      <td>-0.825341</td>\n",
       "      <td>-1.077561</td>\n",
       "      <td>-0.532758</td>\n",
       "      <td>-0.687212</td>\n",
       "      <td>-0.563148</td>\n",
       "      <td>-0.632749</td>\n",
       "      <td>-0.934224</td>\n",
       "      <td>-1.030329</td>\n",
       "      <td>0.0</td>\n",
       "    </tr>\n",
       "    <tr>\n",
       "      <th>4</th>\n",
       "      <td>-1.126256</td>\n",
       "      <td>0.496313</td>\n",
       "      <td>-2.701886</td>\n",
       "      <td>0.641606</td>\n",
       "      <td>0.329784</td>\n",
       "      <td>1.479279</td>\n",
       "      <td>5.579704</td>\n",
       "      <td>-0.011229</td>\n",
       "      <td>1.0</td>\n",
       "    </tr>\n",
       "  </tbody>\n",
       "</table>\n",
       "</div>"
      ],
      "text/plain": [
       "   Pregnancies   Glucose  BloodPressure  SkinThickness   Insulin       BMI  \\\n",
       "0     0.679232  0.856993      -0.032190       0.641606 -0.177015  0.141662   \n",
       "1    -0.825341 -1.208717      -0.532758      -0.022803 -0.177015 -0.843952   \n",
       "2     1.281062  2.004610      -0.699614      -0.022803 -0.177015 -1.308598   \n",
       "3    -0.825341 -1.077561      -0.532758      -0.687212 -0.563148 -0.632749   \n",
       "4    -1.126256  0.496313      -2.701886       0.641606  0.329784  1.479279   \n",
       "\n",
       "   DiabetesPedigreeFunction       Age  Outcome  \n",
       "0                  0.478509  1.432495      1.0  \n",
       "1                 -0.369130 -0.181079      0.0  \n",
       "2                  0.616712 -0.096154      1.0  \n",
       "3                 -0.934224 -1.030329      0.0  \n",
       "4                  5.579704 -0.011229      1.0  "
      ]
     },
     "execution_count": 10,
     "metadata": {},
     "output_type": "execute_result"
    }
   ],
   "source": [
    "datasetCsv = pd.read_csv('dataset.csv')\n",
    "# drop id column because it can't be a feature to train\n",
    "datasetCsv.drop(columns=[\"Id\"], axis= 1, inplace=True)\n",
    "#replace zeros with NaN \n",
    "fields_with_invalid_zeros = ['Glucose', 'BloodPressure', 'SkinThickness', 'Insulin', 'BMI']\n",
    "for col in fields_with_invalid_zeros:\n",
    "    datasetCsv[col] = datasetCsv[col].apply(lambda x: np.nan if x == 0 else x)\n",
    "\n",
    "#impute values\n",
    "imputer = SimpleImputer(strategy='median')\n",
    "df_imputed = pd.DataFrame(imputer.fit_transform(datasetCsv), columns=datasetCsv.columns)\n",
    "\n",
    "#normalize feature columns (excluding the target)\n",
    "X = df_imputed.drop(columns=['Outcome'])\n",
    "y = df_imputed['Outcome']\n",
    "scaler = StandardScaler()\n",
    "X_scaled = pd.DataFrame(scaler.fit_transform(X), columns=X.columns)\n",
    "#combine features and label into one DataFrame\n",
    "\n",
    "preprocessed_df = X_scaled.copy()\n",
    "preprocessed_df['Outcome'] = y\n",
    "\n",
    "preprocessed_df.head()"
   ]
  },
  {
   "cell_type": "markdown",
   "id": "8f51d0e8",
   "metadata": {},
   "source": [
    "##### Visualize data"
   ]
  },
  {
   "cell_type": "markdown",
   "id": "343fe64a",
   "metadata": {},
   "source": [
    "### 3. Define a simple fully connected neural network using PyTorch."
   ]
  },
  {
   "cell_type": "markdown",
   "id": "c226920c",
   "metadata": {},
   "source": [
    "### Network Architecture\n",
    "\n",
    "- **Input Layer:**\n",
    "  - Accepts a feature vector of size **8**\n",
    "  - Represents input variables such as glucose, blood pressure, BMI, etc.\n",
    "\n",
    "- **Hidden Layer:**\n",
    "  - Fully connected (`Linear`) layer with **32 neurons**\n",
    "  - Activation function: **ReLU** (Rectified Linear Unit)\n",
    "  - ReLU introduces non-linearity to learn complex feature relationships\n",
    "\n",
    "- **Output Layer:**\n",
    "  - A single neuron (`Linear(32, 1)`)\n",
    "  - **Sigmoid activation** converts output to a probability between 0 and 1"
   ]
  },
  {
   "cell_type": "code",
   "execution_count": 11,
   "id": "210b4c77",
   "metadata": {},
   "outputs": [],
   "source": [
    "class NeuralNetwork(nn.Module):\n",
    "    def __init__(self):\n",
    "        super().__init__()\n",
    "        self.flatten = nn.Flatten()\n",
    "        self.linear_relu_stack = nn.Sequential(\n",
    "            nn.Linear(8, 32),\n",
    "            nn.ReLU(),\n",
    "            nn.Linear(32, 1),\n",
    "            nn.Sigmoid()\n",
    "        )\n",
    "    \n",
    "    def forward(self, x):\n",
    "        logits = self.linear_relu_stack(x)\n",
    "        return logits"
   ]
  },
  {
   "cell_type": "markdown",
   "id": "887d38b3",
   "metadata": {},
   "source": [
    "### 4. Implement the training pipeline. Train the model and evaluate its performance on test data."
   ]
  },
  {
   "cell_type": "code",
   "execution_count": 12,
   "id": "82e205c9",
   "metadata": {},
   "outputs": [
    {
     "name": "stdout",
     "output_type": "stream",
     "text": [
      "2215\n",
      "553\n",
      "Epoch 1\n",
      "loss: 0.676488  [   64/ 2215]\n"
     ]
    },
    {
     "name": "stderr",
     "output_type": "stream",
     "text": [
      "/var/folders/7y/tb8vlfv937523rgqdlf0zjy40000gn/T/ipykernel_52476/3111156567.py:13: FutureWarning: Series.__getitem__ treating keys as positions is deprecated. In a future version, integer keys will always be treated as labels (consistent with DataFrame behavior). To access a value by position, use `ser.iloc[pos]`\n",
      "  label = torch.tensor(row[-1], dtype=torch.float32).unsqueeze(0)  # shape [1]\n"
     ]
    },
    {
     "name": "stdout",
     "output_type": "stream",
     "text": [
      "Accuracy: 0.7667269439421338%, Avg loss: 0.517814 \n",
      "\n",
      "Epoch 2\n",
      "loss: 0.487060  [   64/ 2215]\n",
      "Accuracy: 0.7631103074141049%, Avg loss: 0.488550 \n",
      "\n",
      "Epoch 3\n",
      "loss: 0.417433  [   64/ 2215]\n",
      "Accuracy: 0.7522603978300181%, Avg loss: 0.481347 \n",
      "\n",
      "Epoch 4\n",
      "loss: 0.467867  [   64/ 2215]\n",
      "Accuracy: 0.7685352622061483%, Avg loss: 0.475928 \n",
      "\n",
      "Epoch 5\n",
      "loss: 0.508884  [   64/ 2215]\n",
      "Accuracy: 0.7631103074141049%, Avg loss: 0.473187 \n",
      "\n",
      "Epoch 6\n",
      "loss: 0.545624  [   64/ 2215]\n",
      "Accuracy: 0.7739602169981917%, Avg loss: 0.471102 \n",
      "\n",
      "Epoch 7\n",
      "loss: 0.404422  [   64/ 2215]\n",
      "Accuracy: 0.7667269439421338%, Avg loss: 0.470069 \n",
      "\n",
      "Epoch 8\n",
      "loss: 0.429202  [   64/ 2215]\n",
      "Accuracy: 0.7703435804701627%, Avg loss: 0.469041 \n",
      "\n",
      "Epoch 9\n",
      "loss: 0.502001  [   64/ 2215]\n",
      "Accuracy: 0.7757685352622061%, Avg loss: 0.466663 \n",
      "\n",
      "Epoch 10\n",
      "loss: 0.365108  [   64/ 2215]\n",
      "Accuracy: 0.7667269439421338%, Avg loss: 0.466062 \n",
      "\n",
      "Epoch 11\n",
      "loss: 0.357876  [   64/ 2215]\n",
      "Accuracy: 0.7631103074141049%, Avg loss: 0.464078 \n",
      "\n",
      "Epoch 12\n",
      "loss: 0.343089  [   64/ 2215]\n",
      "Accuracy: 0.7540687160940326%, Avg loss: 0.464865 \n",
      "\n",
      "Epoch 13\n",
      "loss: 0.362338  [   64/ 2215]\n",
      "Accuracy: 0.7631103074141049%, Avg loss: 0.461969 \n",
      "\n",
      "Epoch 14\n",
      "loss: 0.375385  [   64/ 2215]\n",
      "Accuracy: 0.7848101265822784%, Avg loss: 0.457489 \n",
      "\n",
      "Epoch 15\n",
      "loss: 0.453843  [   64/ 2215]\n",
      "Accuracy: 0.7649186256781193%, Avg loss: 0.456324 \n",
      "\n",
      "Epoch 16\n",
      "loss: 0.319230  [   64/ 2215]\n",
      "Accuracy: 0.7649186256781193%, Avg loss: 0.457467 \n",
      "\n",
      "Epoch 17\n",
      "loss: 0.313161  [   64/ 2215]\n",
      "Accuracy: 0.7811934900542495%, Avg loss: 0.455202 \n",
      "\n",
      "Epoch 18\n",
      "loss: 0.524337  [   64/ 2215]\n",
      "Accuracy: 0.7956600361663653%, Avg loss: 0.453642 \n",
      "\n",
      "Epoch 19\n",
      "loss: 0.371789  [   64/ 2215]\n",
      "Accuracy: 0.7848101265822784%, Avg loss: 0.453720 \n",
      "\n",
      "Epoch 20\n",
      "loss: 0.493557  [   64/ 2215]\n",
      "Accuracy: 0.7974683544303798%, Avg loss: 0.452335 \n",
      "\n",
      "DONE!\n"
     ]
    }
   ],
   "source": [
    "device = torch.accelerator.current_accelerator().type if torch.accelerator.is_available() else \"cpu\"\n",
    "writer = SummaryWriter(log_dir=f\"runs/experiment_initial\")\n",
    "class CustomDataset(Dataset):\n",
    "    def __init__(self, dataFrane):\n",
    "        self.data = dataFrane\n",
    "        \n",
    "    def __len__(self):\n",
    "        return len(self.data)\n",
    "    \n",
    "    def __getitem__(self, index):\n",
    "        row = self.data.iloc[index]\n",
    "        features = torch.tensor(row[:-1].values, dtype=torch.float32)\n",
    "        label = torch.tensor(row[-1], dtype=torch.float32).unsqueeze(0)  # shape [1]\n",
    "        return features, label\n",
    "\n",
    "def train(dataLoader, model, loss_fn, optimizer, epoch, writer):\n",
    "        size = len(dataLoader.dataset)\n",
    "        model.train() #set model to the training mode, it just switches internal setting\n",
    "        running_loss = 0.0\n",
    "        correct = 0\n",
    "        for batch, (X, y) in enumerate(dataLoader):\n",
    "            X, y = X.to(device), y.to(device)\n",
    "            predict = model(X)\n",
    "            loss = loss_fn(predict, y)\n",
    "            #backpropagation\n",
    "            loss.backward()\n",
    "            optimizer.step()\n",
    "            optimizer.zero_grad() #?\n",
    "            # Calculate accuracy for this batch\n",
    "            pred_binary = (predict >= 0.5).float()\n",
    "            correct += (pred_binary == y).sum().item()\n",
    "            running_loss += loss.item()\n",
    "            \n",
    "            if batch % 100 == 0:\n",
    "                loss, current = loss.item(), (batch + 1) * len(X)\n",
    "                print(f\"loss: {loss:>7f}  [{current:>5d}/{size:>5d}]\")\n",
    "        # Log training metrics to TensorBoard\n",
    "        avg_loss = running_loss / len(dataLoader)\n",
    "        accuracy = (correct / size) * 100\n",
    "        \n",
    "        writer.add_scalar('Loss/Train', avg_loss, epoch)\n",
    "        writer.add_scalar('Accuracy/Train', accuracy, epoch)\n",
    "                \n",
    "def test(dataloader, model, loss_fn, epoch, writer):\n",
    "    size = len(dataloader.dataset)\n",
    "    num_batches = len(dataloader)\n",
    "    model.eval()\n",
    "    test_loss, correct = 0, 0\n",
    "    with torch.no_grad():\n",
    "        for X, y in dataloader:\n",
    "            X, y = X.to(device), y.to(device)\n",
    "            pred = model(X)\n",
    "            test_loss += loss_fn(pred, y).item()\n",
    "            pred = pred.flatten()\n",
    "            y = y.flatten()\n",
    "            for i in range(len(pred)):\n",
    "                predict = 1 if pred[i] >= 0.5 else 0\n",
    "                if predict == y[i]:\n",
    "                   correct += 1 \n",
    "    test_loss /= num_batches\n",
    "    correct /= size\n",
    "    writer.add_scalar('Loss/Test', test_loss, epoch)\n",
    "    writer.add_scalar('Accuracy/Test', correct, epoch)\n",
    "    print(f\"Accuracy: {correct}%, Avg loss: {test_loss:>8f} \\n\")\n",
    "    return correct\n",
    "    \n",
    "    \n",
    "customDataset = CustomDataset(preprocessed_df)\n",
    "\n",
    "trainData, testData = random_split(customDataset, [0.8, 0.2])\n",
    "print(len(trainData))\n",
    "print(len(testData))\n",
    "trainDataLoader = DataLoader(trainData, batch_size=64, shuffle=True)\n",
    "testDataLoader = DataLoader(testData, batch_size=64, shuffle=False)\n",
    "model = NeuralNetwork().to(device)\n",
    "loss_fn = nn.BCELoss() # use binary cross entropy because we have 2 classes in target\n",
    "optimizer = torch.optim.SGD(model.parameters(), lr= 0.1) #??? changed SGD to adam\n",
    "\n",
    "epochs = 20\n",
    "for i in range(epochs):\n",
    "    print(f'Epoch {i + 1}')\n",
    "    train(trainDataLoader, model, loss_fn, optimizer, i, writer)\n",
    "    test(testDataLoader, model, loss_fn, i, writer)\n",
    "writer.close()\n",
    "print(\"DONE!\")"
   ]
  },
  {
   "cell_type": "markdown",
   "id": "b9dfbe52",
   "metadata": {},
   "source": [
    "---\n",
    "## **Set 2: Improve Model Performance (C-Level Tasks)**\n",
    "---"
   ]
  },
  {
   "cell_type": "markdown",
   "id": "cee7653f",
   "metadata": {},
   "source": [
    "### 1. Use TensorBoard to log loss and accuracy."
   ]
  },
  {
   "cell_type": "code",
   "execution_count": 14,
   "id": "a9fca04a",
   "metadata": {},
   "outputs": [
    {
     "name": "stdout",
     "output_type": "stream",
     "text": [
      "The tensorboard extension is already loaded. To reload it, use:\n",
      "  %reload_ext tensorboard\n"
     ]
    },
    {
     "data": {
      "text/plain": [
       "Reusing TensorBoard on port 6008 (pid 53039), started 0:00:02 ago. (Use '!kill 53039' to kill it.)"
      ]
     },
     "metadata": {},
     "output_type": "display_data"
    },
    {
     "data": {
      "text/html": [
       "\n",
       "      <iframe id=\"tensorboard-frame-c6c3b4ae7fe72431\" width=\"100%\" height=\"800\" frameborder=\"0\">\n",
       "      </iframe>\n",
       "      <script>\n",
       "        (function() {\n",
       "          const frame = document.getElementById(\"tensorboard-frame-c6c3b4ae7fe72431\");\n",
       "          const url = new URL(\"http://localhost\");\n",
       "          const port = 6008;\n",
       "          if (port) {\n",
       "            url.port = port;\n",
       "          }\n",
       "          frame.src = url;\n",
       "        })();\n",
       "      </script>\n",
       "    "
      ],
      "text/plain": [
       "<IPython.core.display.HTML object>"
      ]
     },
     "metadata": {},
     "output_type": "display_data"
    }
   ],
   "source": [
    "%load_ext tensorboard\n",
    "%tensorboard --logdir runs"
   ]
  },
  {
   "cell_type": "markdown",
   "id": "32d1e3f4",
   "metadata": {},
   "source": [
    "### 2. Modify the network architecture to improve performance."
   ]
  },
  {
   "cell_type": "markdown",
   "id": "bb05b8b9",
   "metadata": {},
   "source": [
    "- Change optimizer from SGD to Adam"
   ]
  },
  {
   "cell_type": "code",
   "execution_count": 15,
   "id": "39184784",
   "metadata": {},
   "outputs": [
    {
     "name": "stdout",
     "output_type": "stream",
     "text": [
      "Epoch 1\n",
      "loss: 0.653278  [   64/ 2215]\n"
     ]
    },
    {
     "name": "stderr",
     "output_type": "stream",
     "text": [
      "/var/folders/7y/tb8vlfv937523rgqdlf0zjy40000gn/T/ipykernel_52476/3111156567.py:13: FutureWarning: Series.__getitem__ treating keys as positions is deprecated. In a future version, integer keys will always be treated as labels (consistent with DataFrame behavior). To access a value by position, use `ser.iloc[pos]`\n",
      "  label = torch.tensor(row[-1], dtype=torch.float32).unsqueeze(0)  # shape [1]\n"
     ]
    },
    {
     "name": "stdout",
     "output_type": "stream",
     "text": [
      "Accuracy: 0.7685352622061483%, Avg loss: 0.474521 \n",
      "\n",
      "Epoch 2\n",
      "loss: 0.424668  [   64/ 2215]\n",
      "Accuracy: 0.7540687160940326%, Avg loss: 0.472981 \n",
      "\n",
      "Epoch 3\n",
      "loss: 0.446974  [   64/ 2215]\n",
      "Accuracy: 0.7377938517179023%, Avg loss: 0.503331 \n",
      "\n",
      "Epoch 4\n",
      "loss: 0.305966  [   64/ 2215]\n",
      "Accuracy: 0.7920433996383364%, Avg loss: 0.451672 \n",
      "\n",
      "Epoch 5\n",
      "loss: 0.372344  [   64/ 2215]\n",
      "Accuracy: 0.783001808318264%, Avg loss: 0.444337 \n",
      "\n",
      "Epoch 6\n",
      "loss: 0.417786  [   64/ 2215]\n",
      "Accuracy: 0.7486437613019892%, Avg loss: 0.510648 \n",
      "\n",
      "Epoch 7\n",
      "loss: 0.375899  [   64/ 2215]\n",
      "Accuracy: 0.7884267631103075%, Avg loss: 0.454797 \n",
      "\n",
      "Epoch 8\n",
      "loss: 0.434355  [   64/ 2215]\n",
      "Accuracy: 0.7992766726943942%, Avg loss: 0.456138 \n",
      "\n",
      "Epoch 9\n",
      "loss: 0.388336  [   64/ 2215]\n",
      "Accuracy: 0.7992766726943942%, Avg loss: 0.439251 \n",
      "\n",
      "Epoch 10\n",
      "loss: 0.344048  [   64/ 2215]\n",
      "Accuracy: 0.8028933092224232%, Avg loss: 0.457008 \n",
      "\n",
      "Epoch 11\n",
      "loss: 0.291002  [   64/ 2215]\n",
      "Accuracy: 0.7974683544303798%, Avg loss: 0.460941 \n",
      "\n",
      "Epoch 12\n",
      "loss: 0.252735  [   64/ 2215]\n",
      "Accuracy: 0.8119349005424955%, Avg loss: 0.418541 \n",
      "\n",
      "Epoch 13\n",
      "loss: 0.328769  [   64/ 2215]\n",
      "Accuracy: 0.779385171790235%, Avg loss: 0.473193 \n",
      "\n",
      "Epoch 14\n",
      "loss: 0.285976  [   64/ 2215]\n",
      "Accuracy: 0.8083182640144665%, Avg loss: 0.388329 \n",
      "\n",
      "Epoch 15\n",
      "loss: 0.347237  [   64/ 2215]\n",
      "Accuracy: 0.8173598553345389%, Avg loss: 0.403853 \n",
      "\n",
      "Epoch 16\n",
      "loss: 0.300398  [   64/ 2215]\n",
      "Accuracy: 0.7757685352622061%, Avg loss: 0.469180 \n",
      "\n",
      "Epoch 17\n",
      "loss: 0.348201  [   64/ 2215]\n",
      "Accuracy: 0.7920433996383364%, Avg loss: 0.449180 \n",
      "\n",
      "Epoch 18\n",
      "loss: 0.403742  [   64/ 2215]\n",
      "Accuracy: 0.8318264014466547%, Avg loss: 0.418177 \n",
      "\n",
      "Epoch 19\n",
      "loss: 0.339548  [   64/ 2215]\n",
      "Accuracy: 0.8264014466546112%, Avg loss: 0.410969 \n",
      "\n",
      "Epoch 20\n",
      "loss: 0.270576  [   64/ 2215]\n",
      "Accuracy: 0.833634719710669%, Avg loss: 0.388560 \n",
      "\n",
      "Epoch 21\n",
      "loss: 0.271120  [   64/ 2215]\n",
      "Accuracy: 0.8282097649186256%, Avg loss: 0.411918 \n",
      "\n",
      "Epoch 22\n",
      "loss: 0.361675  [   64/ 2215]\n",
      "Accuracy: 0.8119349005424955%, Avg loss: 0.429477 \n",
      "\n",
      "Epoch 23\n",
      "loss: 0.370055  [   64/ 2215]\n",
      "Accuracy: 0.8227848101265823%, Avg loss: 0.406350 \n",
      "\n",
      "Epoch 24\n",
      "loss: 0.309979  [   64/ 2215]\n",
      "Accuracy: 0.8173598553345389%, Avg loss: 0.415822 \n",
      "\n",
      "Epoch 25\n",
      "loss: 0.441684  [   64/ 2215]\n",
      "Accuracy: 0.8155515370705244%, Avg loss: 0.419224 \n",
      "\n",
      "Epoch 26\n",
      "loss: 0.309929  [   64/ 2215]\n",
      "Accuracy: 0.8300180831826401%, Avg loss: 0.359063 \n",
      "\n",
      "Epoch 27\n",
      "loss: 0.337557  [   64/ 2215]\n",
      "Accuracy: 0.8517179023508138%, Avg loss: 0.371860 \n",
      "\n",
      "Epoch 28\n",
      "loss: 0.187549  [   64/ 2215]\n",
      "Accuracy: 0.840867992766727%, Avg loss: 0.402734 \n",
      "\n",
      "Epoch 29\n",
      "loss: 0.298084  [   64/ 2215]\n",
      "Accuracy: 0.8444846292947559%, Avg loss: 0.428549 \n",
      "\n",
      "Epoch 30\n",
      "loss: 0.248404  [   64/ 2215]\n",
      "Accuracy: 0.8372513562386981%, Avg loss: 0.415701 \n",
      "\n",
      "Epoch 31\n",
      "loss: 0.329866  [   64/ 2215]\n",
      "Accuracy: 0.8119349005424955%, Avg loss: 0.432266 \n",
      "\n",
      "Epoch 32\n",
      "loss: 0.331011  [   64/ 2215]\n",
      "Accuracy: 0.8173598553345389%, Avg loss: 0.383398 \n",
      "\n",
      "Epoch 33\n",
      "loss: 0.243819  [   64/ 2215]\n",
      "Accuracy: 0.8227848101265823%, Avg loss: 0.383740 \n",
      "\n",
      "Epoch 34\n",
      "loss: 0.257976  [   64/ 2215]\n",
      "Accuracy: 0.8354430379746836%, Avg loss: 0.384542 \n",
      "\n",
      "Epoch 35\n",
      "loss: 0.246248  [   64/ 2215]\n",
      "Accuracy: 0.8209764918625678%, Avg loss: 0.427398 \n",
      "\n",
      "Epoch 36\n",
      "loss: 0.383096  [   64/ 2215]\n",
      "Accuracy: 0.8354430379746836%, Avg loss: 0.400681 \n",
      "\n",
      "Epoch 37\n",
      "loss: 0.314350  [   64/ 2215]\n",
      "Accuracy: 0.8083182640144665%, Avg loss: 0.407387 \n",
      "\n",
      "Epoch 38\n",
      "loss: 0.368456  [   64/ 2215]\n",
      "Accuracy: 0.8173598553345389%, Avg loss: 0.440995 \n",
      "\n",
      "Epoch 39\n",
      "loss: 0.318408  [   64/ 2215]\n",
      "Accuracy: 0.833634719710669%, Avg loss: 0.380321 \n",
      "\n",
      "Epoch 40\n",
      "loss: 0.344619  [   64/ 2215]\n",
      "Accuracy: 0.8390596745027125%, Avg loss: 0.366157 \n",
      "\n",
      "Epoch 41\n",
      "loss: 0.207002  [   64/ 2215]\n",
      "Accuracy: 0.833634719710669%, Avg loss: 0.375327 \n",
      "\n",
      "Epoch 42\n",
      "loss: 0.313339  [   64/ 2215]\n",
      "Accuracy: 0.8173598553345389%, Avg loss: 0.407122 \n",
      "\n",
      "Epoch 43\n",
      "loss: 0.219035  [   64/ 2215]\n",
      "Accuracy: 0.8010849909584087%, Avg loss: 0.401544 \n",
      "\n",
      "Epoch 44\n",
      "loss: 0.265423  [   64/ 2215]\n",
      "Accuracy: 0.8173598553345389%, Avg loss: 0.394008 \n",
      "\n",
      "Epoch 45\n",
      "loss: 0.293686  [   64/ 2215]\n",
      "Accuracy: 0.8028933092224232%, Avg loss: 0.398662 \n",
      "\n",
      "Epoch 46\n",
      "loss: 0.365944  [   64/ 2215]\n",
      "Accuracy: 0.8390596745027125%, Avg loss: 0.358864 \n",
      "\n",
      "Epoch 47\n",
      "loss: 0.336040  [   64/ 2215]\n",
      "Accuracy: 0.833634719710669%, Avg loss: 0.409367 \n",
      "\n",
      "Epoch 48\n",
      "loss: 0.457751  [   64/ 2215]\n",
      "Accuracy: 0.8209764918625678%, Avg loss: 0.418006 \n",
      "\n",
      "Epoch 49\n",
      "loss: 0.245768  [   64/ 2215]\n",
      "Accuracy: 0.8137432188065099%, Avg loss: 0.459789 \n",
      "\n",
      "Epoch 50\n",
      "loss: 0.212606  [   64/ 2215]\n",
      "Accuracy: 0.8264014466546112%, Avg loss: 0.417869 \n",
      "\n",
      "DONE!\n"
     ]
    }
   ],
   "source": [
    "writer = SummaryWriter(log_dir=f\"runs/experiment_adam\")\n",
    "trainDataLoader = DataLoader(trainData, batch_size = 64, shuffle=True)\n",
    "testDataLoader = DataLoader(testData, batch_size = 64, shuffle=False)\n",
    "model = NeuralNetwork().to(device)\n",
    "loss_fn = nn.BCELoss() # use binary cross entropy because we have 2 classes in target\n",
    "optimizer = torch.optim.Adam(model.parameters(), lr= 0.1) #??? changed SGD to adam\n",
    "\n",
    "epochs = 50\n",
    "for i in range(epochs):\n",
    "    print(f'Epoch {i + 1}')\n",
    "    train(trainDataLoader, model, loss_fn, optimizer, i, writer)\n",
    "    test(testDataLoader, model, loss_fn, i, writer)\n",
    "writer.close()\n",
    "print(\"DONE!\")"
   ]
  },
  {
   "cell_type": "markdown",
   "id": "db5c66fa",
   "metadata": {},
   "source": [
    "### 3. Apply machine learning principles to adjust training configurations (e.g., learning rate, batch size).\n",
    "- Reduce the learning rate from 0.1 to 0.01\n",
    "- Reduce batch_size from 64 to 32"
   ]
  },
  {
   "cell_type": "code",
   "execution_count": 16,
   "id": "0d2d14c5",
   "metadata": {},
   "outputs": [
    {
     "name": "stdout",
     "output_type": "stream",
     "text": [
      "Epoch 1\n",
      "loss: 0.711426  [   32/ 2215]\n"
     ]
    },
    {
     "name": "stderr",
     "output_type": "stream",
     "text": [
      "/var/folders/7y/tb8vlfv937523rgqdlf0zjy40000gn/T/ipykernel_52476/3111156567.py:13: FutureWarning: Series.__getitem__ treating keys as positions is deprecated. In a future version, integer keys will always be treated as labels (consistent with DataFrame behavior). To access a value by position, use `ser.iloc[pos]`\n",
      "  label = torch.tensor(row[-1], dtype=torch.float32).unsqueeze(0)  # shape [1]\n"
     ]
    },
    {
     "name": "stdout",
     "output_type": "stream",
     "text": [
      "Accuracy: 0.7685352622061483%, Avg loss: 0.461930 \n",
      "\n",
      "Epoch 2\n",
      "loss: 0.449679  [   32/ 2215]\n",
      "Accuracy: 0.7811934900542495%, Avg loss: 0.457554 \n",
      "\n",
      "Epoch 3\n",
      "loss: 0.394706  [   32/ 2215]\n",
      "Accuracy: 0.7938517179023508%, Avg loss: 0.458033 \n",
      "\n",
      "Epoch 4\n",
      "loss: 0.318973  [   32/ 2215]\n",
      "Accuracy: 0.7974683544303798%, Avg loss: 0.447750 \n",
      "\n",
      "Epoch 5\n",
      "loss: 0.397586  [   32/ 2215]\n",
      "Accuracy: 0.783001808318264%, Avg loss: 0.453254 \n",
      "\n",
      "Epoch 6\n",
      "loss: 0.407824  [   32/ 2215]\n",
      "Accuracy: 0.8028933092224232%, Avg loss: 0.452732 \n",
      "\n",
      "Epoch 7\n",
      "loss: 0.313394  [   32/ 2215]\n",
      "Accuracy: 0.7992766726943942%, Avg loss: 0.458248 \n",
      "\n",
      "Epoch 8\n",
      "loss: 0.311481  [   32/ 2215]\n",
      "Accuracy: 0.8083182640144665%, Avg loss: 0.438728 \n",
      "\n",
      "Epoch 9\n",
      "loss: 0.213203  [   32/ 2215]\n",
      "Accuracy: 0.8137432188065099%, Avg loss: 0.435437 \n",
      "\n",
      "Epoch 10\n",
      "loss: 0.218311  [   32/ 2215]\n",
      "Accuracy: 0.7956600361663653%, Avg loss: 0.447661 \n",
      "\n",
      "Epoch 11\n",
      "loss: 0.372598  [   32/ 2215]\n",
      "Accuracy: 0.8065099457504521%, Avg loss: 0.417081 \n",
      "\n",
      "Epoch 12\n",
      "loss: 0.315161  [   32/ 2215]\n",
      "Accuracy: 0.7721518987341772%, Avg loss: 0.461775 \n",
      "\n",
      "Epoch 13\n",
      "loss: 0.435002  [   32/ 2215]\n",
      "Accuracy: 0.8083182640144665%, Avg loss: 0.415220 \n",
      "\n",
      "Epoch 14\n",
      "loss: 0.303910  [   32/ 2215]\n",
      "Accuracy: 0.8065099457504521%, Avg loss: 0.424084 \n",
      "\n",
      "Epoch 15\n",
      "loss: 0.330014  [   32/ 2215]\n",
      "Accuracy: 0.8264014466546112%, Avg loss: 0.404042 \n",
      "\n",
      "Epoch 16\n",
      "loss: 0.376240  [   32/ 2215]\n",
      "Accuracy: 0.8245931283905967%, Avg loss: 0.403170 \n",
      "\n",
      "Epoch 17\n",
      "loss: 0.335569  [   32/ 2215]\n",
      "Accuracy: 0.7974683544303798%, Avg loss: 0.434681 \n",
      "\n",
      "Epoch 18\n",
      "loss: 0.288940  [   32/ 2215]\n",
      "Accuracy: 0.8119349005424955%, Avg loss: 0.424869 \n",
      "\n",
      "Epoch 19\n",
      "loss: 0.314378  [   32/ 2215]\n",
      "Accuracy: 0.8245931283905967%, Avg loss: 0.398197 \n",
      "\n",
      "Epoch 20\n",
      "loss: 0.346291  [   32/ 2215]\n",
      "Accuracy: 0.8282097649186256%, Avg loss: 0.400720 \n",
      "\n",
      "Epoch 21\n",
      "loss: 0.245300  [   32/ 2215]\n",
      "Accuracy: 0.8155515370705244%, Avg loss: 0.429409 \n",
      "\n",
      "Epoch 22\n",
      "loss: 0.310588  [   32/ 2215]\n",
      "Accuracy: 0.8282097649186256%, Avg loss: 0.413969 \n",
      "\n",
      "Epoch 23\n",
      "loss: 0.190833  [   32/ 2215]\n",
      "Accuracy: 0.8191681735985533%, Avg loss: 0.428015 \n",
      "\n",
      "Epoch 24\n",
      "loss: 0.306052  [   32/ 2215]\n",
      "Accuracy: 0.8318264014466547%, Avg loss: 0.396974 \n",
      "\n",
      "Epoch 25\n",
      "loss: 0.397261  [   32/ 2215]\n",
      "Accuracy: 0.8282097649186256%, Avg loss: 0.395404 \n",
      "\n",
      "Epoch 26\n",
      "loss: 0.475938  [   32/ 2215]\n",
      "Accuracy: 0.8264014466546112%, Avg loss: 0.402938 \n",
      "\n",
      "Epoch 27\n",
      "loss: 0.273965  [   32/ 2215]\n",
      "Accuracy: 0.8318264014466547%, Avg loss: 0.385031 \n",
      "\n",
      "Epoch 28\n",
      "loss: 0.360983  [   32/ 2215]\n",
      "Accuracy: 0.8173598553345389%, Avg loss: 0.424474 \n",
      "\n",
      "Epoch 29\n",
      "loss: 0.307420  [   32/ 2215]\n",
      "Accuracy: 0.8318264014466547%, Avg loss: 0.398732 \n",
      "\n",
      "Epoch 30\n",
      "loss: 0.243927  [   32/ 2215]\n",
      "Accuracy: 0.8535262206148282%, Avg loss: 0.358618 \n",
      "\n",
      "Epoch 31\n",
      "loss: 0.221290  [   32/ 2215]\n",
      "Accuracy: 0.8462929475587704%, Avg loss: 0.368741 \n",
      "\n",
      "Epoch 32\n",
      "loss: 0.221212  [   32/ 2215]\n",
      "Accuracy: 0.840867992766727%, Avg loss: 0.366865 \n",
      "\n",
      "Epoch 33\n",
      "loss: 0.289733  [   32/ 2215]\n",
      "Accuracy: 0.8318264014466547%, Avg loss: 0.394370 \n",
      "\n",
      "Epoch 34\n",
      "loss: 0.229534  [   32/ 2215]\n",
      "Accuracy: 0.840867992766727%, Avg loss: 0.383663 \n",
      "\n",
      "Epoch 35\n",
      "loss: 0.178748  [   32/ 2215]\n",
      "Accuracy: 0.8300180831826401%, Avg loss: 0.400350 \n",
      "\n",
      "Epoch 36\n",
      "loss: 0.247545  [   32/ 2215]\n",
      "Accuracy: 0.840867992766727%, Avg loss: 0.373802 \n",
      "\n",
      "Epoch 37\n",
      "loss: 0.150042  [   32/ 2215]\n",
      "Accuracy: 0.8517179023508138%, Avg loss: 0.362207 \n",
      "\n",
      "Epoch 38\n",
      "loss: 0.172084  [   32/ 2215]\n",
      "Accuracy: 0.840867992766727%, Avg loss: 0.351109 \n",
      "\n",
      "Epoch 39\n",
      "loss: 0.208580  [   32/ 2215]\n",
      "Accuracy: 0.8462929475587704%, Avg loss: 0.361793 \n",
      "\n",
      "Epoch 40\n",
      "loss: 0.177072  [   32/ 2215]\n",
      "Accuracy: 0.8607594936708861%, Avg loss: 0.351189 \n",
      "\n",
      "Epoch 41\n",
      "loss: 0.194524  [   32/ 2215]\n",
      "Accuracy: 0.8372513562386981%, Avg loss: 0.362999 \n",
      "\n",
      "Epoch 42\n",
      "loss: 0.240081  [   32/ 2215]\n",
      "Accuracy: 0.8426763110307414%, Avg loss: 0.359051 \n",
      "\n",
      "Epoch 43\n",
      "loss: 0.284916  [   32/ 2215]\n",
      "Accuracy: 0.8517179023508138%, Avg loss: 0.327733 \n",
      "\n",
      "Epoch 44\n",
      "loss: 0.472999  [   32/ 2215]\n",
      "Accuracy: 0.8462929475587704%, Avg loss: 0.352841 \n",
      "\n",
      "Epoch 45\n",
      "loss: 0.149548  [   32/ 2215]\n",
      "Accuracy: 0.8390596745027125%, Avg loss: 0.366675 \n",
      "\n",
      "Epoch 46\n",
      "loss: 0.257294  [   32/ 2215]\n",
      "Accuracy: 0.8607594936708861%, Avg loss: 0.334861 \n",
      "\n",
      "Epoch 47\n",
      "loss: 0.188985  [   32/ 2215]\n",
      "Accuracy: 0.8499095840867993%, Avg loss: 0.341086 \n",
      "\n",
      "Epoch 48\n",
      "loss: 0.157748  [   32/ 2215]\n",
      "Accuracy: 0.8589511754068716%, Avg loss: 0.330864 \n",
      "\n",
      "Epoch 49\n",
      "loss: 0.246568  [   32/ 2215]\n",
      "Accuracy: 0.864376130198915%, Avg loss: 0.345561 \n",
      "\n",
      "Epoch 50\n",
      "loss: 0.321376  [   32/ 2215]\n",
      "Accuracy: 0.8499095840867993%, Avg loss: 0.343417 \n",
      "\n",
      "DONE!\n"
     ]
    }
   ],
   "source": [
    "writer = SummaryWriter(log_dir=f\"runs/experiment_rl_batch\")\n",
    "trainDataLoader = DataLoader(trainData, batch_size = 32, shuffle=True)\n",
    "testDataLoader = DataLoader(testData, batch_size = 32, shuffle=False)\n",
    "model = NeuralNetwork().to(device)\n",
    "loss_fn = nn.BCELoss() # use binary cross entropy because we have 2 classes in target\n",
    "optimizer = torch.optim.Adam(model.parameters(), lr= 0.01) #??? changed SGD to adam\n",
    "\n",
    "epochs = 50\n",
    "for i in range(epochs):\n",
    "    print(f'Epoch {i + 1}')\n",
    "    train(trainDataLoader, model, loss_fn, optimizer, i, writer)\n",
    "    test(testDataLoader, model, loss_fn, i, writer)\n",
    "writer.close()\n",
    "print(\"DONE!\")"
   ]
  },
  {
   "cell_type": "markdown",
   "id": "f743268f",
   "metadata": {},
   "source": [
    "### 4. Analyse model training using TensorBoard and compare different runs."
   ]
  },
  {
   "cell_type": "code",
   "execution_count": 17,
   "id": "6782d634",
   "metadata": {},
   "outputs": [
    {
     "name": "stdout",
     "output_type": "stream",
     "text": [
      "The tensorboard extension is already loaded. To reload it, use:\n",
      "  %reload_ext tensorboard\n"
     ]
    },
    {
     "data": {
      "text/plain": [
       "Reusing TensorBoard on port 6008 (pid 53039), started 0:01:30 ago. (Use '!kill 53039' to kill it.)"
      ]
     },
     "metadata": {},
     "output_type": "display_data"
    },
    {
     "data": {
      "text/html": [
       "\n",
       "      <iframe id=\"tensorboard-frame-e8cea93b51a34e2e\" width=\"100%\" height=\"800\" frameborder=\"0\">\n",
       "      </iframe>\n",
       "      <script>\n",
       "        (function() {\n",
       "          const frame = document.getElementById(\"tensorboard-frame-e8cea93b51a34e2e\");\n",
       "          const url = new URL(\"http://localhost\");\n",
       "          const port = 6008;\n",
       "          if (port) {\n",
       "            url.port = port;\n",
       "          }\n",
       "          frame.src = url;\n",
       "        })();\n",
       "      </script>\n",
       "    "
      ],
      "text/plain": [
       "<IPython.core.display.HTML object>"
      ]
     },
     "metadata": {},
     "output_type": "display_data"
    }
   ],
   "source": [
    "%load_ext tensorboard\n",
    "%tensorboard --logdir runs"
   ]
  },
  {
   "cell_type": "markdown",
   "id": "80f9b8e2",
   "metadata": {},
   "source": [
    "Using TensorBoard, we compared three different training configurations:\n",
    "\n",
    "- **Gray line**\n",
    "  - `optimizer = SGD`, `lr = 0.1`, `batch_size = 64`, `epochs = 20`\n",
    "  - **Lowest performance**, final accuracy around 78–79%\n",
    "  - High learning rate with SGD caused instability; fewer epochs limited learning\n",
    "\n",
    "- **Blue line**\n",
    "  - `optimizer = Adam`, `lr = 0.1`, `batch_size = 64`, `epochs = 50`\n",
    "  - Moderate performance, accuracy plateaued early at ~85%\n",
    "  - Learning rate of 0.1 is **too aggressive** for Adam, causing suboptimal convergence\n",
    "\n",
    "- **Red line**\n",
    "  - `optimizer = Adam`, `lr = 0.01`, `batch_size = 32`, `epochs = 50`\n",
    "  - **Best performance**, reaching ~89% accuracy\n",
    "  - Stable training curve with consistent improvements\n",
    "  - Smaller batch size and lower learning rate helped generalization and stability\n",
    "\n",
    "### 5. Justify Design Choices Based on Practical Outcomes\n",
    "\n",
    "Based on the TensorBoard results:\n",
    "\n",
    "- **Adam** is preferred over SGD for its adaptive learning and faster convergence\n",
    "- A **lower learning rate (0.01)** ensures stability and smoother optimization\n",
    "- **Smaller batch size (32)** improves gradient diversity and generalization\n",
    "- **Training longer (50 epochs)** allows the model to learn more effectively\n",
    "\n"
   ]
  },
  {
   "cell_type": "markdown",
   "id": "761a8648",
   "metadata": {},
   "source": [
    "---\n",
    "\n",
    "## **Set 3 Ethical Analysis and Model Evaluation (D-Level Tasks)**\n",
    "\n",
    "---\n",
    "\n",
    "### 1. Analyze dataset biases programmatically by visualising class distributions and measuring imbalances. Assess how these biases impact model performance.\n",
    "\n",
    "\n"
   ]
  },
  {
   "cell_type": "markdown",
   "id": "901ecbb8",
   "metadata": {},
   "source": [
    "\n",
    "#### Visualizing Class Distribution"
   ]
  },
  {
   "cell_type": "code",
   "execution_count": 18,
   "id": "d21a60cd",
   "metadata": {},
   "outputs": [
    {
     "name": "stderr",
     "output_type": "stream",
     "text": [
      "/var/folders/7y/tb8vlfv937523rgqdlf0zjy40000gn/T/ipykernel_52476/480426488.py:5: FutureWarning: \n",
      "\n",
      "Passing `palette` without assigning `hue` is deprecated and will be removed in v0.14.0. Assign the `x` variable to `hue` and set `legend=False` for the same effect.\n",
      "\n",
      "  sns.barplot(x=outcome_counts.index.astype(str), y=outcome_counts.values, palette='pastel')\n"
     ]
    },
    {
     "data": {
      "image/png": "[encoded data removed]",
      "text/plain": [
       "<Figure size 600x400 with 1 Axes>"
      ]
     },
     "metadata": {},
     "output_type": "display_data"
    }
   ],
   "source": [
    "outcome_counts = df_imputed['Outcome'].value_counts().sort_index()\n",
    "\n",
    "# Bar chart for imbalance\n",
    "plt.figure(figsize=(6, 4))\n",
    "sns.barplot(x=outcome_counts.index.astype(str), y=outcome_counts.values, palette='pastel')\n",
    "plt.title(\"Class Distribution of Outcome (0 = No Diabetes, 1 = Diabetes)\")\n",
    "plt.xlabel(\"Outcome\")\n",
    "plt.ylabel(\"Number of Samples\")\n",
    "plt.xticks([0, 1], ['No Diabetes (0)', 'Diabetes (1)'])\n",
    "plt.grid(axis='y', linestyle='--', alpha=0.6)\n",
    "plt.tight_layout()\n",
    "plt.show()"
   ]
  },
  {
   "cell_type": "markdown",
   "id": "994b1462",
   "metadata": {},
   "source": [
    "\n",
    "\n",
    "The bar chart above shows the distribution of the `Outcome` variable (0 = No Diabetes, 1 = Diabetes):\n",
    "\n",
    "- Class 0 (No Diabetes): ~1,800 samples  \n",
    "- Class 1 (Diabetes): ~960 samples  \n",
    "\n",
    "This indicates a moderate class imbalance, with the majority class making up about **65%** of the data.\n",
    "\n",
    "#### Bias Assessment and Impact on Model Performance\n",
    "\n",
    "**A. Class Imbalance**\n",
    "\n",
    "- The dataset is not balanced, and this affects the ability of the model to generalize.\n",
    "- A naive classifier could achieve ~65% accuracy by always predicting the majority class (`0`).\n",
    "- This leads to poor recall and F1-score for the minority class (`1`), which is critical in medical diagnosis tasks.\n",
    "\n",
    "**B. Real-World Implications**\n",
    "\n",
    "- The model becomes biased toward predicting 'No Diabetes'.\n",
    "- It may fail to detect true diabetic cases, leading to false negatives.\n",
    "- In real-world applications like healthcare, this kind of bias can result in serious consequences.\n",
    "\n",
    "#### Mitigation Strategies\n",
    "\n",
    "To reduce the negative effects of this imbalance:\n",
    "\n",
    "1. Oversampling the minority class, e.g., using **SMOTE**.\n",
    "2. Using class weights in the loss function, such as `BCEWithLogitsLoss(pos_weight=...)`.\n",
    "3. Evaluating with metrics like precision, recall, and F1-score rather than just accuracy.\n",
    "\n",
    "\n"
   ]
  },
  {
   "cell_type": "markdown",
   "id": "4f96ada3",
   "metadata": {},
   "source": [
    "### 2. Experiment with mitigation techniques, such as rebalancing the dataset, modifying loss functions, or applying bias correction strategies. Compare results."
   ]
  },
  {
   "cell_type": "markdown",
   "id": "113f5a90",
   "metadata": {},
   "source": [
    "**Use SMOTE to rebalance data**"
   ]
  },
  {
   "cell_type": "markdown",
   "id": "6eb3a81a",
   "metadata": {},
   "source": [
    "SMOTE (Synthetic Minority Over-sampling Technique) is a method used to balance imbalanced datasets by generating synthetic samples for the minority class. Instead of simply duplicating existing minority examples, SMOTE creates new, artificial samples by interpolating between a minority instance and its nearest neighbors. This helps machine learning models better learn minority class patterns and improves classification performance on imbalanced data"
   ]
  },
  {
   "cell_type": "code",
   "execution_count": 19,
   "id": "dce4a9bc",
   "metadata": {},
   "outputs": [],
   "source": [
    "smote = SMOTE(random_state=42)\n",
    "X_resampled, y_resampled = smote.fit_resample(X_scaled, y)\n",
    "\n",
    "preprocessed_df = pd.DataFrame(X_resampled, columns=X.columns)\n",
    "preprocessed_df['Outcome'] = y_resampled\n"
   ]
  },
  {
   "cell_type": "markdown",
   "id": "36610978",
   "metadata": {},
   "source": [
    "**Visualize the data distribution after applying rebalancing**"
   ]
  },
  {
   "cell_type": "code",
   "execution_count": 20,
   "id": "ef37bd92",
   "metadata": {},
   "outputs": [
    {
     "name": "stderr",
     "output_type": "stream",
     "text": [
      "/var/folders/7y/tb8vlfv937523rgqdlf0zjy40000gn/T/ipykernel_52476/3792209195.py:5: FutureWarning: \n",
      "\n",
      "Passing `palette` without assigning `hue` is deprecated and will be removed in v0.14.0. Assign the `x` variable to `hue` and set `legend=False` for the same effect.\n",
      "\n",
      "  sns.barplot(x=outcome_counts.index.astype(str), y=outcome_counts.values, palette='pastel')\n"
     ]
    },
    {
     "data": {
      "image/png": "[encoded data removed]",
      "text/plain": [
       "<Figure size 600x400 with 1 Axes>"
      ]
     },
     "metadata": {},
     "output_type": "display_data"
    }
   ],
   "source": [
    "outcome_counts = preprocessed_df['Outcome'].value_counts().sort_index()\n",
    "\n",
    "# Bar chart for imbalance\n",
    "plt.figure(figsize=(6, 4))\n",
    "sns.barplot(x=outcome_counts.index.astype(str), y=outcome_counts.values, palette='pastel')\n",
    "plt.title(\"Class Distribution of Outcome (0 = No Diabetes, 1 = Diabetes)\")\n",
    "plt.xlabel(\"Outcome\")\n",
    "plt.ylabel(\"Number of Samples\")\n",
    "plt.xticks([0, 1], ['No Diabetes (0)', 'Diabetes (1)'])\n",
    "plt.grid(axis='y', linestyle='--', alpha=0.6)\n",
    "plt.tight_layout()\n",
    "plt.show()"
   ]
  },
  {
   "cell_type": "code",
   "execution_count": 21,
   "id": "9263739f",
   "metadata": {},
   "outputs": [
    {
     "name": "stdout",
     "output_type": "stream",
     "text": [
      "Epoch 1\n",
      "loss: 0.704155  [   32/ 2906]\n"
     ]
    },
    {
     "name": "stderr",
     "output_type": "stream",
     "text": [
      "/var/folders/7y/tb8vlfv937523rgqdlf0zjy40000gn/T/ipykernel_52476/3111156567.py:13: FutureWarning: Series.__getitem__ treating keys as positions is deprecated. In a future version, integer keys will always be treated as labels (consistent with DataFrame behavior). To access a value by position, use `ser.iloc[pos]`\n",
      "  label = torch.tensor(row[-1], dtype=torch.float32).unsqueeze(0)  # shape [1]\n"
     ]
    },
    {
     "name": "stdout",
     "output_type": "stream",
     "text": [
      "Accuracy: 0.7699724517906336%, Avg loss: 0.458176 \n",
      "\n",
      "Epoch 2\n",
      "loss: 0.428174  [   32/ 2906]\n",
      "Accuracy: 0.768595041322314%, Avg loss: 0.466572 \n",
      "\n",
      "Epoch 3\n",
      "loss: 0.358663  [   32/ 2906]\n",
      "Accuracy: 0.8016528925619835%, Avg loss: 0.437540 \n",
      "\n",
      "Epoch 4\n",
      "loss: 0.408733  [   32/ 2906]\n",
      "Accuracy: 0.8057851239669421%, Avg loss: 0.443329 \n",
      "\n",
      "Epoch 5\n",
      "loss: 0.387403  [   32/ 2906]\n",
      "Accuracy: 0.8044077134986226%, Avg loss: 0.444316 \n",
      "\n",
      "Epoch 6\n",
      "loss: 0.369046  [   32/ 2906]\n",
      "Accuracy: 0.8154269972451791%, Avg loss: 0.436966 \n",
      "\n",
      "Epoch 7\n",
      "loss: 0.559525  [   32/ 2906]\n",
      "Accuracy: 0.8071625344352618%, Avg loss: 0.430668 \n",
      "\n",
      "Epoch 8\n",
      "loss: 0.328432  [   32/ 2906]\n",
      "Accuracy: 0.8140495867768595%, Avg loss: 0.421821 \n",
      "\n",
      "Epoch 9\n",
      "loss: 0.331278  [   32/ 2906]\n",
      "Accuracy: 0.8099173553719008%, Avg loss: 0.428954 \n",
      "\n",
      "Epoch 10\n",
      "loss: 0.214347  [   32/ 2906]\n",
      "Accuracy: 0.8154269972451791%, Avg loss: 0.414528 \n",
      "\n",
      "Epoch 11\n",
      "loss: 0.255298  [   32/ 2906]\n",
      "Accuracy: 0.8292011019283747%, Avg loss: 0.422741 \n",
      "\n",
      "Epoch 12\n",
      "loss: 0.379039  [   32/ 2906]\n",
      "Accuracy: 0.8195592286501377%, Avg loss: 0.406981 \n",
      "\n",
      "Epoch 13\n",
      "loss: 0.401176  [   32/ 2906]\n",
      "Accuracy: 0.8360881542699724%, Avg loss: 0.401695 \n",
      "\n",
      "Epoch 14\n",
      "loss: 0.248007  [   32/ 2906]\n",
      "Accuracy: 0.8264462809917356%, Avg loss: 0.400552 \n",
      "\n",
      "Epoch 15\n",
      "loss: 0.269962  [   32/ 2906]\n",
      "Accuracy: 0.8195592286501377%, Avg loss: 0.400864 \n",
      "\n",
      "Epoch 16\n",
      "loss: 0.324679  [   32/ 2906]\n",
      "Accuracy: 0.8181818181818182%, Avg loss: 0.406846 \n",
      "\n",
      "Epoch 17\n",
      "loss: 0.278149  [   32/ 2906]\n",
      "Accuracy: 0.8319559228650137%, Avg loss: 0.381691 \n",
      "\n",
      "Epoch 18\n",
      "loss: 0.224094  [   32/ 2906]\n",
      "Accuracy: 0.8319559228650137%, Avg loss: 0.394230 \n",
      "\n",
      "Epoch 19\n",
      "loss: 0.248693  [   32/ 2906]\n",
      "Accuracy: 0.8264462809917356%, Avg loss: 0.400333 \n",
      "\n",
      "Epoch 20\n",
      "loss: 0.336106  [   32/ 2906]\n",
      "Accuracy: 0.8415977961432507%, Avg loss: 0.381920 \n",
      "\n",
      "Epoch 21\n",
      "loss: 0.244961  [   32/ 2906]\n",
      "Accuracy: 0.8388429752066116%, Avg loss: 0.394021 \n",
      "\n",
      "Epoch 22\n",
      "loss: 0.333144  [   32/ 2906]\n",
      "Accuracy: 0.837465564738292%, Avg loss: 0.378907 \n",
      "\n",
      "Epoch 23\n",
      "loss: 0.332512  [   32/ 2906]\n",
      "Accuracy: 0.8484848484848485%, Avg loss: 0.372199 \n",
      "\n",
      "Epoch 24\n",
      "loss: 0.297619  [   32/ 2906]\n",
      "Accuracy: 0.8305785123966942%, Avg loss: 0.408437 \n",
      "\n",
      "Epoch 25\n",
      "loss: 0.385276  [   32/ 2906]\n",
      "Accuracy: 0.8429752066115702%, Avg loss: 0.371625 \n",
      "\n",
      "Epoch 26\n",
      "loss: 0.358390  [   32/ 2906]\n",
      "Accuracy: 0.8429752066115702%, Avg loss: 0.366201 \n",
      "\n",
      "Epoch 27\n",
      "loss: 0.251074  [   32/ 2906]\n",
      "Accuracy: 0.8402203856749312%, Avg loss: 0.370400 \n",
      "\n",
      "Epoch 28\n",
      "loss: 0.468775  [   32/ 2906]\n",
      "Accuracy: 0.8567493112947658%, Avg loss: 0.357841 \n",
      "\n",
      "Epoch 29\n",
      "loss: 0.180497  [   32/ 2906]\n",
      "Accuracy: 0.8636363636363636%, Avg loss: 0.367254 \n",
      "\n",
      "Epoch 30\n",
      "loss: 0.254913  [   32/ 2906]\n",
      "Accuracy: 0.849862258953168%, Avg loss: 0.368338 \n",
      "\n",
      "Epoch 31\n",
      "loss: 0.207820  [   32/ 2906]\n",
      "Accuracy: 0.8484848484848485%, Avg loss: 0.343626 \n",
      "\n",
      "Epoch 32\n",
      "loss: 0.681672  [   32/ 2906]\n",
      "Accuracy: 0.8484848484848485%, Avg loss: 0.343060 \n",
      "\n",
      "Epoch 33\n",
      "loss: 0.099229  [   32/ 2906]\n",
      "Accuracy: 0.8512396694214877%, Avg loss: 0.352637 \n",
      "\n",
      "Epoch 34\n",
      "loss: 0.348632  [   32/ 2906]\n",
      "Accuracy: 0.8539944903581267%, Avg loss: 0.352379 \n",
      "\n",
      "Epoch 35\n",
      "loss: 0.328710  [   32/ 2906]\n",
      "Accuracy: 0.8608815426997245%, Avg loss: 0.345375 \n",
      "\n",
      "Epoch 36\n",
      "loss: 0.252611  [   32/ 2906]\n",
      "Accuracy: 0.8512396694214877%, Avg loss: 0.341964 \n",
      "\n",
      "Epoch 37\n",
      "loss: 0.323303  [   32/ 2906]\n",
      "Accuracy: 0.8636363636363636%, Avg loss: 0.342935 \n",
      "\n",
      "Epoch 38\n",
      "loss: 0.222189  [   32/ 2906]\n",
      "Accuracy: 0.8347107438016529%, Avg loss: 0.354834 \n",
      "\n",
      "Epoch 39\n",
      "loss: 0.239431  [   32/ 2906]\n",
      "Accuracy: 0.8581267217630854%, Avg loss: 0.344190 \n",
      "\n",
      "Epoch 40\n",
      "loss: 0.214195  [   32/ 2906]\n",
      "Accuracy: 0.859504132231405%, Avg loss: 0.326795 \n",
      "\n",
      "Epoch 41\n",
      "loss: 0.246884  [   32/ 2906]\n",
      "Accuracy: 0.871900826446281%, Avg loss: 0.351186 \n",
      "\n",
      "Epoch 42\n",
      "loss: 0.211014  [   32/ 2906]\n",
      "Accuracy: 0.8663911845730028%, Avg loss: 0.322103 \n",
      "\n",
      "Epoch 43\n",
      "loss: 0.185219  [   32/ 2906]\n",
      "Accuracy: 0.8636363636363636%, Avg loss: 0.333024 \n",
      "\n",
      "Epoch 44\n",
      "loss: 0.138262  [   32/ 2906]\n",
      "Accuracy: 0.8539944903581267%, Avg loss: 0.343250 \n",
      "\n",
      "Epoch 45\n",
      "loss: 0.262517  [   32/ 2906]\n",
      "Accuracy: 0.8650137741046832%, Avg loss: 0.325692 \n",
      "\n",
      "Epoch 46\n",
      "loss: 0.179060  [   32/ 2906]\n",
      "Accuracy: 0.8677685950413223%, Avg loss: 0.317100 \n",
      "\n",
      "Epoch 47\n",
      "loss: 0.224388  [   32/ 2906]\n",
      "Accuracy: 0.859504132231405%, Avg loss: 0.321740 \n",
      "\n",
      "Epoch 48\n",
      "loss: 0.270026  [   32/ 2906]\n",
      "Accuracy: 0.8760330578512396%, Avg loss: 0.318465 \n",
      "\n",
      "Epoch 49\n",
      "loss: 0.087286  [   32/ 2906]\n",
      "Accuracy: 0.8539944903581267%, Avg loss: 0.328598 \n",
      "\n",
      "Epoch 50\n",
      "loss: 0.196602  [   32/ 2906]\n",
      "Accuracy: 0.8842975206611571%, Avg loss: 0.297249 \n",
      "\n",
      "DONE!\n"
     ]
    }
   ],
   "source": [
    "customDataset = CustomDataset(preprocessed_df)\n",
    "\n",
    "trainData, testData = random_split(customDataset, [0.8, 0.2])\n",
    "\n",
    "writer = SummaryWriter(log_dir=f\"runs/experiment_blance_data\")\n",
    "trainDataLoader = DataLoader(trainData, batch_size = 32, shuffle=True)\n",
    "testDataLoader = DataLoader(testData, batch_size = 32, shuffle=False)\n",
    "model = NeuralNetwork().to(device)\n",
    "loss_fn = nn.BCELoss() # use binary cross entropy because we have 2 classes in target\n",
    "optimizer = torch.optim.Adam(model.parameters(), lr= 0.01) #??? changed SGD to adam\n",
    "\n",
    "epochs = 50\n",
    "for i in range(epochs):\n",
    "    print(f'Epoch {i + 1}')\n",
    "    train(trainDataLoader, model, loss_fn, optimizer, i, writer)\n",
    "    test(testDataLoader, model, loss_fn, i, writer)\n",
    "writer.close()\n",
    "print(\"DONE!\")"
   ]
  },
  {
   "cell_type": "code",
   "execution_count": 22,
   "id": "b3396bf7",
   "metadata": {},
   "outputs": [
    {
     "name": "stdout",
     "output_type": "stream",
     "text": [
      "The tensorboard extension is already loaded. To reload it, use:\n",
      "  %reload_ext tensorboard\n"
     ]
    },
    {
     "data": {
      "text/plain": [
       "Reusing TensorBoard on port 6008 (pid 53039), started 0:02:29 ago. (Use '!kill 53039' to kill it.)"
      ]
     },
     "metadata": {},
     "output_type": "display_data"
    },
    {
     "data": {
      "text/html": [
       "\n",
       "      <iframe id=\"tensorboard-frame-54c8cb4cdec5df64\" width=\"100%\" height=\"800\" frameborder=\"0\">\n",
       "      </iframe>\n",
       "      <script>\n",
       "        (function() {\n",
       "          const frame = document.getElementById(\"tensorboard-frame-54c8cb4cdec5df64\");\n",
       "          const url = new URL(\"http://localhost\");\n",
       "          const port = 6008;\n",
       "          if (port) {\n",
       "            url.port = port;\n",
       "          }\n",
       "          frame.src = url;\n",
       "        })();\n",
       "      </script>\n",
       "    "
      ],
      "text/plain": [
       "<IPython.core.display.HTML object>"
      ]
     },
     "metadata": {},
     "output_type": "display_data"
    }
   ],
   "source": [
    "%load_ext tensorboard\n",
    "%tensorboard --logdir runs"
   ]
  },
  {
   "cell_type": "markdown",
   "id": "1a881664",
   "metadata": {},
   "source": [
    "**Compare the result**\n",
    "\n",
    "The chart clearly shows that after rebalancing the data using SMOTE:\n",
    "\n",
    "- The model achieves the highest accuracy with a smooth and consistent training curve\n",
    "\n",
    "- SMOTE improves performance by balancing the class distribution, allowing the model to learn more effectively\n",
    "\n",
    "- This outcome highlights the effectiveness of bias mitigation strategies in improving model learning and fairness"
   ]
  },
  {
   "cell_type": "markdown",
   "id": "6a006db2",
   "metadata": {},
   "source": [
    "### 3. Evaluate model performance critically by testing it on diverse subsets of data and discussing the strengths and limitations based on empirical findings."
   ]
  },
  {
   "cell_type": "markdown",
   "id": "278c0cca",
   "metadata": {},
   "source": [
    "#### Test Diverse subsets by class"
   ]
  },
  {
   "cell_type": "markdown",
   "id": "c36a4d7d",
   "metadata": {},
   "source": [
    "The data will be split based on the Outcome feature.\n",
    "- Note: We only split the data for the test set, not for the training set."
   ]
  },
  {
   "cell_type": "code",
   "execution_count": 23,
   "id": "6cc6cbeb",
   "metadata": {},
   "outputs": [
    {
     "name": "stderr",
     "output_type": "stream",
     "text": [
      "/var/folders/7y/tb8vlfv937523rgqdlf0zjy40000gn/T/ipykernel_52476/3111156567.py:13: FutureWarning: Series.__getitem__ treating keys as positions is deprecated. In a future version, integer keys will always be treated as labels (consistent with DataFrame behavior). To access a value by position, use `ser.iloc[pos]`\n",
      "  label = torch.tensor(row[-1], dtype=torch.float32).unsqueeze(0)  # shape [1]\n"
     ]
    },
    {
     "name": "stdout",
     "output_type": "stream",
     "text": [
      "Accuracy: 0.948237885462555%, Avg loss: 0.185508 \n",
      "\n",
      "Accuracy: 0.8711453744493393%, Avg loss: 0.270396 \n",
      "\n",
      "accuracy_has_disease = 0.948237885462555\n",
      "accuracy_no_disease = 0.8711453744493393\n"
     ]
    }
   ],
   "source": [
    "dataFrameTest = testData.dataset.data\n",
    "has_disease = DataLoader(CustomDataset(dataFrameTest[dataFrameTest['Outcome'] == 1.0]), batch_size=64, shuffle=False)\n",
    "no_disease = DataLoader(CustomDataset(dataFrameTest[dataFrameTest['Outcome'] == 0.0]), batch_size=64, shuffle=False)\n",
    "accuracy_has_disease = test(has_disease, model, loss_fn, 0, writer)\n",
    "accuracy_no_disease = test(no_disease, model, loss_fn, 0, writer)\n",
    "print(f'accuracy_has_disease = {accuracy_has_disease}')\n",
    "print(f'accuracy_no_disease = {accuracy_no_disease}')"
   ]
  },
  {
   "cell_type": "markdown",
   "id": "d455e25b",
   "metadata": {},
   "source": [
    "#### Evaluate Model Performance on Imbalanced Data After SMOTE\n",
    "\n",
    "#### Empirical Findings\n",
    "\n",
    "The model was tested on two distinct subsets of the test data:\n",
    "\n",
    "- Patients with disease (`Outcome = 1`)\n",
    "- Patients without disease (`Outcome = 0`)\n",
    "\n",
    "#### Test Results\n",
    "\n",
    "- Accuracy on patients with disease: 94.00%\n",
    "- Accuracy on patients without disease: 87.00%\n",
    "\n",
    "---\n",
    "\n",
    "#### Analysis\n",
    "\n",
    "The model performs better on the disease class, which was originally the minority class. This suggests that it has effectively learned from the synthetic examples generated by SMOTE (Synthetic Minority Over-sampling Technique).\n",
    "\n",
    "> Note: We only applied SMOTE to rebalance the training set, not the test set.\n",
    "\n",
    "The strong performance on the disease class indicates that SMOTE helped the model pay more attention to underrepresented examples during training.\n",
    "\n",
    "However, the slightly lower accuracy on the non-disease class suggests minor overfitting to synthetic data. This is because synthetic samples can be cleaner or less noisy than real-world data, which may reduce generalization to real (majority class) patterns.\n",
    "\n",
    "---\n",
    "\n",
    "#### Strengths\n",
    "\n",
    "- Improved balance: SMOTE helped the model better recognize underrepresented disease cases.\n",
    "- High disease-class accuracy: Shows strong learning from the minority class.\n",
    "- Subgroup evaluation: Helps reveal how the model performs across different parts of the population.\n",
    "\n",
    "---\n",
    "\n",
    "#### Limitations\n",
    "\n",
    "- Synthetic vs. real data: SMOTE-generated data may not reflect the true variability found in real-world patient data.\n",
    "- Accuracy gap: The ~7% gap between disease and non-disease accuracy suggests the model could still benefit from fine-tuning or improved sampling.\n"
   ]
  },
  {
   "cell_type": "markdown",
   "id": "a429e0ad",
   "metadata": {},
   "source": [
    "---\n",
    "## **Set 4 Reproducing and Analyzing \"Grokking\" in Neural Networks (HD-Level Tasks)**\n",
    "---"
   ]
  },
  {
   "cell_type": "markdown",
   "id": "43047e35",
   "metadata": {},
   "source": [
    "### **1. Code for reproducing experiments (MNIST data)**"
   ]
  },
  {
   "cell_type": "markdown",
   "id": "24141d49",
   "metadata": {},
   "source": [
    "**A. Analyze data**\n"
   ]
  },
  {
   "cell_type": "code",
   "execution_count": 24,
   "id": "bf7cc99d",
   "metadata": {},
   "outputs": [
    {
     "name": "stdout",
     "output_type": "stream",
     "text": [
      "Original dataset: 70,000 total samples\n",
      "Sample size: 2,000 samples\n",
      "Classes: 10 digits (0-9)\n"
     ]
    },
    {
     "data": {
      "image/png": "[encoded data removed]",
      "text/plain": [
       "<Figure size 1000x600 with 1 Axes>"
      ]
     },
     "metadata": {},
     "output_type": "display_data"
    },
    {
     "name": "stdout",
     "output_type": "stream",
     "text": [
      "Sample distribution across 10 classes:\n",
      "  Digit 0: 189 samples (9.4%)\n",
      "  Digit 1: 216 samples (10.8%)\n",
      "  Digit 2: 190 samples (9.5%)\n",
      "  Digit 3: 230 samples (11.5%)\n",
      "  Digit 4: 158 samples (7.9%)\n",
      "  Digit 5: 200 samples (10.0%)\n",
      "  Digit 6: 205 samples (10.2%)\n",
      "  Digit 7: 204 samples (10.2%)\n",
      "  Digit 8: 200 samples (10.0%)\n",
      "  Digit 9: 208 samples (10.4%)\n"
     ]
    }
   ],
   "source": [
    "# Import essential libraries\n",
    "import numpy as np\n",
    "import matplotlib.pyplot as plt\n",
    "from tensorflow.keras.datasets import mnist\n",
    "from collections import Counter\n",
    "\n",
    "# Set style for better plots\n",
    "plt.rcParams['figure.figsize'] = (10, 6)\n",
    "\n",
    "# Load MNIST dataset and sample 2000 images\n",
    "(X_train, y_train), (X_test, y_test) = mnist.load_data()\n",
    "\n",
    "# Combine training and test data\n",
    "X_full = np.concatenate([X_train, X_test])\n",
    "y_full = np.concatenate([y_train, y_test])\n",
    "\n",
    "# Sample 2000 images randomly\n",
    "np.random.seed(42)  # For reproducible results\n",
    "sample_indices = np.random.choice(len(y_full), 2000, replace=False)\n",
    "y_sample = y_full[sample_indices]\n",
    "\n",
    "print(f\"Original dataset: {len(y_full):,} total samples\")\n",
    "print(f\"Sample size: {len(y_sample):,} samples\")\n",
    "print(f\"Classes: {len(np.unique(y_sample))} digits (0-9)\")\n",
    "\n",
    "# Class distribution analysis (2000 samples)\n",
    "sample_counts = Counter(y_sample)\n",
    "\n",
    "plt.figure(figsize=(10, 6))\n",
    "plt.bar(sample_counts.keys(), sample_counts.values(), color='skyblue', alpha=0.8)\n",
    "plt.title('MNIST Class Distribution (2000 Sample)', fontsize=14)\n",
    "plt.xlabel('Digit Class')\n",
    "plt.ylabel('Number of Samples')\n",
    "plt.grid(True, alpha=0.3)\n",
    "\n",
    "# Add count labels on bars\n",
    "for digit, count in sample_counts.items():\n",
    "    plt.text(digit, count + 5, f'{count}', ha='center', va='bottom')\n",
    "\n",
    "plt.tight_layout()\n",
    "plt.show()\n",
    "\n",
    "print(f\"Sample distribution across {len(sample_counts)} classes:\")\n",
    "for digit in range(10):\n",
    "    count = sample_counts.get(digit, 0)\n",
    "    percentage = (count / len(y_sample)) * 100\n",
    "    print(f\"  Digit {digit}: {count:3d} samples ({percentage:.1f}%)\")"
   ]
  },
  {
   "cell_type": "markdown",
   "id": "46993802",
   "metadata": {},
   "source": [
    "**Analyze data**\n",
    "\n",
    "The bar chart shows the class distribution of 2,000 MNIST digit samples.\n",
    "The distribution is slightly imbalanced: Digit 3 has the most samples (230), while digit 4 has the fewest (158).\n",
    "Most other digits have between 189–216 samples.This imbalance could affect model performance, favoring digits with more samples."
   ]
  },
  {
   "cell_type": "markdown",
   "id": "1b725f61",
   "metadata": {},
   "source": [
    "**B. Setup Classes**\n",
    "\n",
    "As mentioned in the paper, to achieve Grokking, the setup should include a small dataset, large initialization, and weight decay:\n",
    "\n",
    "- Small dataset: Use 2,000 samples instead of the full MNIST dataset (60,000 samples).\n",
    "\n",
    "- Large initialization: initialization_scale = 8.0\n",
    "\n",
    "- Weight decay: weight_decay = 0.01"
   ]
  },
  {
   "cell_type": "code",
   "execution_count": null,
   "id": "49e28b19",
   "metadata": {},
   "outputs": [],
   "source": [
    "from itertools import islice\n",
    "import random\n",
    "import math\n",
    "import numpy as np\n",
    "import torch\n",
    "import torch.nn as nn\n",
    "import torchvision\n",
    "import matplotlib.pyplot as plt\n",
    "from torch.utils.tensorboard import SummaryWriter\n",
    "\n",
    "class MLP(nn.Module):\n",
    "        def __init__(self, layers_config):\n",
    "            super().__init__()\n",
    "            self.network_layers = layers_config\n",
    "\n",
    "        def forward(self, input_data):\n",
    "            return self.network_layers(input_data)\n",
    "        \n",
    "def infinite_cycle(data_iterable):\n",
    "        while True:\n",
    "            for element in data_iterable:\n",
    "                yield element\n",
    "                \n",
    "def calculate_loss(model, data_set, device_type, max_samples=2000, batch_sz=50):\n",
    "        with torch.no_grad():\n",
    "            max_samples = min(len(data_set), max_samples)\n",
    "            batch_sz = min(batch_sz, max_samples)\n",
    "            data_loader = torch.utils.data.DataLoader(data_set, batch_size=batch_sz, shuffle=True)\n",
    "            mse_loss = nn.MSELoss(reduction='sum')\n",
    "            identity_matrix = torch.eye(10, 10).to(device_type)\n",
    "            total_loss = 0\n",
    "            sample_count = 0\n",
    "            for inputs, targets in islice(data_loader, max_samples // batch_sz):\n",
    "                predictions = model(inputs.to(device_type))\n",
    "                total_loss += mse_loss(predictions, identity_matrix[targets]).item()\n",
    "                sample_count += len(targets)\n",
    "            return total_loss / sample_count   \n",
    "        \n",
    "def calculate_accuracy(model, data_set, device_type, max_samples=2000, batch_sz=50):\n",
    "        with torch.no_grad():\n",
    "            max_samples = min(len(data_set), max_samples)\n",
    "            batch_sz = min(batch_sz, max_samples)\n",
    "            data_loader = torch.utils.data.DataLoader(data_set, batch_size=batch_sz, shuffle=True)\n",
    "            correct_preds = 0\n",
    "            total_preds = 0\n",
    "            for inputs, targets in islice(data_loader, max_samples // batch_sz):\n",
    "                outputs = model(inputs.to(device_type))\n",
    "                predicted_classes = torch.argmax(outputs, dim=1)\n",
    "                correct_preds += torch.sum(predicted_classes == targets.to(device_type))\n",
    "                total_preds += inputs.size(0)\n",
    "            return (correct_preds / total_preds).item()  \n",
    "                          \n",
    "class Experience():\n",
    "    def __init__(self, model_instance):\n",
    "        self.model = model_instance\n",
    "\n",
    "    def training(self, train_samples=1000, max_steps=100000, batch_sz=200, l2_decay=0.01, learning_rate=1e-3, init_scale=8.0):\n",
    "        data_dir = \".\"\n",
    "        log_interval = math.ceil(max_steps / 150)\n",
    "        default_dtype = torch.float64\n",
    "        random_seed = 0\n",
    "\n",
    "        torch.set_default_dtype(default_dtype)\n",
    "        torch.manual_seed(random_seed)\n",
    "        torch.cuda.manual_seed_all(random_seed)\n",
    "        random.seed(random_seed)\n",
    "        np.random.seed(random_seed)\n",
    "\n",
    "        train_data = torchvision.datasets.MNIST(root=data_dir, train=True, \n",
    "            transform=torchvision.transforms.ToTensor(), download=True)\n",
    "        test_data = torchvision.datasets.MNIST(root=data_dir, train=False, \n",
    "            transform=torchvision.transforms.ToTensor(), download=True)\n",
    "        train_data = torch.utils.data.Subset(train_data, range(train_samples))\n",
    "        train_loader = torch.utils.data.DataLoader(train_data, batch_size=batch_sz, shuffle=True)\n",
    "\n",
    "        with torch.no_grad():\n",
    "            for param in self.model.parameters():\n",
    "                param.data = init_scale * param.data\n",
    "\n",
    "        optimizer = torch.optim.Adam(self.model.parameters(), lr=learning_rate, weight_decay=l2_decay)\n",
    "\n",
    "        loss_function = nn.MSELoss()\n",
    "\n",
    "        train_loss_history = []\n",
    "        test_loss_history = []\n",
    "        train_acc_history = []\n",
    "        test_acc_history = []\n",
    "        weight_norm_history = []\n",
    "        last_layer_norm_history = []\n",
    "        step_log = []\n",
    "\n",
    "        current_step = 0\n",
    "        identity_matrix = torch.eye(10, 10).to(device)\n",
    "        for inputs, targets in islice(infinite_cycle(train_loader), max_steps):\n",
    "                if (current_step < 30) or (current_step < 150 and current_step % 10 == 0) or current_step % log_interval == 0:\n",
    "                    train_loss = calculate_loss(self.model, train_data, device, N=len(train_data))\n",
    "                    train_acc = calculate_accuracy(self.model, train_data, device, N=len(train_data))\n",
    "                    test_loss = calculate_loss(self.model, test_data, device, N=len(test_data))\n",
    "                    test_acc = calculate_accuracy(self.model, test_data, device, N=len(test_data))\n",
    "                    \n",
    "                    train_loss_history.append(train_loss)\n",
    "                    train_acc_history.append(train_acc)\n",
    "                    test_loss_history.append(test_loss)\n",
    "                    test_acc_history.append(test_acc)\n",
    "                    step_log.append(current_step)\n",
    "                    \n",
    "                    with torch.no_grad():\n",
    "                        total_weights = sum(torch.pow(param, 2).sum() for param in self.model.parameters())\n",
    "                        total_norm = float(np.sqrt(total_weights.item()))\n",
    "                        last_layer_weights = sum(torch.pow(param, 2).sum() for param in self.model.network_layers[-1].parameters())\n",
    "                        last_layer_norm = float(np.sqrt(last_layer_weights.item()))\n",
    "                        \n",
    "                        weight_norm_history.append(total_norm)\n",
    "                        last_layer_norm_history.append(last_layer_norm)\n",
    "\n",
    "                optimizer.zero_grad()\n",
    "                outputs = self.model(inputs.to(device))\n",
    "                loss = loss_function(outputs, identity_matrix[targets])\n",
    "                loss.backward()\n",
    "                optimizer.step()\n",
    "                current_step += 1\n",
    "        return step_log, train_acc_history, train_loss_history, test_acc_history, test_loss_history, weight_norm_history\n"
   ]
  },
  {
   "cell_type": "markdown",
   "id": "16d93d6b",
   "metadata": {},
   "source": [
    "- Run testing"
   ]
  },
  {
   "cell_type": "code",
   "execution_count": 33,
   "id": "3dc5b1a1",
   "metadata": {},
   "outputs": [],
   "source": [
    "device = torch.device('cuda:0' if torch.cuda.is_available() else 'cpu')\n",
    "layer = nn.Sequential(\n",
    "                nn.Flatten(),\n",
    "                nn.Linear(784, 200),\n",
    "                nn.ReLU(),\n",
    "                nn.Linear(200, 200),\n",
    "                nn.ReLU(),\n",
    "                nn.Linear(200, 10)\n",
    "            )\n",
    "mlp = MLP(layer=layer).to(device)\n",
    "experience = Experience(mlp)\n",
    "log_steps_1, train_accuracies_1, train_losses, test_accuracies_1, test_losses, norms = experience.training()"
   ]
  },
  {
   "cell_type": "markdown",
   "id": "9d18b2d1",
   "metadata": {},
   "source": [
    "**C. Visualize The Test Result**"
   ]
  },
  {
   "cell_type": "markdown",
   "id": "59e7f3a3",
   "metadata": {},
   "source": [
    "- The chart shows that our model exhibits Grokking. The training accuracy starts increasing from 200 steps. It is overfitting between 200 and 2,000 steps, whereas the test accuracy begins to increase after 2,000 steps. The model starts to generalize after 2,000 steps."
   ]
  },
  {
   "cell_type": "code",
   "execution_count": 37,
   "id": "8472fd61",
   "metadata": {},
   "outputs": [
    {
     "data": {
      "image/png": "[encoded data removed]",
      "text/plain": [
       "<Figure size 1000x600 with 2 Axes>"
      ]
     },
     "metadata": {},
     "output_type": "display_data"
    }
   ],
   "source": [
    "def splot_exp(log_steps_1, train_accuracies_1, test_accuracies_1, depth, initialization_scale):\n",
    "    ax = plt.subplot(1, 1, 1)\n",
    "    plt.plot(log_steps_1, train_accuracies_1, color='red', label='train')\n",
    "    plt.plot(log_steps_1, test_accuracies_1, color='green', label='test')\n",
    "    plt.xscale('log')\n",
    "    plt.xlim(10, None)\n",
    "    plt.xlabel(\"Optimization Steps\")\n",
    "    plt.ylabel(\"Accuracy\")\n",
    "    plt.legend(loc=(0.015, 0.75))\n",
    "\n",
    "    ax2 = ax.twinx()\n",
    "    ax2.set_ylabel(\"Weight Norm\", color='purple')\n",
    "    ax2.plot(log_steps_1, norms, color='purple', label='weight norm')\n",
    "    # ax2.set_ylim(27, 63)\n",
    "    plt.legend(loc=(0.015, 0.65))\n",
    "    plt.title(f\"depth-{depth} width-200 ReLU MLP on MNIST\\nUnconstrained Optimization α = {initialization_scale}\", fontsize=11)\n",
    "\n",
    "splot_exp(log_steps_1, train_accuracies_1, test_accuracies_1, 3, 8)"
   ]
  },
  {
   "cell_type": "markdown",
   "id": "7d99ce2d",
   "metadata": {},
   "source": [
    "### **2. Modify the experiments and identify experiment settings that may not be consistent with the authors' conclusions.**"
   ]
  },
  {
   "cell_type": "markdown",
   "id": "241d177f",
   "metadata": {},
   "source": [
    "In this modify, I will keep the experiment settings and only change the network structure. I will do 3 experiments:\n",
    "\n",
    "    a. Reduce the number of layer from 3 layers to 2 layers\n",
    "\n",
    "    b. Reduce the width of layer from 200 to 20\n",
    "\n",
    "    c. Increase the number of layer from 3 layers to 5 layers"
   ]
  },
  {
   "cell_type": "markdown",
   "id": "bafb7b1b",
   "metadata": {},
   "source": [
    "#### A. Reduce the number of layer from 3 layers to 2 layers"
   ]
  },
  {
   "cell_type": "code",
   "execution_count": 38,
   "id": "44c86d30",
   "metadata": {},
   "outputs": [],
   "source": [
    "device = torch.device('cuda:0' if torch.cuda.is_available() else 'cpu')\n",
    "layer = nn.Sequential(\n",
    "                nn.Flatten(),\n",
    "                nn.Linear(784, 200),\n",
    "                nn.ReLU(),\n",
    "                nn.Linear(200, 10)\n",
    "            )\n",
    "mlp = MLP(layer=layer).to(device)\n",
    "experience = Experience(mlp)\n",
    "log_steps_1, train_accuracies_1, train_losses, test_accuracies_1, test_losses, norms = experience.training()"
   ]
  },
  {
   "cell_type": "markdown",
   "id": "05b1115e",
   "metadata": {},
   "source": [
    "**Visualize the result**"
   ]
  },
  {
   "cell_type": "code",
   "execution_count": 39,
   "id": "6b07701f",
   "metadata": {},
   "outputs": [
    {
     "data": {
      "image/png": "[encoded data removed]",
      "text/plain": [
       "<Figure size 1000x600 with 2 Axes>"
      ]
     },
     "metadata": {},
     "output_type": "display_data"
    }
   ],
   "source": [
    "splot_exp(log_steps_1, train_accuracies_1, test_accuracies_1, 3, 8)"
   ]
  },
  {
   "cell_type": "markdown",
   "id": "252666ec",
   "metadata": {},
   "source": [
    "**Observation**"
   ]
  },
  {
   "cell_type": "markdown",
   "id": "2be153cd",
   "metadata": {},
   "source": [
    "- I modified the experiment by reducing the model’s depth from 3 layers to 2, using the same initialization scale (α = 8) and training on a small MNIST subset. In this setting, the model achieved high train accuracy quickly, but the test accuracy rose early and smoothly, without the delayed “jump” characteristic of grokking. This result is not consistent with the authors’ conclusion that grokking is driven solely by the mismatch between training and test loss (the LU mechanism), controlled by weight norm. Instead, this suggests that network architecture may also affect whether grokking occurs, a factor not emphasized in the original analysis."
   ]
  },
  {
   "cell_type": "markdown",
   "id": "509f89bb",
   "metadata": {},
   "source": [
    "#### B. Reduce the width of layer from 200 to 20"
   ]
  },
  {
   "cell_type": "code",
   "execution_count": 40,
   "id": "cbe38de7",
   "metadata": {},
   "outputs": [],
   "source": [
    "device = torch.device('cuda:0' if torch.cuda.is_available() else 'cpu')\n",
    "layer = nn.Sequential(\n",
    "                nn.Flatten(),\n",
    "                nn.Linear(784, 20),\n",
    "                nn.ReLU(),\n",
    "                nn.Linear(20, 10)\n",
    "            )\n",
    "mlp = MLP(layer=layer).to(device)\n",
    "experience = Experience(mlp)\n",
    "log_steps_1, train_accuracies_1, train_losses, test_accuracies_1, test_losses, norms = experience.training()"
   ]
  },
  {
   "cell_type": "code",
   "execution_count": 41,
   "id": "5047e1e9",
   "metadata": {},
   "outputs": [
    {
     "data": {
      "image/png": "[encoded data removed]",
      "text/plain": [
       "<Figure size 1000x600 with 2 Axes>"
      ]
     },
     "metadata": {},
     "output_type": "display_data"
    }
   ],
   "source": [
    "splot_exp(log_steps_1, train_accuracies_1, test_accuracies_1, 3, 8)"
   ]
  },
  {
   "cell_type": "markdown",
   "id": "952a48cc",
   "metadata": {},
   "source": [
    "**Observation**\n",
    "\n",
    "- This result weakens support for the LU mechanism as the sole explanation for grokking. It suggests that architectural factors like width can influence whether grokking appears."
   ]
  },
  {
   "cell_type": "markdown",
   "id": "26097256",
   "metadata": {},
   "source": [
    "### C. Increase the number of layer from 3 layers to 5 layers"
   ]
  },
  {
   "cell_type": "code",
   "execution_count": 42,
   "id": "b707c4ef",
   "metadata": {},
   "outputs": [],
   "source": [
    "device = torch.device('cuda:0' if torch.cuda.is_available() else 'cpu')\n",
    "layer = nn.Sequential(\n",
    "                nn.Flatten(),\n",
    "                nn.Linear(784, 200),\n",
    "                nn.ReLU(),\n",
    "                nn.Linear(200, 200),\n",
    "                nn.ReLU(),\n",
    "                nn.Linear(200, 200),\n",
    "                nn.ReLU(),\n",
    "                nn.Linear(200, 200),\n",
    "                nn.ReLU(),\n",
    "                nn.Linear(200, 10)\n",
    "            )\n",
    "mlp = MLP(layer=layer).to(device)\n",
    "experience = Experience(mlp)\n",
    "log_steps_2, train_accuracies_2, train_losses, test_accuracies_2, test_losses, norms = experience.training()"
   ]
  },
  {
   "cell_type": "code",
   "execution_count": 43,
   "id": "6016a44f",
   "metadata": {},
   "outputs": [
    {
     "data": {
      "image/png": "[encoded data removed]",
      "text/plain": [
       "<Figure size 1000x600 with 2 Axes>"
      ]
     },
     "metadata": {},
     "output_type": "display_data"
    }
   ],
   "source": [
    "splot_exp(log_steps_2, train_accuracies_2, test_accuracies_2, 3, 8)"
   ]
  },
  {
   "cell_type": "markdown",
   "id": "830ea8e8",
   "metadata": {},
   "source": [
    "**Observation**"
   ]
  },
  {
   "cell_type": "markdown",
   "id": "dd7f56c0",
   "metadata": {},
   "source": [
    "Increasing the depth from 3 to 5 layers enhanced the grokking effect, likely due to:\n",
    "\n",
    "- Greater capacity for representation learning.\n",
    "\n",
    "- More exaggerated separation between overfitting and generalizing regions in the loss landscape.\n",
    "\n",
    "This supports the idea that grokking is more dramatic with higher model complexity, consistent with the authors' conclusions."
   ]
  },
  {
   "cell_type": "markdown",
   "id": "d05f5bdb",
   "metadata": {},
   "source": [
    "### Reference\n",
    "Deakin University, 2025. Data Wrangling Unit (SIT731) [Module 3 - Data Validation]. Deakin University.\n",
    "\n",
    "PyTorch, 2025. PyTorch Documentation. Available at: https://docs.pytorch.org/ [Accessed 22 July 2025].\n"
   ]
  }
 ],
 "metadata": {
  "kernelspec": {
   "display_name": "base",
   "language": "python",
   "name": "python3"
  },
  "language_info": {
   "codemirror_mode": {
    "name": "ipython",
    "version": 3
   },
   "file_extension": ".py",
   "mimetype": "text/x-python",
   "name": "python",
   "nbconvert_exporter": "python",
   "pygments_lexer": "ipython3",
   "version": "3.12.7"
  }
 },
 "nbformat": 4,
 "nbformat_minor": 5
}
