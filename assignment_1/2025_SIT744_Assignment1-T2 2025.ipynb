{
 "cells": [
  {
   "cell_type": "markdown",
   "metadata": {
    "id": "lxJn069QLn8O"
   },
   "source": [
    "---\n",
    "# SIT744 Assignment 1 (T2 2025)\n",
    "\n",
    "Due: Week 3 Friday 8:00 pm (AEST)\n",
    "\n",
    "---\n",
    "\n",
    "This is an individual assignment. It contributes 20% to your final mark. Read the assignment instructions carefully.\n",
    "\n",
    "## What to submit\n",
    "By the due date, you are required to submit the following files to the corresponding Assignment (Dropbox) in CloudDeakin:\n",
    "\n",
    "- **[YourID]_[UnitCode]_assignment1_solution.ipynb**: This is your Python notebook solution source file.\n",
    "- **[YourID]_[UnitCode]_assingment1_output.pdf**: This is the output of your Python notebook solution exported in PDF format. (You may use [nbconvert](https://github.com/jupyter/nbconvert).)\n",
    "- (HD Task only) A short (less than 5 minutes) screencast explaining your work (including study design, implementation, and main conclusions).\n",
    "- Extra files required to complete your assignment, if any (e.g., images used in your answers).\n",
    "\n",
    "For example, if your student ID is: 123456, and you are a SIT744 student, you will then need to submit the following files:\n",
    "\n",
    "- 123456_SIT744_assignment1_solution.ipynb\n",
    "- 123456_SIT744_assignment1_output.pdf\n",
    "\n",
    "Please keep your answers short and to the point. Clean up your code outputs to reduce unnecessary information (e.g., excessively long training logs).\n",
    "\n",
    "\n",
    "## Assignment objective\n",
    "\n",
    "This assignment is for you to demonstrate the knowledge in deep learning that you have acquired from the lectures and practical lab materials in weeks 1-3. Going through these materials before/while attempting this assignment is highly recommended.\n",
    "\n",
    "\n",
    "This assignment consists of four sets of tasks with progressive level of challenges.\n",
    "\n",
    "- Set 1 (P Tasks)\n",
    "- Set 2 (C Tasks)\n",
    "- Set 3 (D Tasks)\n",
    "- Set 4 (HD Tasks)\n",
    "\n",
    "Set 1 is labeled as P tasks because these demonstrate the minimum requirements of the unit. Concentrate on the P tasks first as these are the foundation for all the rest. As you move through sets 2, 3 and 4, the tasks become more challenging, with each allowing you to obtain the marks required to achieve the next achievement level (C, D, and HD respectively).\n",
    "\n",
    "## Marking criteria\n",
    "Indicative weights of various tasks are provided below, but your submission will be marked by the following criteria, adjusting for the overall quality.\n",
    "\n",
    "### P-level expectation\n",
    "- Showing good effort through completed tasks.\n",
    "- Applying deep learning theory to design suitable deep learning solutions for the tasks.\n",
    "- Justify design choices.\n",
    "- Identifies potential dataset biases and ethical concerns.\n",
    "\n",
    "### C-level expectation\n",
    "- Showing attention to detail through a structured and detailed assignment report.\n",
    "\n",
    "### D-level expectation\n",
    "- Demonstrating creativity and resourcefulness in providing unique individual solutions.\n",
    "- Critically evaluating and reflecting on the pros and cons of various design decisions.\n",
    "\n",
    "### HD-level expectation\n",
    "- Extending classroom learning to research and tackle previously unexplored theoretical questions or novel applications.\n",
    "- Critically reflects on the broader implications of deep learning models, including ethical and safety considerations.\n",
    "\n",
    "**(Warning: Highly similar solutions will be investigated for collusion.)**\n",
    "\n",
    "---\n"
   ]
  },
  {
   "cell_type": "markdown",
   "metadata": {
    "id": "ovgrDrd0kPgB"
   },
   "source": [
    "## **Set 1 Build a Simple Neural Network (P-Level Tasks)**\n",
    "*Objective: Build a basic neural network from scratch and set up a reproducible training pipeline.*\n",
    "\n",
    "You will practice training a neural network for a regression or a classification task. Completing this step will provide you a good foundation for later assessment tasks in this unit.\n",
    "\n",
    "1. Determine a machine learning problem (e.g., Forecasting Energy Consumption in a Building) that you want to solve with neural networks. Describe the problem, objectives, and potential ethical concerns, including dataset biases.\n",
    "\n",
    "2. Select an appropriate dataset for your selected problem, justify its suitability.  Consider dataset characteristics such as size, complexity, and potential biases. Preprocess the dataset for training.\n",
    "    \n",
    "3. Define a simple fully connected neural network using PyTorch.\n",
    "\n",
    "4. Implement the training pipeline. Train the model and evaluate its performance on test data.\n",
    "\n",
    "\n"
   ]
  },
  {
   "cell_type": "markdown",
   "metadata": {
    "id": "cStvdBjMkW3V"
   },
   "source": [
    "## **Set 2 Improve Model Performance (C-Level Tasks)**\n",
    "\n",
    "*Objective: Modify and refine the model to improve performance while maintaining computational efficiency.*\n",
    "\n",
    "1. Use TensorBoard to log loss and accuracy.\n",
    "2. Modify the network architecture to improve performance.\n",
    "3. Apply machine learning principles to adjust training configurations (e.g., learning rate, batch size).\n",
    "4. Analyse model training using TensorBoard and compare different runs.\n",
    "5. Justify design choices based on practical outcomes.\n",
    "\n"
   ]
  },
  {
   "cell_type": "markdown",
   "metadata": {
    "id": "bG36omf5kYJu"
   },
   "source": [
    "## **Set 3 Ethical Analysis and Model Evaluation (D-Level Tasks)**\n",
    "\n",
    "*Objective: Investigate the ethical implications of deep learning applications through both critical reflection and hands-on model evaluation.*\n",
    "\n",
    "1. Analyze dataset biases programmatically by visualising class distributions and measuring imbalances. Assess how these biases impact model performance.\n",
    "2. Experiment with mitigation techniques, such as rebalancing the dataset, modifying loss functions, or applying bias correction strategies. Compare results.\n",
    "3. Evaluate model performance critically by testing it on diverse subsets of data and discussing the strengths and limitations based on empirical findings."
   ]
  },
  {
   "cell_type": "markdown",
   "metadata": {
    "id": "sF_DUuJikaAK"
   },
   "source": [
    "## **Set 4 Reproducing and Analyzing \"Grokking\" in Neural Networks (HD-Level Tasks)**\n",
    "\n",
    "*Objective:\n",
    "Develop research and analytical skills by reproducing key findings from a research paper, identifying inconsistencies in experimental results, and critically evaluating the generalization behaviors of deep learning models.*\n",
    "\n",
    "1. Reproduce key experiments from the paper [\"OMNIGROK: GROKKING BEYOND ALGORITHMIC DATA\"](https://arxiv.org/pdf/2210.01117).\n",
    "\n",
    "2. Modify the experiments and identify experiment settings that may not be consistent with the authors' conclusions.\n",
    "\n",
    "3. Provide a critical analysis discussing the potential causes of inconsistencies and evaluate the paper’s claims.\n",
    "\n",
    "Deliverables:\n",
    "\n",
    "- A Jupyter notebook containing:\n",
    "\n",
    "  - Code for reproducing experiments (only on two datasets).\n",
    "\n",
    "  - Modified experimental setups and results. (change epoches, layers...)\n",
    "\n",
    "  - Visualizations and structured data analysis.\n",
    "\n",
    "- A written report (PDF, max 2 pages) including:\n",
    "\n",
    "  - Summary of reproduction steps.\n",
    "\n",
    "  - Description of inconsistencies and contradictory findings.\n",
    "\n",
    "  - A critical evaluation of possible causes. (important)\n",
    "\n",
    "- Short video/screencast (max 5 minutes) explaining key findings and insights. (important)\n"
   ]
  },
  {
   "cell_type": "markdown",
   "metadata": {
    "id": "QDAED2d7XKk0"
   },
   "source": [
    "---\n",
    "\n",
    "### End of Assignment 1\n",
    "\n",
    "---"
   ]
  }
 ],
 "metadata": {
  "colab": {
   "authorship_tag": "ABX9TyMN36i78HfNTMLQ71OC9qPF",
   "provenance": []
  },
  "kernelspec": {
   "display_name": "Python 3",
   "name": "python3"
  },
  "language_info": {
   "name": "python"
  }
 },
 "nbformat": 4,
 "nbformat_minor": 0
}
