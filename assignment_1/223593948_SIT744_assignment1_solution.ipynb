{
 "cells": [
  {
   "cell_type": "markdown",
   "id": "396bb25c",
   "metadata": {},
   "source": [
    "---\n",
    "# Assigment 1\n",
    "\n",
    "Name: DUONG SON THONG\n",
    "\n",
    "Student Number: 223593948\n",
    "\n",
    "Email: s223593948@deakin.edu.au\n",
    "\n",
    "Postgraduate (SIT744)\n",
    "\n",
    "---"
   ]
  },
  {
   "cell_type": "markdown",
   "id": "643b3792",
   "metadata": {},
   "source": [
    "## Introduction"
   ]
  },
  {
   "cell_type": "markdown",
   "id": "b0d06458",
   "metadata": {},
   "source": [
    "Data link: https://www.kaggle.com/datasets/nanditapore/healthcare-diabetes\n"
   ]
  },
  {
   "cell_type": "markdown",
   "id": "dafbffb3",
   "metadata": {},
   "source": [
    "The Diabetes Prediction Dataset is a useful resource for researchers, data scientists, and healthcare professionals working on diabetes risk prediction. It contains a range of important health-related features that were carefully collected to support the development of deep learning models. These models can help identify individuals who may be at risk of developing diabetes, supporting efforts in early detection and more effective treatment planning."
   ]
  },
  {
   "cell_type": "markdown",
   "id": "290258ad",
   "metadata": {},
   "source": [
    "# Describe the dataset\n",
    "\n",
    "This dataset comprises medical diagnostic measurements for **2,768 samples**, primarily used for predictive modeling of diabetes. It contains **10 columns**, each representing patient attributes or outcomes related to diabetes diagnostics.\n",
    "\n",
    "**Variables**\n",
    "\n",
    "| Variable Name | Label                             |\n",
    "|---------------------|-------------------------------------------------|\n",
    "| Pregnancies         | Number of times the individual has been pregnant|\n",
    "| Glucose             | Plasma glucose concentration (mg/dL)            |\n",
    "| BloodPressure       | Diastolic blood pressure (mm Hg)                |\n",
    "| SkinThickness       | Triceps skinfold thickness (mm)                 |\n",
    "| Insulin             | 2-Hour serum insulin (mu U/ml).                 |\n",
    "| BMI                 | Body mass index (weight in kg/(height in m)^2)  |\n",
    "| DiabetesPedigreeFunction      | A function representing diabetes likelihood based on family history          |\n",
    "| Age                 | Age of the individual (years)  |\n",
    "| Outcome                 | Binary indicator of diabetes presence (1 = diabetic, 0 = non-diabetic)  |\n",
    "| Id                 | Unique identifier for each record.  |"
   ]
  },
  {
   "cell_type": "markdown",
   "id": "53d7d97d",
   "metadata": {},
   "source": [
    "**Import package**"
   ]
  },
  {
   "cell_type": "code",
   "execution_count": 9,
   "id": "6016a782",
   "metadata": {},
   "outputs": [],
   "source": [
    "import torch\n",
    "from torch import nn\n",
    "import pandas as pd\n",
    "from torch.utils.data import DataLoader, random_split, Dataset\n",
    "from sklearn.impute import SimpleImputer\n",
    "import numpy as np\n",
    "from sklearn.preprocessing import StandardScaler\n"
   ]
  },
  {
   "cell_type": "markdown",
   "id": "a17eaa38",
   "metadata": {},
   "source": [
    "## **Set 1 Build a Simple Neural Network (P-Level Tasks)**"
   ]
  },
  {
   "cell_type": "markdown",
   "id": "41041962",
   "metadata": {},
   "source": [
    "### **1. Define the Machine Learning Problem**\n",
    "\n",
    "**Problem Title:** *Predicting Diabetes Diagnosis Using Neural Networks*\n",
    "\n",
    "#### a. Problem Description\n",
    "\n",
    "This project uses a dataset containing medical diagnostic measurements from female patients to predict the presence of diabetes. The task is a **binary classification** problem, where the goal is to determine whether a patient has diabetes (Outcome = 1) or not (Outcome = 0) based on various features such as glucose level, BMI, age, and more. Neural networks are well-suited for this task due to their ability to model complex, nonlinear relationships between health indicators.\n",
    "\n",
    "#### b. Objectives\n",
    "\n",
    "* Develop a neural network that can accurately classify whether a patient has diabetes.\n",
    "* Evaluate model performance using appropriate metrics.\n",
    "* Explore hyperparameter tuning and architecture optimization to improve model performance.\n",
    "\n",
    "#### c. Potential Ethical Concerns and Dataset Biases\n",
    "\n",
    "* **Dataset Bias – Gender Limitation:**\n",
    "  The dataset contains only female patients, which introduces **gender bias**. As a result, the trained model may not generalize well to male patients or populations with different demographics.\n",
    "\n",
    "* **Privacy and Security:**\n",
    "  Since the dataset involves sensitive medical information, it is essential to **ensure patient anonymity** and comply with privacy laws such as **HIPAA** (Health Insurance Portability and Accountability Act) or **GDPR** (General Data Protection Regulation). Any data handling or sharing should prioritize ethical standards for data protection.\n",
    "\n",
    "* **Model Explainability:**\n",
    "  Neural networks are often considered **black-box** models. This lack of transparency can be a barrier in clinical environments where interpretability is critical. Incorporating **explainable AI (XAI)** techniques, such as SHAP or LIME, may improve trust and usability among healthcare professionals.\n",
    "\n"
   ]
  },
  {
   "cell_type": "markdown",
   "id": "db1555f0",
   "metadata": {},
   "source": [
    "### **2. Dataset Selection and Justification**\n",
    "\n",
    "#### Selected Dataset\n",
    "The dataset consists of medical information from **2,768 patients**, including features like **glucose level**, **blood pressure**, **BMI**, and a binary **Outcome** indicating the presence (`1`) or absence (`0`) of diabetes.\n",
    "\n",
    "---\n",
    "\n",
    "#### Justification of Suitability\n",
    "\n",
    "- **Size:**  \n",
    "  With 2,768 entries, the dataset is reasonably sized for training a neural network without requiring excessive computational resources. While not \"big data,\" it offers a solid foundation for supervised learning.\n",
    "\n",
    "- **Complexity:**  \n",
    "  The dataset includes a mix of **demographic** (e.g., age, pregnancies) and **physiological** (e.g., glucose, insulin) features. This complexity is well-suited for neural networks, which can model nonlinear interactions between variables.\n",
    "\n",
    "- **Relevance:**  \n",
    "  All features are medically relevant to diabetes prediction, aligning well with the classification objective.\n",
    "\n",
    "---\n",
    "\n",
    "#### Bias Considerations\n",
    "\n",
    "- **Zero values in medical fields** (e.g., Insulin, Glucose, BloodPressure) likely indicate missing or unrecorded data, which can introduce bias if not handled properly.\n",
    "\n",
    "- **Demographic scope is unclear**, as there is no gender or ethnicity column. This makes it hard to assess generalizability across populations.\n"
   ]
  },
  {
   "cell_type": "markdown",
   "id": "877fa7c3",
   "metadata": {},
   "source": [
    "### Process Data (Data warling)"
   ]
  },
  {
   "cell_type": "code",
   "execution_count": 10,
   "id": "162b3125",
   "metadata": {},
   "outputs": [
    {
     "data": {
      "application/vnd.microsoft.datawrangler.viewer.v0+json": {
       "columns": [
        {
         "name": "index",
         "rawType": "int64",
         "type": "integer"
        },
        {
         "name": "Id",
         "rawType": "int64",
         "type": "integer"
        },
        {
         "name": "Pregnancies",
         "rawType": "int64",
         "type": "integer"
        },
        {
         "name": "Glucose",
         "rawType": "int64",
         "type": "integer"
        },
        {
         "name": "BloodPressure",
         "rawType": "int64",
         "type": "integer"
        },
        {
         "name": "SkinThickness",
         "rawType": "int64",
         "type": "integer"
        },
        {
         "name": "Insulin",
         "rawType": "int64",
         "type": "integer"
        },
        {
         "name": "BMI",
         "rawType": "float64",
         "type": "float"
        },
        {
         "name": "DiabetesPedigreeFunction",
         "rawType": "float64",
         "type": "float"
        },
        {
         "name": "Age",
         "rawType": "int64",
         "type": "integer"
        },
        {
         "name": "Outcome",
         "rawType": "int64",
         "type": "integer"
        }
       ],
       "ref": "939222f3-fe54-4822-a9da-8022f5aadeed",
       "rows": [
        [
         "0",
         "1",
         "6",
         "148",
         "72",
         "35",
         "0",
         "33.6",
         "0.627",
         "50",
         "1"
        ],
        [
         "1",
         "2",
         "1",
         "85",
         "66",
         "29",
         "0",
         "26.6",
         "0.351",
         "31",
         "0"
        ],
        [
         "2",
         "3",
         "8",
         "183",
         "64",
         "0",
         "0",
         "23.3",
         "0.672",
         "32",
         "1"
        ],
        [
         "3",
         "4",
         "1",
         "89",
         "66",
         "23",
         "94",
         "28.1",
         "0.167",
         "21",
         "0"
        ],
        [
         "4",
         "5",
         "0",
         "137",
         "40",
         "35",
         "168",
         "43.1",
         "2.288",
         "33",
         "1"
        ]
       ],
       "shape": {
        "columns": 10,
        "rows": 5
       }
      },
      "text/html": [
       "<div>\n",
       "<style scoped>\n",
       "    .dataframe tbody tr th:only-of-type {\n",
       "        vertical-align: middle;\n",
       "    }\n",
       "\n",
       "    .dataframe tbody tr th {\n",
       "        vertical-align: top;\n",
       "    }\n",
       "\n",
       "    .dataframe thead th {\n",
       "        text-align: right;\n",
       "    }\n",
       "</style>\n",
       "<table border=\"1\" class=\"dataframe\">\n",
       "  <thead>\n",
       "    <tr style=\"text-align: right;\">\n",
       "      <th></th>\n",
       "      <th>Id</th>\n",
       "      <th>Pregnancies</th>\n",
       "      <th>Glucose</th>\n",
       "      <th>BloodPressure</th>\n",
       "      <th>SkinThickness</th>\n",
       "      <th>Insulin</th>\n",
       "      <th>BMI</th>\n",
       "      <th>DiabetesPedigreeFunction</th>\n",
       "      <th>Age</th>\n",
       "      <th>Outcome</th>\n",
       "    </tr>\n",
       "  </thead>\n",
       "  <tbody>\n",
       "    <tr>\n",
       "      <th>0</th>\n",
       "      <td>1</td>\n",
       "      <td>6</td>\n",
       "      <td>148</td>\n",
       "      <td>72</td>\n",
       "      <td>35</td>\n",
       "      <td>0</td>\n",
       "      <td>33.6</td>\n",
       "      <td>0.627</td>\n",
       "      <td>50</td>\n",
       "      <td>1</td>\n",
       "    </tr>\n",
       "    <tr>\n",
       "      <th>1</th>\n",
       "      <td>2</td>\n",
       "      <td>1</td>\n",
       "      <td>85</td>\n",
       "      <td>66</td>\n",
       "      <td>29</td>\n",
       "      <td>0</td>\n",
       "      <td>26.6</td>\n",
       "      <td>0.351</td>\n",
       "      <td>31</td>\n",
       "      <td>0</td>\n",
       "    </tr>\n",
       "    <tr>\n",
       "      <th>2</th>\n",
       "      <td>3</td>\n",
       "      <td>8</td>\n",
       "      <td>183</td>\n",
       "      <td>64</td>\n",
       "      <td>0</td>\n",
       "      <td>0</td>\n",
       "      <td>23.3</td>\n",
       "      <td>0.672</td>\n",
       "      <td>32</td>\n",
       "      <td>1</td>\n",
       "    </tr>\n",
       "    <tr>\n",
       "      <th>3</th>\n",
       "      <td>4</td>\n",
       "      <td>1</td>\n",
       "      <td>89</td>\n",
       "      <td>66</td>\n",
       "      <td>23</td>\n",
       "      <td>94</td>\n",
       "      <td>28.1</td>\n",
       "      <td>0.167</td>\n",
       "      <td>21</td>\n",
       "      <td>0</td>\n",
       "    </tr>\n",
       "    <tr>\n",
       "      <th>4</th>\n",
       "      <td>5</td>\n",
       "      <td>0</td>\n",
       "      <td>137</td>\n",
       "      <td>40</td>\n",
       "      <td>35</td>\n",
       "      <td>168</td>\n",
       "      <td>43.1</td>\n",
       "      <td>2.288</td>\n",
       "      <td>33</td>\n",
       "      <td>1</td>\n",
       "    </tr>\n",
       "  </tbody>\n",
       "</table>\n",
       "</div>"
      ],
      "text/plain": [
       "   Id  Pregnancies  Glucose  BloodPressure  SkinThickness  Insulin   BMI  \\\n",
       "0   1            6      148             72             35        0  33.6   \n",
       "1   2            1       85             66             29        0  26.6   \n",
       "2   3            8      183             64              0        0  23.3   \n",
       "3   4            1       89             66             23       94  28.1   \n",
       "4   5            0      137             40             35      168  43.1   \n",
       "\n",
       "   DiabetesPedigreeFunction  Age  Outcome  \n",
       "0                     0.627   50        1  \n",
       "1                     0.351   31        0  \n",
       "2                     0.672   32        1  \n",
       "3                     0.167   21        0  \n",
       "4                     2.288   33        1  "
      ]
     },
     "execution_count": 10,
     "metadata": {},
     "output_type": "execute_result"
    }
   ],
   "source": [
    "datasetCsv = pd.read_csv('dataset.csv')\n",
    "datasetCsv.head()"
   ]
  },
  {
   "cell_type": "markdown",
   "id": "33bf3ed9",
   "metadata": {},
   "source": [
    "##### Process Data Steps:\n",
    "- Drop the Id column (not predictive).\n",
    "\n",
    "- Replace zero values in physiological fields with NaN.\n",
    "\n",
    "- Impute missing values using median (robust against outliers).\n",
    "\n",
    "- Normalize numerical features (neural networks benefit from scaled inputs).\n",
    "\n",
    "- Separate features and labels"
   ]
  },
  {
   "cell_type": "code",
   "execution_count": 11,
   "id": "e110a5e8",
   "metadata": {},
   "outputs": [
    {
     "data": {
      "application/vnd.microsoft.datawrangler.viewer.v0+json": {
       "columns": [
        {
         "name": "index",
         "rawType": "int64",
         "type": "integer"
        },
        {
         "name": "Pregnancies",
         "rawType": "float64",
         "type": "float"
        },
        {
         "name": "Glucose",
         "rawType": "float64",
         "type": "float"
        },
        {
         "name": "BloodPressure",
         "rawType": "float64",
         "type": "float"
        },
        {
         "name": "SkinThickness",
         "rawType": "float64",
         "type": "float"
        },
        {
         "name": "Insulin",
         "rawType": "float64",
         "type": "float"
        },
        {
         "name": "BMI",
         "rawType": "float64",
         "type": "float"
        },
        {
         "name": "DiabetesPedigreeFunction",
         "rawType": "float64",
         "type": "float"
        },
        {
         "name": "Age",
         "rawType": "float64",
         "type": "float"
        },
        {
         "name": "Outcome",
         "rawType": "float64",
         "type": "float"
        }
       ],
       "ref": "9ac8d265-edbb-4b30-b40a-70ea50fda77a",
       "rows": [
        [
         "0",
         "0.6792323914931376",
         "0.8569929344713865",
         "-0.03218970580657022",
         "0.6416055003997498",
         "-0.17701539359303756",
         "0.14166152936854604",
         "0.47850938881474814",
         "1.4324949359450592",
         "1.0"
        ],
        [
         "1",
         "-0.8253412798040815",
         "-1.2087170686367092",
         "-0.5327577152031217",
         "-0.022803038734746",
         "-0.17701539359303756",
         "-0.8439515242581379",
         "-0.3691304251184163",
         "-0.1810791413996087",
         "0.0"
        ],
        [
         "2",
         "1.2810618600120252",
         "2.004609602864773",
         "-0.6996137183353055",
         "-0.022803038734746",
         "-0.17701539359303756",
         "-1.3085976781107176",
         "0.6167115323908077",
         "-0.09615418996041568",
         "1.0"
        ],
        [
         "3",
         "-0.8253412798040815",
         "-1.0775608779631793",
         "-0.5327577152031217",
         "-0.6872115778692419",
         "-0.5631483666240406",
         "-0.6327487270524199",
         "-0.9342236344071926",
         "-1.0303286557915392",
         "0.0"
        ],
        [
         "4",
         "-1.1262560140635252",
         "0.4963134101191793",
         "-2.701885755921511",
         "0.6416055003997498",
         "0.3297841335101538",
         "1.4792792450047598",
         "5.579704066144408",
         "-0.01122923852122263",
         "1.0"
        ]
       ],
       "shape": {
        "columns": 9,
        "rows": 5
       }
      },
      "text/html": [
       "<div>\n",
       "<style scoped>\n",
       "    .dataframe tbody tr th:only-of-type {\n",
       "        vertical-align: middle;\n",
       "    }\n",
       "\n",
       "    .dataframe tbody tr th {\n",
       "        vertical-align: top;\n",
       "    }\n",
       "\n",
       "    .dataframe thead th {\n",
       "        text-align: right;\n",
       "    }\n",
       "</style>\n",
       "<table border=\"1\" class=\"dataframe\">\n",
       "  <thead>\n",
       "    <tr style=\"text-align: right;\">\n",
       "      <th></th>\n",
       "      <th>Pregnancies</th>\n",
       "      <th>Glucose</th>\n",
       "      <th>BloodPressure</th>\n",
       "      <th>SkinThickness</th>\n",
       "      <th>Insulin</th>\n",
       "      <th>BMI</th>\n",
       "      <th>DiabetesPedigreeFunction</th>\n",
       "      <th>Age</th>\n",
       "      <th>Outcome</th>\n",
       "    </tr>\n",
       "  </thead>\n",
       "  <tbody>\n",
       "    <tr>\n",
       "      <th>0</th>\n",
       "      <td>0.679232</td>\n",
       "      <td>0.856993</td>\n",
       "      <td>-0.032190</td>\n",
       "      <td>0.641606</td>\n",
       "      <td>-0.177015</td>\n",
       "      <td>0.141662</td>\n",
       "      <td>0.478509</td>\n",
       "      <td>1.432495</td>\n",
       "      <td>1.0</td>\n",
       "    </tr>\n",
       "    <tr>\n",
       "      <th>1</th>\n",
       "      <td>-0.825341</td>\n",
       "      <td>-1.208717</td>\n",
       "      <td>-0.532758</td>\n",
       "      <td>-0.022803</td>\n",
       "      <td>-0.177015</td>\n",
       "      <td>-0.843952</td>\n",
       "      <td>-0.369130</td>\n",
       "      <td>-0.181079</td>\n",
       "      <td>0.0</td>\n",
       "    </tr>\n",
       "    <tr>\n",
       "      <th>2</th>\n",
       "      <td>1.281062</td>\n",
       "      <td>2.004610</td>\n",
       "      <td>-0.699614</td>\n",
       "      <td>-0.022803</td>\n",
       "      <td>-0.177015</td>\n",
       "      <td>-1.308598</td>\n",
       "      <td>0.616712</td>\n",
       "      <td>-0.096154</td>\n",
       "      <td>1.0</td>\n",
       "    </tr>\n",
       "    <tr>\n",
       "      <th>3</th>\n",
       "      <td>-0.825341</td>\n",
       "      <td>-1.077561</td>\n",
       "      <td>-0.532758</td>\n",
       "      <td>-0.687212</td>\n",
       "      <td>-0.563148</td>\n",
       "      <td>-0.632749</td>\n",
       "      <td>-0.934224</td>\n",
       "      <td>-1.030329</td>\n",
       "      <td>0.0</td>\n",
       "    </tr>\n",
       "    <tr>\n",
       "      <th>4</th>\n",
       "      <td>-1.126256</td>\n",
       "      <td>0.496313</td>\n",
       "      <td>-2.701886</td>\n",
       "      <td>0.641606</td>\n",
       "      <td>0.329784</td>\n",
       "      <td>1.479279</td>\n",
       "      <td>5.579704</td>\n",
       "      <td>-0.011229</td>\n",
       "      <td>1.0</td>\n",
       "    </tr>\n",
       "  </tbody>\n",
       "</table>\n",
       "</div>"
      ],
      "text/plain": [
       "   Pregnancies   Glucose  BloodPressure  SkinThickness   Insulin       BMI  \\\n",
       "0     0.679232  0.856993      -0.032190       0.641606 -0.177015  0.141662   \n",
       "1    -0.825341 -1.208717      -0.532758      -0.022803 -0.177015 -0.843952   \n",
       "2     1.281062  2.004610      -0.699614      -0.022803 -0.177015 -1.308598   \n",
       "3    -0.825341 -1.077561      -0.532758      -0.687212 -0.563148 -0.632749   \n",
       "4    -1.126256  0.496313      -2.701886       0.641606  0.329784  1.479279   \n",
       "\n",
       "   DiabetesPedigreeFunction       Age  Outcome  \n",
       "0                  0.478509  1.432495      1.0  \n",
       "1                 -0.369130 -0.181079      0.0  \n",
       "2                  0.616712 -0.096154      1.0  \n",
       "3                 -0.934224 -1.030329      0.0  \n",
       "4                  5.579704 -0.011229      1.0  "
      ]
     },
     "execution_count": 11,
     "metadata": {},
     "output_type": "execute_result"
    }
   ],
   "source": [
    "# Load the dataset again\n",
    "datasetCsv.drop(columns=[\"Id\"], axis= 1, inplace=True)\n",
    "\n",
    "# Safely replace zeros with NaN in specified columns using a loop and numpy\n",
    "\n",
    "fields_with_invalid_zeros = ['Glucose', 'BloodPressure', 'SkinThickness', 'Insulin', 'BMI']\n",
    "for col in fields_with_invalid_zeros:\n",
    "    datasetCsv[col] = datasetCsv[col].apply(lambda x: np.nan if x == 0 else x)\n",
    "\n",
    "# Impute missing values using median\n",
    "imputer = SimpleImputer(strategy='median')\n",
    "df_imputed = pd.DataFrame(imputer.fit_transform(datasetCsv), columns=datasetCsv.columns)\n",
    "\n",
    "# Normalize feature columns (excluding the target)\n",
    "X = df_imputed.drop(columns=['Outcome'])\n",
    "y = df_imputed['Outcome']\n",
    "scaler = StandardScaler()\n",
    "X_scaled = pd.DataFrame(scaler.fit_transform(X), columns=X.columns)\n",
    "\n",
    "# Combine features and label into one DataFrame\n",
    "preprocessed_df = X_scaled.copy()\n",
    "preprocessed_df['Outcome'] = y\n",
    "\n",
    "preprocessed_df.head()"
   ]
  },
  {
   "cell_type": "code",
   "execution_count": 12,
   "id": "82e205c9",
   "metadata": {},
   "outputs": [],
   "source": [
    "# device = torch.accelerator.current_accelerator().type if torch.accelerator.is_available() else \"cpu\"\n",
    "\n",
    "# class CustomDataset(Dataset):\n",
    "#     def __init__(self, csv_name):\n",
    "#         datasetCsv = pd.read_csv(csv_name)\n",
    "#         self.len = len(datasetCsv)\n",
    "#         scaleData = StandardScaler() # normalize\n",
    "#         scaledData = scaleData.fit(datasetCsv)\n",
    "#         self.data = scaledData\n",
    "        \n",
    "#     def __len__(self):\n",
    "#         return len(self.len)\n",
    "    \n",
    "#     def __getitem__(self, index):\n",
    "#         row = self.data.iloc[index]\n",
    "#         features = torch.tensor(row[:-1].values, dtype=torch.float32)\n",
    "#         label = torch.tensor(row[-1], dtype=torch.float32).unsqueeze(0)  # shape [1]\n",
    "#         return features, label\n",
    "\n",
    "# class NeuralNetworksda(nn.Module):\n",
    "#     def __init__(self):\n",
    "#         super().__init__()\n",
    "#         self.flatten = nn.Flatten()\n",
    "#         self.linear_relu_stack = nn.Sequential(\n",
    "#             nn.Linear(9, 9),\n",
    "#             nn.ReLU(),\n",
    "#             nn.Linear(9, 1),\n",
    "#             nn.Sigmoid()\n",
    "#         )\n",
    "    \n",
    "#     def forward(self, x):\n",
    "#         logits = self.linear_relu_stack(x)\n",
    "#         return logits\n",
    "\n",
    "# def train(dataLoader, model, loss_fn, optimizer):\n",
    "#         size = len(dataLoader.dataset)\n",
    "#         model.train() #set model to the training mode, it just switches internal setting\n",
    "#         for batch, (X, y) in enumerate(dataLoader):\n",
    "#             X, y = X.to(device), y.to(device)\n",
    "#             predict = model(X)\n",
    "#             loss = loss_fn(predict, y)\n",
    "#             #backpropagation\n",
    "#             loss.backward()\n",
    "#             optimizer.step()\n",
    "#             optimizer.zero_grad() #?\n",
    "#             if batch % 100 == 0:\n",
    "#                 loss, current = loss.item(), (batch + 1) * len(X)\n",
    "#                 print(f\"loss: {loss:>7f}  [{current:>5d}/{size:>5d}]\")\n",
    "                \n",
    "# def test(dataloader, model, loss_fn):\n",
    "#     size = len(dataloader.dataset)\n",
    "#     num_batches = len(dataloader)\n",
    "#     model.eval()\n",
    "#     test_loss, correct = 0, 0\n",
    "#     with torch.no_grad():\n",
    "#         for X, y in dataloader:\n",
    "#             X, y = X.to(device), y.to(device)\n",
    "#             pred = model(X)\n",
    "#             test_loss += loss_fn(pred, y).item()\n",
    "#             pred = pred.flatten()\n",
    "#             y = y.flatten()\n",
    "#             for i in range(len(pred)):\n",
    "#                 predict = 1 if pred[i] >= 0.5 else 0\n",
    "#                 if predict == y[i]:\n",
    "#                    correct += 1 \n",
    "#     test_loss /= num_batches\n",
    "#     correct /= size\n",
    "#     print(f\"Test Error: \\n Accuracy: {correct}%, Avg loss: {test_loss:>8f} \\n\")\n",
    "    \n",
    "# customDataset = CustomDataset('dataset.csv')\n",
    "\n",
    "# trainData, testData = random_split(customDataset, [0.8, 0.2])\n",
    "# print(len(trainData))\n",
    "# print(len(testData))\n",
    "# trainDataLoader = DataLoader(trainData, batch_size=64, shuffle=True)\n",
    "# testDataLoader = DataLoader(testData, batch_size=64, shuffle=False)\n",
    "# model = NeuralNetworksda().to(device)\n",
    "# loss_fn = nn.BCELoss() # use binary cross entropy because we have 2 classes in target\n",
    "# optimizer = torch.optim.SGD(model.parameters(), lr= 0.0001) #? adam\n",
    "\n",
    "# epochs = 100\n",
    "# for t in range(epochs):\n",
    "#     print(f'Epoch {t + 1} \\n-----------------------------')\n",
    "#     train(trainDataLoader, model, loss_fn, optimizer)\n",
    "#     test(testDataLoader, model, loss_fn)\n",
    "# print(\"DONE!\")\n"
   ]
  }
 ],
 "metadata": {
  "kernelspec": {
   "display_name": "base",
   "language": "python",
   "name": "python3"
  },
  "language_info": {
   "codemirror_mode": {
    "name": "ipython",
    "version": 3
   },
   "file_extension": ".py",
   "mimetype": "text/x-python",
   "name": "python",
   "nbconvert_exporter": "python",
   "pygments_lexer": "ipython3",
   "version": "3.12.7"
  }
 },
 "nbformat": 4,
 "nbformat_minor": 5
}
