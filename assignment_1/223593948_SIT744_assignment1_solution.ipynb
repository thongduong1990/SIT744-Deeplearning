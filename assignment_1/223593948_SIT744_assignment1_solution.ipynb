{
 "cells": [
  {
   "cell_type": "markdown",
   "id": "396bb25c",
   "metadata": {},
   "source": [
    "---\n",
    "# Assigment 1\n",
    "\n",
    "Name: DUONG SON THONG\n",
    "\n",
    "Student Number: 223593948\n",
    "\n",
    "Email: s223593948@deakin.edu.au\n",
    "\n",
    "Postgraduate (SIT744)\n",
    "\n",
    "---"
   ]
  },
  {
   "cell_type": "markdown",
   "id": "643b3792",
   "metadata": {},
   "source": [
    "## Introduction"
   ]
  },
  {
   "cell_type": "markdown",
   "id": "b0d06458",
   "metadata": {},
   "source": [
    "Data link: https://www.kaggle.com/datasets/nanditapore/healthcare-diabetes\n"
   ]
  },
  {
   "cell_type": "markdown",
   "id": "dafbffb3",
   "metadata": {},
   "source": [
    "The Diabetes Prediction Dataset is a useful resource for researchers, data scientists, and healthcare professionals working on diabetes risk prediction. It contains a range of important health-related features that were carefully collected to support the development of deep learning models. These models can help identify individuals who may be at risk of developing diabetes, supporting efforts in early detection and more effective treatment planning."
   ]
  },
  {
   "cell_type": "markdown",
   "id": "290258ad",
   "metadata": {},
   "source": [
    "# Describe the dataset\n",
    "\n",
    "This dataset comprises medical diagnostic measurements for **2,768 samples**, primarily used for predictive modeling of diabetes. It contains **10 columns**, each representing patient attributes or outcomes related to diabetes diagnostics.\n",
    "\n",
    "**Variables**\n",
    "\n",
    "| Variable Name | Label                             |\n",
    "|---------------------|-------------------------------------------------|\n",
    "| Pregnancies         | Number of times the individual has been pregnant|\n",
    "| Glucose             | Plasma glucose concentration (mg/dL)            |\n",
    "| BloodPressure       | Diastolic blood pressure (mm Hg)                |\n",
    "| SkinThickness       | Triceps skinfold thickness (mm)                 |\n",
    "| Insulin             | 2-Hour serum insulin (mu U/ml).                 |\n",
    "| BMI                 | Body mass index (weight in kg/(height in m)^2)  |\n",
    "| DiabetesPedigreeFunction      | A function representing diabetes likelihood based on family history          |\n",
    "| Age                 | Age of the individual (years)  |\n",
    "| Outcome                 | Binary indicator of diabetes presence (1 = diabetic, 0 = non-diabetic)  |\n",
    "| Id                 | Unique identifier for each record.  |"
   ]
  },
  {
   "cell_type": "markdown",
   "id": "53d7d97d",
   "metadata": {},
   "source": [
    "**Import package**"
   ]
  },
  {
   "cell_type": "code",
   "execution_count": 9,
   "id": "6016a782",
   "metadata": {},
   "outputs": [],
   "source": [
    "import torch\n",
    "from torch import nn\n",
    "import pandas as pd\n",
    "from torch.utils.data import DataLoader, random_split, Dataset\n",
    "from sklearn.preprocessing import StandardScaler\n"
   ]
  },
  {
   "cell_type": "markdown",
   "id": "a17eaa38",
   "metadata": {},
   "source": [
    "## **Set 1 Build a Simple Neural Network (P-Level Tasks)**"
   ]
  },
  {
   "cell_type": "markdown",
   "id": "41041962",
   "metadata": {},
   "source": [
    "1. Determine a machine learning problem (e.g., Forecasting Energy Consumption in a Building) that you want to solve with neural networks. \n",
    "\n",
    "    This dataset contains medical diagnostic measurements from female patients. The task is to predict whether a patient has diabetes (binary classification) based on features such as glucose level, BMI, age, and more. Neural networks can be employed to model complex relationships between these health indicators and the likelihood of diabetes.\n",
    "\n",
    "2. Describe the problem, objectives.\n",
    "    Primary Goal: Develop a neural network to accurately classify whether a patient has diabetes (Outcome: 1) or not (Outcome: 0)\n",
    "        \n",
    "3. potential ethical concerns, including dataset biases.    "
   ]
  },
  {
   "cell_type": "markdown",
   "id": "6b5542d2",
   "metadata": {},
   "source": []
  },
  {
   "cell_type": "code",
   "execution_count": 30,
   "id": "162b3125",
   "metadata": {},
   "outputs": [
    {
     "data": {
      "application/vnd.microsoft.datawrangler.viewer.v0+json": {
       "columns": [
        {
         "name": "index",
         "rawType": "int64",
         "type": "integer"
        },
        {
         "name": "Id",
         "rawType": "int64",
         "type": "integer"
        },
        {
         "name": "Pregnancies",
         "rawType": "int64",
         "type": "integer"
        },
        {
         "name": "Glucose",
         "rawType": "int64",
         "type": "integer"
        },
        {
         "name": "BloodPressure",
         "rawType": "int64",
         "type": "integer"
        },
        {
         "name": "SkinThickness",
         "rawType": "int64",
         "type": "integer"
        },
        {
         "name": "Insulin",
         "rawType": "int64",
         "type": "integer"
        },
        {
         "name": "BMI",
         "rawType": "float64",
         "type": "float"
        },
        {
         "name": "DiabetesPedigreeFunction",
         "rawType": "float64",
         "type": "float"
        },
        {
         "name": "Age",
         "rawType": "int64",
         "type": "integer"
        },
        {
         "name": "Outcome",
         "rawType": "int64",
         "type": "integer"
        }
       ],
       "ref": "bc67ec14-5400-42e0-b433-05e6f6ed4b86",
       "rows": [
        [
         "0",
         "1",
         "6",
         "148",
         "72",
         "35",
         "0",
         "33.6",
         "0.627",
         "50",
         "1"
        ],
        [
         "1",
         "2",
         "1",
         "85",
         "66",
         "29",
         "0",
         "26.6",
         "0.351",
         "31",
         "0"
        ],
        [
         "2",
         "3",
         "8",
         "183",
         "64",
         "0",
         "0",
         "23.3",
         "0.672",
         "32",
         "1"
        ],
        [
         "3",
         "4",
         "1",
         "89",
         "66",
         "23",
         "94",
         "28.1",
         "0.167",
         "21",
         "0"
        ],
        [
         "4",
         "5",
         "0",
         "137",
         "40",
         "35",
         "168",
         "43.1",
         "2.288",
         "33",
         "1"
        ]
       ],
       "shape": {
        "columns": 10,
        "rows": 5
       }
      },
      "text/html": [
       "<div>\n",
       "<style scoped>\n",
       "    .dataframe tbody tr th:only-of-type {\n",
       "        vertical-align: middle;\n",
       "    }\n",
       "\n",
       "    .dataframe tbody tr th {\n",
       "        vertical-align: top;\n",
       "    }\n",
       "\n",
       "    .dataframe thead th {\n",
       "        text-align: right;\n",
       "    }\n",
       "</style>\n",
       "<table border=\"1\" class=\"dataframe\">\n",
       "  <thead>\n",
       "    <tr style=\"text-align: right;\">\n",
       "      <th></th>\n",
       "      <th>Id</th>\n",
       "      <th>Pregnancies</th>\n",
       "      <th>Glucose</th>\n",
       "      <th>BloodPressure</th>\n",
       "      <th>SkinThickness</th>\n",
       "      <th>Insulin</th>\n",
       "      <th>BMI</th>\n",
       "      <th>DiabetesPedigreeFunction</th>\n",
       "      <th>Age</th>\n",
       "      <th>Outcome</th>\n",
       "    </tr>\n",
       "  </thead>\n",
       "  <tbody>\n",
       "    <tr>\n",
       "      <th>0</th>\n",
       "      <td>1</td>\n",
       "      <td>6</td>\n",
       "      <td>148</td>\n",
       "      <td>72</td>\n",
       "      <td>35</td>\n",
       "      <td>0</td>\n",
       "      <td>33.6</td>\n",
       "      <td>0.627</td>\n",
       "      <td>50</td>\n",
       "      <td>1</td>\n",
       "    </tr>\n",
       "    <tr>\n",
       "      <th>1</th>\n",
       "      <td>2</td>\n",
       "      <td>1</td>\n",
       "      <td>85</td>\n",
       "      <td>66</td>\n",
       "      <td>29</td>\n",
       "      <td>0</td>\n",
       "      <td>26.6</td>\n",
       "      <td>0.351</td>\n",
       "      <td>31</td>\n",
       "      <td>0</td>\n",
       "    </tr>\n",
       "    <tr>\n",
       "      <th>2</th>\n",
       "      <td>3</td>\n",
       "      <td>8</td>\n",
       "      <td>183</td>\n",
       "      <td>64</td>\n",
       "      <td>0</td>\n",
       "      <td>0</td>\n",
       "      <td>23.3</td>\n",
       "      <td>0.672</td>\n",
       "      <td>32</td>\n",
       "      <td>1</td>\n",
       "    </tr>\n",
       "    <tr>\n",
       "      <th>3</th>\n",
       "      <td>4</td>\n",
       "      <td>1</td>\n",
       "      <td>89</td>\n",
       "      <td>66</td>\n",
       "      <td>23</td>\n",
       "      <td>94</td>\n",
       "      <td>28.1</td>\n",
       "      <td>0.167</td>\n",
       "      <td>21</td>\n",
       "      <td>0</td>\n",
       "    </tr>\n",
       "    <tr>\n",
       "      <th>4</th>\n",
       "      <td>5</td>\n",
       "      <td>0</td>\n",
       "      <td>137</td>\n",
       "      <td>40</td>\n",
       "      <td>35</td>\n",
       "      <td>168</td>\n",
       "      <td>43.1</td>\n",
       "      <td>2.288</td>\n",
       "      <td>33</td>\n",
       "      <td>1</td>\n",
       "    </tr>\n",
       "  </tbody>\n",
       "</table>\n",
       "</div>"
      ],
      "text/plain": [
       "   Id  Pregnancies  Glucose  BloodPressure  SkinThickness  Insulin   BMI  \\\n",
       "0   1            6      148             72             35        0  33.6   \n",
       "1   2            1       85             66             29        0  26.6   \n",
       "2   3            8      183             64              0        0  23.3   \n",
       "3   4            1       89             66             23       94  28.1   \n",
       "4   5            0      137             40             35      168  43.1   \n",
       "\n",
       "   DiabetesPedigreeFunction  Age  Outcome  \n",
       "0                     0.627   50        1  \n",
       "1                     0.351   31        0  \n",
       "2                     0.672   32        1  \n",
       "3                     0.167   21        0  \n",
       "4                     2.288   33        1  "
      ]
     },
     "execution_count": 30,
     "metadata": {},
     "output_type": "execute_result"
    }
   ],
   "source": [
    "datasetCsv = pd.read_csv('dataset.csv')\n",
    "datasetCsv.head()"
   ]
  },
  {
   "cell_type": "code",
   "execution_count": null,
   "id": "82e205c9",
   "metadata": {},
   "outputs": [],
   "source": [
    "device = torch.accelerator.current_accelerator().type if torch.accelerator.is_available() else \"cpu\"\n",
    "\n",
    "class CustomDataset(Dataset):\n",
    "    def __init__(self, csv_name):\n",
    "        datasetCsv = pd.read_csv(csv_name)\n",
    "        self.len = len(datasetCsv)\n",
    "        scaleData = StandardScaler() # normalize\n",
    "        scaledData = scaleData.fit(datasetCsv)\n",
    "        self.data = scaledData\n",
    "        \n",
    "    def __len__(self):\n",
    "        return len(self.len)\n",
    "    \n",
    "    def __getitem__(self, index):\n",
    "        row = self.data.iloc[index]\n",
    "        features = torch.tensor(row[:-1].values, dtype=torch.float32)\n",
    "        label = torch.tensor(row[-1], dtype=torch.float32).unsqueeze(0)  # shape [1]\n",
    "        return features, label\n",
    "\n",
    "class NeuralNetworksda(nn.Module):\n",
    "    def __init__(self):\n",
    "        super().__init__()\n",
    "        self.flatten = nn.Flatten()\n",
    "        self.linear_relu_stack = nn.Sequential(\n",
    "            nn.Linear(9, 9),\n",
    "            nn.ReLU(),\n",
    "            nn.Linear(9, 1),\n",
    "            nn.Sigmoid()\n",
    "        )\n",
    "    \n",
    "    def forward(self, x):\n",
    "        logits = self.linear_relu_stack(x)\n",
    "        return logits\n",
    "\n",
    "def train(dataLoader, model, loss_fn, optimizer):\n",
    "        size = len(dataLoader.dataset)\n",
    "        model.train() #set model to the training mode, it just switches internal setting\n",
    "        for batch, (X, y) in enumerate(dataLoader):\n",
    "            X, y = X.to(device), y.to(device)\n",
    "            predict = model(X)\n",
    "            loss = loss_fn(predict, y)\n",
    "            #backpropagation\n",
    "            loss.backward()\n",
    "            optimizer.step()\n",
    "            optimizer.zero_grad() #?\n",
    "            if batch % 100 == 0:\n",
    "                loss, current = loss.item(), (batch + 1) * len(X)\n",
    "                print(f\"loss: {loss:>7f}  [{current:>5d}/{size:>5d}]\")\n",
    "                \n",
    "def test(dataloader, model, loss_fn):\n",
    "    size = len(dataloader.dataset)\n",
    "    num_batches = len(dataloader)\n",
    "    model.eval()\n",
    "    test_loss, correct = 0, 0\n",
    "    with torch.no_grad():\n",
    "        for X, y in dataloader:\n",
    "            X, y = X.to(device), y.to(device)\n",
    "            pred = model(X)\n",
    "            test_loss += loss_fn(pred, y).item()\n",
    "            pred = pred.flatten()\n",
    "            y = y.flatten()\n",
    "            for i in range(len(pred)):\n",
    "                predict = 1 if pred[i] >= 0.5 else 0\n",
    "                if predict == y[i]:\n",
    "                   correct += 1 \n",
    "    test_loss /= num_batches\n",
    "    correct /= size\n",
    "    print(f\"Test Error: \\n Accuracy: {correct}%, Avg loss: {test_loss:>8f} \\n\")\n",
    "    \n",
    "customDataset = CustomDataset('dataset.csv')\n",
    "\n",
    "trainData, testData = random_split(customDataset, [0.8, 0.2])\n",
    "print(len(trainData))\n",
    "print(len(testData))\n",
    "trainDataLoader = DataLoader(trainData, batch_size=64, shuffle=True)\n",
    "testDataLoader = DataLoader(testData, batch_size=64, shuffle=False)\n",
    "model = NeuralNetworksda().to(device)\n",
    "loss_fn = nn.BCELoss() # use binary cross entropy because we have 2 classes in target\n",
    "optimizer = torch.optim.SGD(model.parameters(), lr= 0.0001) #? adam\n",
    "\n",
    "epochs = 100\n",
    "for t in range(epochs):\n",
    "    print(f'Epoch {t + 1} \\n-----------------------------')\n",
    "    train(trainDataLoader, model, loss_fn, optimizer)\n",
    "    test(testDataLoader, model, loss_fn)\n",
    "print(\"DONE!\")\n"
   ]
  }
 ],
 "metadata": {
  "kernelspec": {
   "display_name": "base",
   "language": "python",
   "name": "python3"
  },
  "language_info": {
   "codemirror_mode": {
    "name": "ipython",
    "version": 3
   },
   "file_extension": ".py",
   "mimetype": "text/x-python",
   "name": "python",
   "nbconvert_exporter": "python",
   "pygments_lexer": "ipython3",
   "version": "3.12.7"
  }
 },
 "nbformat": 4,
 "nbformat_minor": 5
}
