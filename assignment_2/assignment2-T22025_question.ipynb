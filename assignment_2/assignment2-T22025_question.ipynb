{
 "cells": [
  {
   "cell_type": "markdown",
   "metadata": {
    "id": "TMhkl_3pb8cj"
   },
   "source": [
    "# SIT744 Assignment 2 (T2 2025)\n",
    "\n",
    "Due: Week 7 Monday 8:00 pm (AEST)\n",
    "\n",
    "This is an individual assignment. It contributes 30% to your final mark. Read the assignment instructions carefully.\n",
    "\n",
    "## What to submit\n",
    "By the due date, you are required to submit the following files to the corresponding Assignment (Dropbox) in CloudDeakin:\n",
    "\n",
    "- **[YourID]_[UnitCode]_assignment2_solution.ipynb**: This is your Python notebook solution source file.\n",
    "- **[YourID]_[UnitCode]_assignment2_output.pdf**: This is the output of your Python notebook solution exported in PDF format. (You may use [nbconvert](https://github.com/jupyter/nbconvert).)\n",
    "- (HD Task only) A short (less than 5 minutes) screencast explaining your work (including study design, implementation, and main conclusions).\n",
    "- Extra files required to complete your assignment, if any (e.g., images used in your answers).\n",
    "\n",
    "For example, if your student ID is: 123456, and you are a SIT744 student, you will then need to submit the following files:\n",
    "\n",
    "- 123456_SIT744_assignment2_solution.ipynb\n",
    "- 123456_SIT744_assignment2_output.pdf\n",
    "\n",
    "Please keep your answers short and to the point. Clean up your code outputs to reduce unnecessary information (e.g., excessively long training logs).\n",
    "\n"
   ]
  },
  {
   "cell_type": "markdown",
   "metadata": {
    "id": "JOr2bP8kAzKE"
   },
   "source": [
    "## Assignment objective\n",
    "\n",
    "This assignment is for you to demonstrate the knowledge in deep learning that you have acquired from the lectures and practical lab materials. Most P-level tasks in this assignment are straightforward applications of the practical materials in weeks 1-5. Going through these materials before attempting this assignment is highly recommended.\n",
    "\n",
    "\n",
    "This assignment consists of four sets of tasks with progressive level of challenges.\n",
    "\n",
    "- Set 1 (P Tasks)\n",
    "- Set 2 (C Tasks)\n",
    "- Set 3 (D Tasks)\n",
    "- Set 4 (HD Tasks)\n",
    "\n",
    "Set 1 is labeled as P tasks because these demonstrate the minimum requirements of the unit. Concentrate on the P tasks first as these are the foundation for all the rest. As you move through sets 2, 3 and 4, the tasks become more challenging, with each allowing you to obtain the marks required to achieve the next achievement level (C, D, and HD respectively).\n",
    "\n",
    "## Marking criteria\n",
    "Indicative weights of various tasks are provided below, but your submission will be marked by the following criteria, adjusting for the overall quality.\n",
    "\n",
    "### P-level expectation\n",
    "- Showing good effort through completed tasks.\n",
    "- Applying deep learning theory to design suitable deep learning solutions for the tasks.\n",
    "- Demonstrating at least ‘Analysis’ level (Level 4) thinking in Bloom’s Taxonomy. This means you should not only implement the tasks but also examine, compare, and interpret results, explaining why certain decisions were made and what patterns or insights are revealed by your solution.\n",
    "\n",
    "### C-level expectation\n",
    "- Showing attention to detail through a good quality assignment report.\n",
    "\n",
    "### D-level expectation\n",
    "- Demonstrating creativity and resourcefulness in providing unique individual solutions.\n",
    "- Critically evaluating and reflecting on the pros and cons of various design decisions.\n",
    "\n",
    "### HD-level expectation\n",
    "- Extending classroom learning to research and tackle previously unexplored theoretical questions or novel applications\n",
    "\n",
    "**(Warning: Highly similar solutions will be investigated for collusion.)**\n"
   ]
  },
  {
   "cell_type": "markdown",
   "metadata": {
    "id": "lto8bj2Gkt4Z"
   },
   "source": [
    "Run the following code before you start."
   ]
  },
  {
   "cell_type": "code",
   "execution_count": null,
   "metadata": {
    "colab": {
     "base_uri": "https://localhost:8080/"
    },
    "executionInfo": {
     "elapsed": 12323,
     "status": "ok",
     "timestamp": 1742637049091,
     "user": {
      "displayName": "Wei Luo",
      "userId": "01176934800024581303"
     },
     "user_tz": -660
    },
    "id": "kYZVoHZ8glxW",
    "outputId": "b6d3cead-5031-4bc5-c333-20fbee538e11"
   },
   "outputs": [
    {
     "name": "stdout",
     "output_type": "stream",
     "text": [
      "Enter your full name: dfw\n",
      "Enter your email address: aqw\n",
      "Enter your student ID: fdsdf\n",
      "Code authored by root (dfw fdsdf aqw) on 2025-03-22 09:50:36  from IP address 172.28.0.12\n"
     ]
    }
   ],
   "source": [
    "import getpass\n",
    "import datetime\n",
    "import socket\n",
    "\n",
    "def generate_author_claim():\n",
    "    # Get current user\n",
    "    user = getpass.getuser()\n",
    "\n",
    "    # Get current timestamp\n",
    "    timestamp = datetime.datetime.now().strftime(\"%Y-%m-%d %H:%M:%S\")\n",
    "\n",
    "    # Get current IP address\n",
    "    ip_address = socket.gethostbyname(socket.gethostname())\n",
    "\n",
    "    # Enter your name\n",
    "    name = input(\"Enter your full name: \")\n",
    "\n",
    "    # Enter your email address\n",
    "    email = input(\"Enter your email address: \")\n",
    "\n",
    "    # Enter your student ID\n",
    "    student_id = input(\"Enter your student ID: \")\n",
    "\n",
    "    # Generate author claim string\n",
    "    author_claim = f\"Code authored by {user} ({name} {student_id} {email}) on {timestamp}  from IP address {ip_address}\"\n",
    "\n",
    "    return author_claim\n",
    "\n",
    "# Generate the author claim string\n",
    "author_claim = generate_author_claim()\n",
    "\n",
    "# Print the author claim string\n",
    "print(author_claim)\n"
   ]
  },
  {
   "cell_type": "markdown",
   "metadata": {
    "id": "lnE7ZFS_AzLg"
   },
   "source": [
    "## **Set 1 (P Tasks) Construct a forward neural network**\n",
    "*(weight ~60%)*\n",
    "\n",
    "With this set of tasks, you are going to build a neural network for a classification task. You will train the model on a MIT-BIH Arrhythmia dataset that can be downloaded from the unit site. you can review [the paper](https://www.researchgate.net/publication/352809452_Harnessing_Artificial_Intelligence_for_Secure_ECG_Analytics_at_the_Edge_for_Cardiac_Arrhythmia_Classification) to understand this dataset better. "
   ]
  },
  {
   "cell_type": "markdown",
   "metadata": {
    "id": "DDE-8C5IVGSd"
   },
   "source": [
    "### Task 1.1 Understanding the data\n",
    "\n",
    "*(weight ~20%)*\n",
    "\n",
    "\n",
    "1. Describe the dataset and target labels for the prediction task. \n",
    "  * Examine training examples from each target class and **explain** any patterns you observe.\n",
    "  * **Analyse** how these patterns might impact model training or the difficulty of classification.\n",
    "2. Describe the data types of each feature. What preprocessing steps are required? Why?\n",
    "3. Prepare the data for learning a neural network, including preprocessing, creating training, validation, and test datasets. How many training examples and how many test examples are you using?\n"
   ]
  },
  {
   "cell_type": "markdown",
   "metadata": {
    "id": "ChlhkwhkAzLi"
   },
   "source": [
    "### Task 1.2 Setting up a model for training\n",
    "\n",
    "(weight ~ 20%)"
   ]
  },
  {
   "cell_type": "markdown",
   "metadata": {
    "id": "yuxhQM6jAzLl"
   },
   "source": [
    "Construct a deep feedforward neural network. In other words, you can use **only fully connected (dense) layers**. You need to decide and report the following configurations:\n",
    "\n",
    "- Output layer:\n",
    "    - How many output nodes?\n",
    "    - Which activation function?\n",
    "- Hidden layers:\n",
    "    - How many hidden layers?\n",
    "    - How many nodes in each layer?\n",
    "    - Which activation function for each layer?\n",
    "- Input layer\n",
    "    - What is the input size?\n",
    "    - Do you need to reshape the input? Why?\n",
    "\n",
    "Justify your model design decisions.\n",
    "\n",
    "Plot the model structure using `torchsummary` or similar tools.\n",
    "\n"
   ]
  },
  {
   "cell_type": "markdown",
   "metadata": {
    "id": "MZ2BVK5tAzMM"
   },
   "source": [
    "### Task 1.3 Fitting the model\n",
    "\n",
    "(weight ~ 20%)\n",
    "\n",
    "\n",
    "Decide and report the following settings:\n",
    "\n",
    "- The loss function\n",
    "- The metrics for model evaluation (which may be different from the loss function)\n",
    "\n",
    "Explain their roles in model fitting.\n",
    "\n",
    "Decide the optimiser that you will use. Also report the following settings:\n",
    "\n",
    "1. The training batch size\n",
    "2. The number of training epochs\n",
    "3. The learning rate. If you used momentum or a learning rate schedule, please report the configuration as well.\n",
    "\n",
    "Justify your decisions.\n",
    "\n",
    "Now fit the model. Show how the training loss and the evaluation metric change. How did you decide when to stop training?\n",
    "\n",
    "\n"
   ]
  },
  {
   "cell_type": "markdown",
   "metadata": {
    "id": "4wMtOpQwUSjk"
   },
   "source": [
    "## **Set 2 (C Tasks) Improve the model**\n",
    "\n",
    "(weight ~ 10%)\n",
    "\n",
    "### Task 2.1 Check the training using visualisation\n",
    "\n",
    "Visualise the training process (e.g., using TensorBoard). Show screenshots of visualisation.\n",
    "\n",
    "Do you see overfitting or underfitting? Why?\n",
    "If you see overfitting, at which epoch did it happen?\n",
    "\n",
    "\n",
    "### Task 2.2 Apply regularisation\n",
    "\n",
    "Improve the training process by applying regularisation. Below are some options:\n",
    "\n",
    "1.   Dropout\n",
    "2.   Batch normalisation\n",
    "\n",
    "Compare the effect of different regularisation techniques on model training. You may also try other techniques for improving training such as learning rate scheduling.\n",
    "\n"
   ]
  },
  {
   "cell_type": "markdown",
   "metadata": {
    "id": "9C2VXCM-4Nw9"
   },
   "source": [
    "## **Set 3 (D Tasks) Analyse the learned representations**\n",
    "\n",
    "(weight ~ 10%)\n",
    "\n",
    "In this task, you will explore the visualization of embeddings at different layers of your trained neural network and analyse how they evolve using **Uniform Manifold Approximation and Projection** ([UMAP](https://github.com/lmcinnes/umap)). Below are detailed steps you can follow.\n",
    "\n",
    "1. Select a subset of your training data containing both classes.\n",
    "2. Extract the embeddings from each layer of the neural network model for the dataset.\n",
    "3. Apply UMAP to visualise the embeddings from each layer in a 2-dimensional space, highlighting different classes with distinct colours or markers. Include appropriate labels and legends in your plots.\n",
    "4. Analyse and discuss the evolution of the embeddings across layers. Answer the following questions in your analysis:\n",
    "\n",
    "  - Do the embeddings show a clear separation between classes at any specific layer?\n",
    "  - How do the separation and clustering of classes change as you move across layers?\n",
    "  - Are there any notable changes in the distribution or structure of the embeddings?\n",
    "  - Are there any layers where the embeddings become less discriminative or more entangled?\n",
    "\n",
    "5. Summarize your findings and provide insights into the behaviour of the neural network's representations at different layers. Discuss the implications of the observed changes in the embeddings for the network's ability to capture class-specific information and make predictions.\n",
    "\n"
   ]
  },
  {
   "cell_type": "markdown",
   "metadata": {
    "id": "4EgXZCBNAzMs"
   },
   "source": [
    "## **Set 4 (HD Tasks) Investigating Neural Collapse in Deep Learning**\n",
    "\n",
    "*(weight ~20%)*\n",
    "\n",
    "In this research task, you will explore the phenomenon of \"neural collapse\" in deep learning models. Additionally, you must identify meaningful research gaps or failure cases that arise from the literature or your own experiments.\n",
    "\n",
    "\n",
    "### Task 4.1 Examine layer rotation with Layca\n",
    "\n",
    "1. Reproduce experiments described in the paper [Layer rotation: a surprisingly powerful indicator of generalization in deep networks?](https://arxiv.org/abs/1806.01603),  Compare the results you obtained with the ones in the paper. Do you identify any discrepancies?\n",
    "\n",
    "2. What connections do you discover between the paper and what you have learnt in the unit?\n",
    "\n",
    "### Task 4.2 Design and Develop Your Own ML Solution\n",
    "1. Design and develop your own deep learning solution using CIFAR dataset. The proposed solution must be substantially different from the approaches presented in the article. However, this does not mean you are required to choose a new ML algorithm. You can develop a novel solution by changing the feature\n",
    "selection approach, using different preprocessing techniques, exploring alternative model combinations, or restructuring the training pipeline. The goal is to propose a system that is meaningfully distinct from the authors' method.\n",
    "Your technical report must include:\n",
    "* A clear motivation for the proposed solution\n",
    "* A description of how your method differs from the article\n",
    "* A well-structured experimental protocol\n",
    "* Evaluation using Accuracy, Precision, Recall, F1 Score, and AUC.\n",
    "\n",
    "### Deliverables for HD Tasks\n",
    "\n",
    "* Written submission (Max 4 pages): Summarize your approach to reproducing the experiments, key findings, and critical observations. Clearly articulate the research gaps or failure cases you identified.\n",
    "* Link to reproducible code\n",
    "* Short video presentation (Max 5 minutes): Highlight your main conclusions about neural collapse.\n",
    "Discuss the most pressing research gaps or failure cases and how addressing them could push the field forward."
   ]
  },
  {
   "cell_type": "markdown",
   "metadata": {
    "id": "N-9tV727aTzv"
   },
   "source": [
    "---\n",
    "\n",
    "### End of Assignment 2\n",
    "\n",
    "---"
   ]
  }
 ],
 "metadata": {
  "colab": {
   "authorship_tag": "ABX9TyPFcF4eQDVHSaBv0HM+JwIP",
   "provenance": [
    {
     "file_id": "1cMLhlRCR6rpInqq7SgGdql4HXcdI8qsy",
     "timestamp": 1646607235032
    }
   ]
  },
  "kernelspec": {
   "display_name": "Python 3",
   "name": "python3"
  },
  "language_info": {
   "name": "python"
  }
 },
 "nbformat": 4,
 "nbformat_minor": 0
}
