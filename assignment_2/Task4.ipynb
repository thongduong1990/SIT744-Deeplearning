{
 "cells": [
  {
   "cell_type": "markdown",
   "id": "e98dce4d",
   "metadata": {},
   "source": [
    "## **Set 4 (HD Tasks) Investigating Neural Collapse in Deep Learning**\n",
    "\n",
    "*(weight ~20%)*\n",
    "\n",
    "In this research task, you will explore the phenomenon of \"neural collapse\" in deep learning models. Additionally, you must identify meaningful research gaps or failure cases that arise from the literature or your own experiments.\n",
    "\n",
    "\n",
    "### Task 4.1 Examine layer rotation with Layca\n",
    "\n",
    "1. Reproduce experiments described in the paper [Layer rotation: a surprisingly powerful indicator of generalization in deep networks?](https://arxiv.org/abs/1806.01603),  Compare the results you obtained with the ones in the paper. Do you identify any discrepancies?\n",
    "\n",
    "2. What connections do you discover between the paper and what you have learnt in the unit?\n",
    "\n",
    "### Task 4.2 Design and Develop Your Own ML Solution\n",
    "1. Design and develop your own deep learning solution using CIFAR dataset. The proposed solution must be substantially different from the approaches presented in the article. However, this does not mean you are required to choose a new ML algorithm. You can develop a novel solution by changing the feature\n",
    "selection approach, using different preprocessing techniques, exploring alternative model combinations, or restructuring the training pipeline. The goal is to propose a system that is meaningfully distinct from the authors' method.\n",
    "Your technical report must include:\n",
    "* A clear motivation for the proposed solution\n",
    "* A description of how your method differs from the article\n",
    "* A well-structured experimental protocol\n",
    "* Evaluation using Accuracy, Precision, Recall, F1 Score, and AUC.\n",
    "\n",
    "### Deliverables for HD Tasks\n",
    "\n",
    "* Written submission (Max 4 pages): Summarize your approach to reproducing the experiments, key findings, and critical observations. Clearly articulate the research gaps or failure cases you identified.\n",
    "* Link to reproducible code\n",
    "* Short video presentation (Max 5 minutes): Highlight your main conclusions about neural collapse.\n",
    "Discuss the most pressing research gaps or failure cases and how addressing them could push the field forward."
   ]
  },
  {
   "cell_type": "markdown",
   "id": "345ec990",
   "metadata": {},
   "source": []
  }
 ],
 "metadata": {
  "language_info": {
   "name": "python"
  }
 },
 "nbformat": 4,
 "nbformat_minor": 5
}
