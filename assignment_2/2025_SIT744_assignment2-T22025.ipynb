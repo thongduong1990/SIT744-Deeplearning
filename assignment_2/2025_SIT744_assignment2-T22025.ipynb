{
 "cells": [
  {
   "cell_type": "markdown",
   "metadata": {
    "id": "TMhkl_3pb8cj"
   },
   "source": [
    "# SIT744 Assignment 2 (T2 2025)\n",
    "\n",
    "Due: Week 7 Monday 8:00 pm (AEST)\n",
    "\n",
    "This is an individual assignment. It contributes 30% to your final mark. Read the assignment instructions carefully.\n",
    "\n",
    "## What to submit\n",
    "By the due date, you are required to submit the following files to the corresponding Assignment (Dropbox) in CloudDeakin:\n",
    "\n",
    "- **[YourID]_[UnitCode]_assignment2_solution.ipynb**: This is your Python notebook solution source file.\n",
    "- **[YourID]_[UnitCode]_assignment2_output.pdf**: This is the output of your Python notebook solution exported in PDF format. (You may use [nbconvert](https://github.com/jupyter/nbconvert).)\n",
    "- (HD Task only) A short (less than 5 minutes) screencast explaining your work (including study design, implementation, and main conclusions).\n",
    "- Extra files required to complete your assignment, if any (e.g., images used in your answers).\n",
    "\n",
    "For example, if your student ID is: 123456, and you are a SIT744 student, you will then need to submit the following files:\n",
    "\n",
    "- 123456_SIT744_assignment2_solution.ipynb\n",
    "- 123456_SIT744_assignment2_output.pdf\n",
    "\n",
    "Please keep your answers short and to the point. Clean up your code outputs to reduce unnecessary information (e.g., excessively long training logs).\n",
    "\n"
   ]
  },
  {
   "cell_type": "markdown",
   "metadata": {
    "id": "JOr2bP8kAzKE"
   },
   "source": [
    "## Assignment objective\n",
    "\n",
    "This assignment is for you to demonstrate the knowledge in deep learning that you have acquired from the lectures and practical lab materials. Most P-level tasks in this assignment are straightforward applications of the practical materials in weeks 1-5. Going through these materials before attempting this assignment is highly recommended.\n",
    "\n",
    "\n",
    "This assignment consists of four sets of tasks with progressive level of challenges.\n",
    "\n",
    "- Set 1 (P Tasks)\n",
    "- Set 2 (C Tasks)\n",
    "- Set 3 (D Tasks)\n",
    "- Set 4 (HD Tasks)\n",
    "\n",
    "Set 1 is labeled as P tasks because these demonstrate the minimum requirements of the unit. Concentrate on the P tasks first as these are the foundation for all the rest. As you move through sets 2, 3 and 4, the tasks become more challenging, with each allowing you to obtain the marks required to achieve the next achievement level (C, D, and HD respectively).\n",
    "\n",
    "## Marking criteria\n",
    "Indicative weights of various tasks are provided below, but your submission will be marked by the following criteria, adjusting for the overall quality.\n",
    "\n",
    "### P-level expectation\n",
    "- Showing good effort through completed tasks.\n",
    "- Applying deep learning theory to design suitable deep learning solutions for the tasks.\n",
    "- Demonstrating at least ‘Analysis’ level (Level 4) thinking in Bloom’s Taxonomy. This means you should not only implement the tasks but also examine, compare, and interpret results, explaining why certain decisions were made and what patterns or insights are revealed by your solution.\n",
    "\n",
    "### C-level expectation\n",
    "- Showing attention to detail through a good quality assignment report.\n",
    "\n",
    "### D-level expectation\n",
    "- Demonstrating creativity and resourcefulness in providing unique individual solutions.\n",
    "- Critically evaluating and reflecting on the pros and cons of various design decisions.\n",
    "\n",
    "### HD-level expectation\n",
    "- Extending classroom learning to research and tackle previously unexplored theoretical questions or novel applications\n",
    "\n",
    "**(Warning: Highly similar solutions will be investigated for collusion.)**\n"
   ]
  },
  {
   "cell_type": "markdown",
   "metadata": {
    "id": "lto8bj2Gkt4Z"
   },
   "source": [
    "Run the following code before you start."
   ]
  },
  {
   "cell_type": "code",
   "execution_count": 72,
   "metadata": {
    "colab": {
     "base_uri": "https://localhost:8080/"
    },
    "executionInfo": {
     "elapsed": 12323,
     "status": "ok",
     "timestamp": 1742637049091,
     "user": {
      "displayName": "Wei Luo",
      "userId": "01176934800024581303"
     },
     "user_tz": -660
    },
    "id": "kYZVoHZ8glxW",
    "outputId": "b6d3cead-5031-4bc5-c333-20fbee538e11"
   },
   "outputs": [],
   "source": [
    "# import getpass\n",
    "# import datetime\n",
    "# import socket\n",
    "\n",
    "# def generate_author_claim():\n",
    "#     # Get current user\n",
    "#     user = getpass.getuser()\n",
    "\n",
    "#     # Get current timestamp\n",
    "#     timestamp = datetime.datetime.now().strftime(\"%Y-%m-%d %H:%M:%S\")\n",
    "\n",
    "#     # Get current IP address\n",
    "#     ip_address = socket.gethostbyname(socket.gethostname())\n",
    "\n",
    "#     # Enter your name\n",
    "#     name = input(\"Enter your full name: \")\n",
    "\n",
    "#     # Enter your email address\n",
    "#     email = input(\"Enter your email address: \")\n",
    "\n",
    "#     # Enter your student ID\n",
    "#     student_id = input(\"Enter your student ID: \")\n",
    "\n",
    "#     # Generate author claim string\n",
    "#     author_claim = f\"Code authored by {user} ({name} {student_id} {email}) on {timestamp}  from IP address {ip_address}\"\n",
    "\n",
    "#     return author_claim\n",
    "\n",
    "# # Generate the author claim string\n",
    "# author_claim = generate_author_claim()\n",
    "\n",
    "# # Print the author claim string\n",
    "# print(author_claim)\n"
   ]
  },
  {
   "cell_type": "markdown",
   "metadata": {},
   "source": [
    "### Import Modules"
   ]
  },
  {
   "cell_type": "code",
   "execution_count": 73,
   "metadata": {},
   "outputs": [],
   "source": [
    "import numpy as np\n",
    "import pandas as pd\n",
    "from sklearn.preprocessing import LabelEncoder\n",
    "from sklearn.preprocessing import StandardScaler\n",
    "import torch\n",
    "import torch.nn as nn\n",
    "import torch.nn.functional as F\n",
    "from torch.utils.data import DataLoader, random_split, Dataset\n",
    "from sklearn.impute import SimpleImputer\n",
    "import numpy as np\n",
    "from sklearn.preprocessing import StandardScaler\n",
    "from imblearn.over_sampling import SMOTE\n",
    "from torch.utils.tensorboard import SummaryWriter\n",
    "import time\n",
    "import matplotlib.pyplot as plt\n",
    "import seaborn as sns\n",
    "from sklearn.model_selection import train_test_split\n",
    "from imblearn.over_sampling import SMOTE\n"
   ]
  },
  {
   "cell_type": "markdown",
   "metadata": {
    "id": "lnE7ZFS_AzLg"
   },
   "source": [
    "## **Set 1 (P Tasks) Construct a forward neural network**\n",
    "*(weight ~60%)*\n",
    "\n",
    "With this set of tasks, you are going to build a neural network for a classification task. You will train the model on a MIT-BIH Arrhythmia dataset that can be downloaded from the unit site. you can review [the paper](https://www.researchgate.net/publication/352809452_Harnessing_Artificial_Intelligence_for_Secure_ECG_Analytics_at_the_Edge_for_Cardiac_Arrhythmia_Classification) to understand this dataset better. "
   ]
  },
  {
   "cell_type": "markdown",
   "metadata": {
    "id": "DDE-8C5IVGSd"
   },
   "source": [
    "### Task 1.1 Understanding the data\n",
    "\n",
    "*(weight ~20%)*\n",
    "\n",
    "---\n",
    "### **Need Review**? What does the patterns mean? \n",
    "**1. Describe the dataset and target labels for the prediction task.** \n",
    "  * Examine training examples from each target class and **explain** any patterns you observe.\n",
    "  * **Analyse** how these patterns might impact model training or the difficulty of classification.\n",
    "---"
   ]
  },
  {
   "cell_type": "markdown",
   "metadata": {},
   "source": [
    "**Answer**"
   ]
  },
  {
   "cell_type": "code",
   "execution_count": 74,
   "metadata": {},
   "outputs": [
    {
     "name": "stdout",
     "output_type": "stream",
     "text": [
      "number of class = ['N' 'Q' 'SVEB' 'VEB' 'F']\n",
      "class N has 90083 rows\n",
      "class Q has 15 rows\n",
      "class SVEB has 2779 rows\n",
      "class VEB has 7009 rows\n",
      "class F has 803 rows\n",
      "-----------------------\n",
      "number of patient = 44\n"
     ]
    }
   ],
   "source": [
    "data_frame = pd.read_csv('data.csv')\n",
    "\n",
    "type = data_frame['type'].unique()\n",
    "patient = data_frame['record'].unique()\n",
    "print(f'number of class = {type}')\n",
    "for i in type:\n",
    "    print(f'class {i} has {(data_frame['type'] == i).sum()} rows')\n",
    "print('-----------------------')\n",
    "print(f'number of patient = {len(patient)}')"
   ]
  },
  {
   "cell_type": "markdown",
   "metadata": {},
   "source": [
    "**Describe the dataset:**\n",
    "- This is ECG data used to classify the heartbeat disease. The dataset includes 4 classes, they are very imbalance when the largest target (N) has 90083 samples and smallest target (Q) has only 15 samples"
   ]
  },
  {
   "cell_type": "markdown",
   "metadata": {},
   "source": [
    "**The patterns and impact**\n",
    "- The Q class has very few examples, which makes it difficult for the model to learn meaningful patterns. Overall, the dataset is highly imbalanced, which may bias the model towards predicting the majority class (N)."
   ]
  },
  {
   "cell_type": "markdown",
   "metadata": {},
   "source": [
    "---"
   ]
  },
  {
   "cell_type": "markdown",
   "metadata": {},
   "source": [
    "**2. Describe the data types of each feature. What preprocessing steps are required? Why?**\n",
    "\n"
   ]
  },
  {
   "cell_type": "markdown",
   "metadata": {},
   "source": [
    "**Answer**"
   ]
  },
  {
   "cell_type": "markdown",
   "metadata": {},
   "source": [
    "<u>Describe the data types of each feature.</u>\n",
    "- This code is used to check data types of each feature"
   ]
  },
  {
   "cell_type": "code",
   "execution_count": 75,
   "metadata": {},
   "outputs": [
    {
     "data": {
      "application/vnd.microsoft.datawrangler.viewer.v0+json": {
       "columns": [
        {
         "name": "index",
         "rawType": "int64",
         "type": "integer"
        },
        {
         "name": "record",
         "rawType": "object",
         "type": "string"
        },
        {
         "name": "type",
         "rawType": "object",
         "type": "string"
        },
        {
         "name": "0_pre-RR",
         "rawType": "object",
         "type": "string"
        },
        {
         "name": "0_post-RR",
         "rawType": "object",
         "type": "string"
        },
        {
         "name": "0_pPeak",
         "rawType": "object",
         "type": "string"
        },
        {
         "name": "0_tPeak",
         "rawType": "object",
         "type": "string"
        },
        {
         "name": "0_rPeak",
         "rawType": "object",
         "type": "string"
        },
        {
         "name": "0_sPeak",
         "rawType": "object",
         "type": "string"
        },
        {
         "name": "0_qPeak",
         "rawType": "object",
         "type": "string"
        },
        {
         "name": "0_qrs_interval",
         "rawType": "object",
         "type": "string"
        },
        {
         "name": "0_pq_interval",
         "rawType": "object",
         "type": "string"
        },
        {
         "name": "0_qt_interval",
         "rawType": "object",
         "type": "string"
        },
        {
         "name": "0_st_interval",
         "rawType": "object",
         "type": "string"
        },
        {
         "name": "0_qrs_morph0",
         "rawType": "object",
         "type": "string"
        },
        {
         "name": "0_qrs_morph1",
         "rawType": "object",
         "type": "string"
        },
        {
         "name": "0_qrs_morph2",
         "rawType": "object",
         "type": "string"
        },
        {
         "name": "0_qrs_morph3",
         "rawType": "object",
         "type": "string"
        },
        {
         "name": "0_qrs_morph4",
         "rawType": "object",
         "type": "string"
        },
        {
         "name": "1_pre-RR",
         "rawType": "object",
         "type": "string"
        },
        {
         "name": "1_post-RR",
         "rawType": "object",
         "type": "string"
        },
        {
         "name": "1_pPeak",
         "rawType": "object",
         "type": "string"
        },
        {
         "name": "1_tPeak",
         "rawType": "object",
         "type": "string"
        },
        {
         "name": "1_rPeak",
         "rawType": "object",
         "type": "string"
        },
        {
         "name": "1_sPeak",
         "rawType": "object",
         "type": "string"
        },
        {
         "name": "1_qPeak",
         "rawType": "object",
         "type": "string"
        },
        {
         "name": "1_qrs_interval",
         "rawType": "object",
         "type": "string"
        },
        {
         "name": "1_pq_interval",
         "rawType": "object",
         "type": "string"
        },
        {
         "name": "1_qt_interval",
         "rawType": "object",
         "type": "string"
        },
        {
         "name": "1_st_interval",
         "rawType": "object",
         "type": "string"
        },
        {
         "name": "1_qrs_morph0",
         "rawType": "object",
         "type": "string"
        },
        {
         "name": "1_qrs_morph1",
         "rawType": "object",
         "type": "string"
        },
        {
         "name": "1_qrs_morph2",
         "rawType": "object",
         "type": "string"
        },
        {
         "name": "1_qrs_morph3",
         "rawType": "object",
         "type": "string"
        },
        {
         "name": "1_qrs_morph4",
         "rawType": "object",
         "type": "string"
        }
       ],
       "ref": "bc7bbaf2-e7d4-4755-a97a-73399e6e3ce2",
       "rows": [
        [
         "0",
         "int64",
         "object",
         "int64",
         "float64",
         "float64",
         "float64",
         "float64",
         "float64",
         "float64",
         "int64",
         "int64",
         "int64",
         "int64",
         "float64",
         "float64",
         "float64",
         "float64",
         "float64",
         "int64",
         "float64",
         "float64",
         "float64",
         "float64",
         "float64",
         "float64",
         "int64",
         "int64",
         "int64",
         "int64",
         "float64",
         "float64",
         "float64",
         "float64",
         "float64"
        ]
       ],
       "shape": {
        "columns": 34,
        "rows": 1
       }
      },
      "text/html": [
       "<div>\n",
       "<style scoped>\n",
       "    .dataframe tbody tr th:only-of-type {\n",
       "        vertical-align: middle;\n",
       "    }\n",
       "\n",
       "    .dataframe tbody tr th {\n",
       "        vertical-align: top;\n",
       "    }\n",
       "\n",
       "    .dataframe thead th {\n",
       "        text-align: right;\n",
       "    }\n",
       "</style>\n",
       "<table border=\"1\" class=\"dataframe\">\n",
       "  <thead>\n",
       "    <tr style=\"text-align: right;\">\n",
       "      <th></th>\n",
       "      <th>record</th>\n",
       "      <th>type</th>\n",
       "      <th>0_pre-RR</th>\n",
       "      <th>0_post-RR</th>\n",
       "      <th>0_pPeak</th>\n",
       "      <th>0_tPeak</th>\n",
       "      <th>0_rPeak</th>\n",
       "      <th>0_sPeak</th>\n",
       "      <th>0_qPeak</th>\n",
       "      <th>0_qrs_interval</th>\n",
       "      <th>...</th>\n",
       "      <th>1_qPeak</th>\n",
       "      <th>1_qrs_interval</th>\n",
       "      <th>1_pq_interval</th>\n",
       "      <th>1_qt_interval</th>\n",
       "      <th>1_st_interval</th>\n",
       "      <th>1_qrs_morph0</th>\n",
       "      <th>1_qrs_morph1</th>\n",
       "      <th>1_qrs_morph2</th>\n",
       "      <th>1_qrs_morph3</th>\n",
       "      <th>1_qrs_morph4</th>\n",
       "    </tr>\n",
       "  </thead>\n",
       "  <tbody>\n",
       "    <tr>\n",
       "      <th>0</th>\n",
       "      <td>int64</td>\n",
       "      <td>object</td>\n",
       "      <td>int64</td>\n",
       "      <td>float64</td>\n",
       "      <td>float64</td>\n",
       "      <td>float64</td>\n",
       "      <td>float64</td>\n",
       "      <td>float64</td>\n",
       "      <td>float64</td>\n",
       "      <td>int64</td>\n",
       "      <td>...</td>\n",
       "      <td>float64</td>\n",
       "      <td>int64</td>\n",
       "      <td>int64</td>\n",
       "      <td>int64</td>\n",
       "      <td>int64</td>\n",
       "      <td>float64</td>\n",
       "      <td>float64</td>\n",
       "      <td>float64</td>\n",
       "      <td>float64</td>\n",
       "      <td>float64</td>\n",
       "    </tr>\n",
       "  </tbody>\n",
       "</table>\n",
       "<p>1 rows × 34 columns</p>\n",
       "</div>"
      ],
      "text/plain": [
       "  record    type 0_pre-RR 0_post-RR  0_pPeak  0_tPeak  0_rPeak  0_sPeak  \\\n",
       "0  int64  object    int64   float64  float64  float64  float64  float64   \n",
       "\n",
       "   0_qPeak 0_qrs_interval  ...  1_qPeak 1_qrs_interval 1_pq_interval  \\\n",
       "0  float64          int64  ...  float64          int64         int64   \n",
       "\n",
       "  1_qt_interval 1_st_interval 1_qrs_morph0 1_qrs_morph1 1_qrs_morph2  \\\n",
       "0         int64         int64      float64      float64      float64   \n",
       "\n",
       "  1_qrs_morph3 1_qrs_morph4  \n",
       "0      float64      float64  \n",
       "\n",
       "[1 rows x 34 columns]"
      ]
     },
     "execution_count": 75,
     "metadata": {},
     "output_type": "execute_result"
    }
   ],
   "source": [
    "data_type_frame = {}\n",
    "for feature, dataType in data_frame.dtypes.items():\n",
    "    data_type_frame[feature] = str(dataType)\n",
    "data_type_frame = pd.DataFrame([data_type_frame])\n",
    "data_type_frame.head()"
   ]
  },
  {
   "cell_type": "markdown",
   "metadata": {},
   "source": [
    "As we can see in this dataset, we have only one categorical feature (type) and remain features are numeric"
   ]
  },
  {
   "cell_type": "markdown",
   "metadata": {},
   "source": [
    "<u>What preprocessing steps are required? Why?</u>\n",
    "\n",
    "1. **Label Encoding**: \n",
    "   - Convert categorical labels ('N' 'Q' 'SVEB' 'VEB' 'F') to numeric format (0, 1, 2, 3) for neural network training.\n",
    "   - reason: because neural network and ML work well with numeric\n",
    "\n",
    "2. **Feature Normalization/Standardization**: \n",
    "   - Reason: to ensure all features contribute equally, prevents features with larger magnitudes from dominating the learning process\n",
    "\n",
    "3. **Handle Class Imbalance**:\n",
    "   - As we can see above our data is extreme imbalance (N: 90,083 vs Q: 15 samples). In the paper they use up-sample to balance the data. However we can use SMOTE\n",
    "   - Without balance data, our model will bias toward majority class 'N'\n",
    "\n",
    "4. **Feature Selection**:\n",
    "   - Remove features like patient IDs because it is non-informative for classify"
   ]
  },
  {
   "cell_type": "markdown",
   "metadata": {},
   "source": [
    "--- "
   ]
  },
  {
   "cell_type": "markdown",
   "metadata": {},
   "source": [
    "**3. Prepare the data for learning a neural network, including preprocessing, creating training, validation, and test datasets. How many training examples and how many test examples are you using?**"
   ]
  },
  {
   "cell_type": "markdown",
   "metadata": {},
   "source": [
    "**Answer**"
   ]
  },
  {
   "cell_type": "markdown",
   "metadata": {},
   "source": [
    "<u>Process Data</u>"
   ]
  },
  {
   "cell_type": "code",
   "execution_count": 76,
   "metadata": {},
   "outputs": [],
   "source": [
    "# features selection (remove the patient ID column)\n",
    "data_frame_processed = data_frame.drop(['record'], axis=1)\n",
    "# label categorical data\n",
    "data_frame_processed['type'] = LabelEncoder().fit_transform(data_frame_processed['type'])\n",
    "# normalize data: use Standard Scaler\n",
    "scaler = StandardScaler()\n",
    "feature_x_raw = data_frame_processed.drop(['type'], axis=1)\n",
    "feature_x_scaled = pd.DataFrame(scaler.fit_transform(feature_x_raw), columns= feature_x_raw.columns)\n",
    "target_y = data_frame_processed['type']"
   ]
  },
  {
   "cell_type": "markdown",
   "metadata": {},
   "source": [
    "<u>Creating training, validation, and test datasets</u>"
   ]
  },
  {
   "cell_type": "code",
   "execution_count": 77,
   "metadata": {},
   "outputs": [
    {
     "name": "stdout",
     "output_type": "stream",
     "text": [
      "Train (after SMOTE): 360330, Val: 10069, Test: 10069\n"
     ]
    }
   ],
   "source": [
    "x_all = feature_x_scaled.values.astype(np.float32)  # original scaled \n",
    "y_all = target_y.values.astype(np.int64)\n",
    "x_train_raw, x_temp, y_train_raw, y_temp = train_test_split(x_all, y_all, test_size=0.2, random_state=42, stratify=y_all) # float64 is highest type in the original features\n",
    "x_val, x_test, y_val, y_test = train_test_split( x_temp, y_temp, test_size=0.5, random_state=42, stratify=y_temp) #because in the original data, the target column has type int64\n",
    "# apply SMOTE only for training set, we should not apply SMOTE for test data\n",
    "x_train, y_train = SMOTE(random_state=42).fit_resample(x_train_raw, y_train_raw)\n",
    "class CustomDataset(Dataset):\n",
    "    def __init__(self, x, y):\n",
    "        self.x = torch.from_numpy(x.astype(np.float32))\n",
    "        self.y = torch.from_numpy(y.astype(np.int64))\n",
    "    def __len__(self):\n",
    "        return len(self.x)\n",
    "    def __getitem__(self, idx):\n",
    "        return self.x[idx], self.y[idx]\n",
    "\n",
    "train_ds = CustomDataset(x_train, y_train)\n",
    "val_ds   = CustomDataset(x_val, y_val)\n",
    "test_ds  = CustomDataset(x_test, y_test)\n",
    "batch_size = 64\n",
    "train_loader = DataLoader(train_ds, batch_size=batch_size, shuffle=True)\n",
    "val_loader   = DataLoader(val_ds, batch_size=batch_size)\n",
    "test_loader  = DataLoader(test_ds, batch_size=batch_size)\n",
    "print(f\"Train (after SMOTE): {len(train_ds)}, Val: {len(val_ds)}, Test: {len(test_ds)}\")"
   ]
  },
  {
   "cell_type": "markdown",
   "metadata": {},
   "source": [
    "---"
   ]
  },
  {
   "cell_type": "markdown",
   "metadata": {
    "id": "ChlhkwhkAzLi"
   },
   "source": [
    "### Task 1.2 Setting up a model for training\n",
    "\n",
    "(weight ~ 20%)"
   ]
  },
  {
   "cell_type": "markdown",
   "metadata": {},
   "source": [
    "Construct a deep feedforward neural network. Justify your model design decisions. Plot the model structure using `torchsummary` or similar tools.\n",
    "\n"
   ]
  },
  {
   "cell_type": "markdown",
   "metadata": {},
   "source": [
    "**Answer**"
   ]
  },
  {
   "cell_type": "code",
   "execution_count": 78,
   "metadata": {},
   "outputs": [],
   "source": [
    "class MyNet(nn.Module):\n",
    "    def __init__(self, size_of_input, number_class):\n",
    "        super(MyNet, self).__init__()\n",
    "        self.unit_1 = nn.Linear(size_of_input, 256)\n",
    "        self.unit_2 = nn.Linear(256, 128)\n",
    "        self.unit_3 = nn.Linear(128, 64)\n",
    "        self.unit_4 = nn.Linear(64, number_class)\n",
    "    \n",
    "    def forward(self, x):\n",
    "        x = F.tanh(self.unit_1(x))\n",
    "        x = F.tanh(self.unit_2(x))\n",
    "        x = F.tanh(self.unit_3(x))\n",
    "        x = F.softmax(self.unit_4(x))\n",
    "        return x"
   ]
  },
  {
   "cell_type": "markdown",
   "metadata": {
    "id": "yuxhQM6jAzLl"
   },
   "source": [
    "Construct a deep feedforward neural network. In other words, you can use **only fully connected (dense) layers**. You need to decide and report the following configurations:\n",
    "\n",
    "- Output layer:\n",
    "    - How many output nodes?\n",
    "    - Which activation function?\n",
    "- Hidden layers:\n",
    "    - How many hidden layers?\n",
    "    - How many nodes in each layer?\n",
    "    - Which activation function for each layer?\n",
    "- Input layer\n",
    "    - What is the input size?\n",
    "    - Do you need to reshape the input? Why?\n",
    "\n",
    "Justify your model design decisions.\n",
    "\n",
    "Plot the model structure using `torchsummary` or similar tools.\n",
    "\n"
   ]
  },
  {
   "cell_type": "markdown",
   "metadata": {},
   "source": [
    "**Answer**"
   ]
  },
  {
   "cell_type": "markdown",
   "metadata": {},
   "source": [
    "---"
   ]
  },
  {
   "cell_type": "markdown",
   "metadata": {
    "id": "MZ2BVK5tAzMM"
   },
   "source": [
    "### Task 1.3 Fitting the model\n",
    "\n",
    "(weight ~ 20%)\n",
    "\n",
    "\n",
    "Decide and report the following settings:\n",
    "\n",
    "- The loss function\n",
    "- The metrics for model evaluation (which may be different from the loss function)\n",
    "\n",
    "Explain their roles in model fitting.\n",
    "\n",
    "Decide the optimiser that you will use. Also report the following settings:\n",
    "\n",
    "1. The training batch size\n",
    "2. The number of training epochs\n",
    "3. The learning rate. If you used momentum or a learning rate schedule, please report the configuration as well.\n",
    "\n",
    "Justify your decisions.\n",
    "\n",
    "Now fit the model. Show how the training loss and the evaluation metric change. How did you decide when to stop training?\n",
    "\n",
    "\n"
   ]
  },
  {
   "cell_type": "markdown",
   "metadata": {},
   "source": [
    "<u> Answer </u>"
   ]
  },
  {
   "cell_type": "code",
   "execution_count": 80,
   "metadata": {},
   "outputs": [
    {
     "name": "stderr",
     "output_type": "stream",
     "text": [
      "/var/folders/7y/tb8vlfv937523rgqdlf0zjy40000gn/T/ipykernel_86671/1017195248.py:13: UserWarning: Implicit dimension choice for softmax has been deprecated. Change the call to include dim=X as an argument.\n",
      "  x = F.softmax(self.unit_4(x))\n"
     ]
    },
    {
     "name": "stdout",
     "output_type": "stream",
     "text": [
      "Epoch 1/10: Train Loss: 0.9907, Train Acc: 91.45%, Validate Loss: 1.0000, Validate Acc: 90.47%\n",
      "Epoch 2/10: Train Loss: 0.9742, Train Acc: 93.06%, Validate Loss: 1.0258, Validate Acc: 87.82%\n",
      "Epoch 3/10: Train Loss: 0.9737, Train Acc: 93.09%, Validate Loss: 0.9938, Validate Acc: 91.07%\n",
      "Epoch 4/10: Train Loss: 0.9736, Train Acc: 93.09%, Validate Loss: 1.0057, Validate Acc: 89.82%\n",
      "Epoch 5/10: Train Loss: 0.9746, Train Acc: 92.98%, Validate Loss: 1.0105, Validate Acc: 89.42%\n",
      "Epoch 6/10: Train Loss: 0.9762, Train Acc: 92.84%, Validate Loss: 1.0146, Validate Acc: 88.93%\n",
      "Epoch 7/10: Train Loss: 0.9771, Train Acc: 92.75%, Validate Loss: 1.0265, Validate Acc: 87.84%\n",
      "Epoch 8/10: Train Loss: 0.9771, Train Acc: 92.75%, Validate Loss: 0.9987, Validate Acc: 90.63%\n",
      "Epoch 9/10: Train Loss: 0.9791, Train Acc: 92.53%, Validate Loss: 1.0077, Validate Acc: 89.62%\n",
      "Epoch 10/10: Train Loss: 0.9790, Train Acc: 92.55%, Validate Loss: 1.0048, Validate Acc: 89.90%\n"
     ]
    },
    {
     "data": {
      "image/png": "[encoded data removed]",
      "text/plain": [
       "<Figure size 1200x400 with 2 Axes>"
      ]
     },
     "metadata": {},
     "output_type": "display_data"
    },
    {
     "name": "stdout",
     "output_type": "stream",
     "text": [
      "Test Loss: 1.0101, Test Accuracy: 89.39%\n"
     ]
    }
   ],
   "source": [
    "class TrainModel():\n",
    "    def __init__(self, neural_model, device, criterion, optimizer):\n",
    "        self.neural_model = neural_model\n",
    "        self.criterion = criterion\n",
    "        self.optimizer = optimizer \n",
    "        self.device = device\n",
    "\n",
    "    def train(self, train_loader):\n",
    "        self.neural_model.train()\n",
    "        running_loss = 0.0\n",
    "        correct = 0\n",
    "        total = 0\n",
    "        for batch_id, (data, target) in enumerate(train_loader):\n",
    "            data, target = data.to(self.device), target.to(self.device)\n",
    "            \n",
    "            self.optimizer.zero_grad() #clear previous gradient\n",
    "            output = self.neural_model(data)\n",
    "            loss = self.criterion(output, target) #if confidence is high and prediction is wrong -> high penalty\n",
    "            loss.backward() \n",
    "            self.optimizer.step() #update weight\n",
    "            \n",
    "            running_loss += loss.item()\n",
    "            _, predicted = torch.max(output.data, 1)\n",
    "            total += target.size(0)\n",
    "            correct += (predicted == target).sum().item()\n",
    "        \n",
    "        epoch_loss = running_loss / len(train_loader)\n",
    "        epoch_acc = 100 * correct / total\n",
    "        return epoch_loss, epoch_acc\n",
    "\n",
    "    def validate(self, val_loader):\n",
    "        self.neural_model.eval() # switch to evaluation mode (turn OFF the dropout layers ...)\n",
    "        val_loss = 0.0\n",
    "        correct = 0\n",
    "        total = 0\n",
    "        \n",
    "        with torch.no_grad():\n",
    "            for data, target in val_loader:\n",
    "                data, target = data.to(self.device), target.to(self.device)\n",
    "                output = self.neural_model(data)\n",
    "                val_loss += self.criterion(output, target).item()\n",
    "                _, predicted = torch.max(output.data, 1)\n",
    "                total += target.size(0)\n",
    "                correct += (predicted == target).sum().item()\n",
    "        \n",
    "        val_loss /= len(val_loader)\n",
    "        val_acc = 100 * correct / total\n",
    "        return val_loss, val_acc\n",
    "    \n",
    "    def train_epoch(self, num_epochs):\n",
    "        train_losses = []\n",
    "        train_accuracies = []\n",
    "        val_losses = []\n",
    "        val_accuracies = []\n",
    "        for epoch in range(num_epochs):\n",
    "            train_loss, train_acc = self.train(train_loader)\n",
    "            val_loss, val_acc = self.validate(val_loader)\n",
    "            train_losses.append(train_loss)\n",
    "            train_accuracies.append(train_acc)\n",
    "            val_losses.append(val_loss)\n",
    "            val_accuracies.append(val_acc)\n",
    "            print(f'Epoch {epoch+1}/{num_epochs}: Train Loss: {train_loss:.4f}, Train Acc: {train_acc:.2f}%, Validate Loss: {val_loss:.4f}, Validate Acc: {val_acc:.2f}%')\n",
    "        \n",
    "        return train_losses, train_accuracies, val_losses, val_accuracies\n",
    "\n",
    "\n",
    "model = MyNet(x_train.shape[1], len(np.unique(y_train)))\n",
    "device = torch.device('cuda' if torch.cuda.is_available() else 'cpu')\n",
    "model.to(device)\n",
    "train_model = TrainModel(model, device, nn.CrossEntropyLoss(), torch.optim.Adam(model.parameters(), lr=0.01))\n",
    "train_losses, train_accuracies, val_losses, val_accuracies = train_model.train_epoch(num_epochs= 10)\n",
    "\n",
    "# Plot training curves\n",
    "plt.figure(figsize=(12, 4))\n",
    "\n",
    "plt.subplot(1, 2, 1)\n",
    "plt.plot(train_losses, label='Training Loss')\n",
    "plt.plot(val_losses, label='Validation Loss')\n",
    "plt.title('Loss over Epochs')\n",
    "plt.xlabel('Epoch')\n",
    "plt.ylabel('Loss')\n",
    "plt.legend()\n",
    "\n",
    "plt.subplot(1, 2, 2)\n",
    "plt.plot(train_accuracies, label='Training Accuracy')\n",
    "plt.plot(val_accuracies, label='Validation Accuracy')\n",
    "plt.title('Accuracy over Epochs')\n",
    "plt.xlabel('Epoch')\n",
    "plt.ylabel('Accuracy (%)')\n",
    "plt.legend()\n",
    "\n",
    "plt.tight_layout()\n",
    "plt.show()\n",
    "\n",
    "# Final test evaluation\n",
    "test_loss, test_acc = train_model.validate(test_loader)\n",
    "print(f'Test Loss: {test_loss:.4f}, Test Accuracy: {test_acc:.2f}%')\n",
    "\n",
    "# ...existing code..."
   ]
  },
  {
   "cell_type": "markdown",
   "metadata": {},
   "source": [
    "---"
   ]
  },
  {
   "cell_type": "markdown",
   "metadata": {
    "id": "4wMtOpQwUSjk"
   },
   "source": [
    "## **Set 2 (C Tasks) Improve the model**\n",
    "\n",
    "(weight ~ 10%)\n",
    "\n",
    "### Task 2.1 Check the training using visualisation\n",
    "\n",
    "Visualise the training process (e.g., using TensorBoard). Show screenshots of visualisation.\n",
    "\n",
    "Do you see overfitting or underfitting? Why?\n",
    "If you see overfitting, at which epoch did it happen?\n",
    "\n",
    "\n",
    "### Task 2.2 Apply regularisation\n",
    "\n",
    "Improve the training process by applying regularisation. Below are some options:\n",
    "\n",
    "1.   Dropout\n",
    "2.   Batch normalisation\n",
    "\n",
    "Compare the effect of different regularisation techniques on model training. You may also try other techniques for improving training such as learning rate scheduling.\n",
    "\n"
   ]
  },
  {
   "cell_type": "code",
   "execution_count": null,
   "metadata": {},
   "outputs": [],
   "source": []
  },
  {
   "cell_type": "markdown",
   "metadata": {
    "id": "9C2VXCM-4Nw9"
   },
   "source": [
    "## **Set 3 (D Tasks) Analyse the learned representations**\n",
    "\n",
    "(weight ~ 10%)\n",
    "\n",
    "In this task, you will explore the visualization of embeddings at different layers of your trained neural network and analyse how they evolve using **Uniform Manifold Approximation and Projection** ([UMAP](https://github.com/lmcinnes/umap)). Below are detailed steps you can follow.\n",
    "\n",
    "1. Select a subset of your training data containing both classes.\n",
    "2. Extract the embeddings from each layer of the neural network model for the dataset.\n",
    "3. Apply UMAP to visualise the embeddings from each layer in a 2-dimensional space, highlighting different classes with distinct colours or markers. Include appropriate labels and legends in your plots.\n",
    "4. Analyse and discuss the evolution of the embeddings across layers. Answer the following questions in your analysis:\n",
    "\n",
    "  - Do the embeddings show a clear separation between classes at any specific layer?\n",
    "  - How do the separation and clustering of classes change as you move across layers?\n",
    "  - Are there any notable changes in the distribution or structure of the embeddings?\n",
    "  - Are there any layers where the embeddings become less discriminative or more entangled?\n",
    "\n",
    "5. Summarize your findings and provide insights into the behaviour of the neural network's representations at different layers. Discuss the implications of the observed changes in the embeddings for the network's ability to capture class-specific information and make predictions.\n",
    "\n"
   ]
  },
  {
   "cell_type": "markdown",
   "metadata": {
    "id": "4EgXZCBNAzMs"
   },
   "source": [
    "## **Set 4 (HD Tasks) Investigating Neural Collapse in Deep Learning**\n",
    "\n",
    "*(weight ~20%)*\n",
    "\n",
    "In this research task, you will explore the phenomenon of \"neural collapse\" in deep learning models. Additionally, you must identify meaningful research gaps or failure cases that arise from the literature or your own experiments.\n",
    "\n",
    "\n",
    "### Task 4.1 Examine layer rotation with Layca\n",
    "\n",
    "1. Reproduce experiments described in the paper [Layer rotation: a surprisingly powerful indicator of generalization in deep networks?](https://arxiv.org/abs/1806.01603),  Compare the results you obtained with the ones in the paper. Do you identify any discrepancies?\n",
    "\n",
    "2. What connections do you discover between the paper and what you have learnt in the unit?\n",
    "\n",
    "### Task 4.2 Design and Develop Your Own ML Solution\n",
    "1. Design and develop your own deep learning solution using CIFAR dataset. The proposed solution must be substantially different from the approaches presented in the article. However, this does not mean you are required to choose a new ML algorithm. You can develop a novel solution by changing the feature\n",
    "selection approach, using different preprocessing techniques, exploring alternative model combinations, or restructuring the training pipeline. The goal is to propose a system that is meaningfully distinct from the authors' method.\n",
    "Your technical report must include:\n",
    "* A clear motivation for the proposed solution\n",
    "* A description of how your method differs from the article\n",
    "* A well-structured experimental protocol\n",
    "* Evaluation using Accuracy, Precision, Recall, F1 Score, and AUC.\n",
    "\n",
    "### Deliverables for HD Tasks\n",
    "\n",
    "* Written submission (Max 4 pages): Summarize your approach to reproducing the experiments, key findings, and critical observations. Clearly articulate the research gaps or failure cases you identified.\n",
    "* Link to reproducible code\n",
    "* Short video presentation (Max 5 minutes): Highlight your main conclusions about neural collapse.\n",
    "Discuss the most pressing research gaps or failure cases and how addressing them could push the field forward."
   ]
  },
  {
   "cell_type": "markdown",
   "metadata": {
    "id": "N-9tV727aTzv"
   },
   "source": [
    "---\n",
    "\n",
    "### End of Assignment 2\n",
    "\n",
    "---"
   ]
  },
  {
   "cell_type": "markdown",
   "metadata": {},
   "source": [
    "### need check"
   ]
  },
  {
   "cell_type": "markdown",
   "metadata": {},
   "source": [
    "validation set\n",
    "\n",
    "drop out\n",
    "\n",
    "Batch normal\n",
    "\n",
    "Weight decay\n",
    "\n",
    "tensor board \n",
    "\n",
    "**show that augmentation can advoid overfiting**"
   ]
  },
  {
   "cell_type": "markdown",
   "metadata": {},
   "source": []
  }
 ],
 "metadata": {
  "colab": {
   "authorship_tag": "ABX9TyPFcF4eQDVHSaBv0HM+JwIP",
   "provenance": [
    {
     "file_id": "1cMLhlRCR6rpInqq7SgGdql4HXcdI8qsy",
     "timestamp": 1646607235032
    }
   ]
  },
  "kernelspec": {
   "display_name": "base",
   "language": "python",
   "name": "python3"
  },
  "language_info": {
   "codemirror_mode": {
    "name": "ipython",
    "version": 3
   },
   "file_extension": ".py",
   "mimetype": "text/x-python",
   "name": "python",
   "nbconvert_exporter": "python",
   "pygments_lexer": "ipython3",
   "version": "3.12.7"
  }
 },
 "nbformat": 4,
 "nbformat_minor": 0
}
