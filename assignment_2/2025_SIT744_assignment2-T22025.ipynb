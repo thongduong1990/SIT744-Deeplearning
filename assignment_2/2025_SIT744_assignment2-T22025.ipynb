{
 "cells": [
  {
   "cell_type": "markdown",
   "metadata": {
    "id": "TMhkl_3pb8cj"
   },
   "source": [
    "# SIT744 Assignment 2 (T2 2025)\n",
    "\n",
    "Due: Week 7 Monday 8:00 pm (AEST)\n",
    "\n",
    "This is an individual assignment. It contributes 30% to your final mark. Read the assignment instructions carefully.\n",
    "\n",
    "## What to submit\n",
    "By the due date, you are required to submit the following files to the corresponding Assignment (Dropbox) in CloudDeakin:\n",
    "\n",
    "- **[YourID]_[UnitCode]_assignment2_solution.ipynb**: This is your Python notebook solution source file.\n",
    "- **[YourID]_[UnitCode]_assignment2_output.pdf**: This is the output of your Python notebook solution exported in PDF format. (You may use [nbconvert](https://github.com/jupyter/nbconvert).)\n",
    "- (HD Task only) A short (less than 5 minutes) screencast explaining your work (including study design, implementation, and main conclusions).\n",
    "- Extra files required to complete your assignment, if any (e.g., images used in your answers).\n",
    "\n",
    "For example, if your student ID is: 123456, and you are a SIT744 student, you will then need to submit the following files:\n",
    "\n",
    "- 123456_SIT744_assignment2_solution.ipynb\n",
    "- 123456_SIT744_assignment2_output.pdf\n",
    "\n",
    "Please keep your answers short and to the point. Clean up your code outputs to reduce unnecessary information (e.g., excessively long training logs).\n",
    "\n"
   ]
  },
  {
   "cell_type": "markdown",
   "metadata": {
    "id": "JOr2bP8kAzKE"
   },
   "source": [
    "## Assignment objective\n",
    "\n",
    "This assignment is for you to demonstrate the knowledge in deep learning that you have acquired from the lectures and practical lab materials. Most P-level tasks in this assignment are straightforward applications of the practical materials in weeks 1-5. Going through these materials before attempting this assignment is highly recommended.\n",
    "\n",
    "\n",
    "This assignment consists of four sets of tasks with progressive level of challenges.\n",
    "\n",
    "- Set 1 (P Tasks)\n",
    "- Set 2 (C Tasks)\n",
    "- Set 3 (D Tasks)\n",
    "- Set 4 (HD Tasks)\n",
    "\n",
    "Set 1 is labeled as P tasks because these demonstrate the minimum requirements of the unit. Concentrate on the P tasks first as these are the foundation for all the rest. As you move through sets 2, 3 and 4, the tasks become more challenging, with each allowing you to obtain the marks required to achieve the next achievement level (C, D, and HD respectively).\n",
    "\n",
    "## Marking criteria\n",
    "Indicative weights of various tasks are provided below, but your submission will be marked by the following criteria, adjusting for the overall quality.\n",
    "\n",
    "### P-level expectation\n",
    "- Showing good effort through completed tasks.\n",
    "- Applying deep learning theory to design suitable deep learning solutions for the tasks.\n",
    "- Demonstrating at least ‘Analysis’ level (Level 4) thinking in Bloom’s Taxonomy. This means you should not only implement the tasks but also examine, compare, and interpret results, explaining why certain decisions were made and what patterns or insights are revealed by your solution.\n",
    "\n",
    "### C-level expectation\n",
    "- Showing attention to detail through a good quality assignment report.\n",
    "\n",
    "### D-level expectation\n",
    "- Demonstrating creativity and resourcefulness in providing unique individual solutions.\n",
    "- Critically evaluating and reflecting on the pros and cons of various design decisions.\n",
    "\n",
    "### HD-level expectation\n",
    "- Extending classroom learning to research and tackle previously unexplored theoretical questions or novel applications\n",
    "\n",
    "**(Warning: Highly similar solutions will be investigated for collusion.)**\n"
   ]
  },
  {
   "cell_type": "markdown",
   "metadata": {
    "id": "lto8bj2Gkt4Z"
   },
   "source": [
    "Run the following code before you start."
   ]
  },
  {
   "cell_type": "code",
   "execution_count": 229,
   "metadata": {
    "colab": {
     "base_uri": "https://localhost:8080/"
    },
    "executionInfo": {
     "elapsed": 12323,
     "status": "ok",
     "timestamp": 1742637049091,
     "user": {
      "displayName": "Wei Luo",
      "userId": "01176934800024581303"
     },
     "user_tz": -660
    },
    "id": "kYZVoHZ8glxW",
    "outputId": "b6d3cead-5031-4bc5-c333-20fbee538e11"
   },
   "outputs": [],
   "source": [
    "# import getpass\n",
    "# import datetime\n",
    "# import socket\n",
    "\n",
    "# def generate_author_claim():\n",
    "#     # Get current user\n",
    "#     user = getpass.getuser()\n",
    "\n",
    "#     # Get current timestamp\n",
    "#     timestamp = datetime.datetime.now().strftime(\"%Y-%m-%d %H:%M:%S\")\n",
    "\n",
    "#     # Get current IP address\n",
    "#     ip_address = socket.gethostbyname(socket.gethostname())\n",
    "\n",
    "#     # Enter your name\n",
    "#     name = input(\"Enter your full name: \")\n",
    "\n",
    "#     # Enter your email address\n",
    "#     email = input(\"Enter your email address: \")\n",
    "\n",
    "#     # Enter your student ID\n",
    "#     student_id = input(\"Enter your student ID: \")\n",
    "\n",
    "#     # Generate author claim string\n",
    "#     author_claim = f\"Code authored by {user} ({name} {student_id} {email}) on {timestamp}  from IP address {ip_address}\"\n",
    "\n",
    "#     return author_claim\n",
    "\n",
    "# # Generate the author claim string\n",
    "# author_claim = generate_author_claim()\n",
    "\n",
    "# # Print the author claim string\n",
    "# print(author_claim)\n"
   ]
  },
  {
   "cell_type": "markdown",
   "metadata": {},
   "source": [
    "### Import Modules"
   ]
  },
  {
   "cell_type": "code",
   "execution_count": 230,
   "metadata": {},
   "outputs": [],
   "source": [
    "import numpy as np\n",
    "import pandas as pd\n",
    "from sklearn.preprocessing import LabelEncoder\n",
    "from sklearn.preprocessing import StandardScaler\n",
    "import torch\n",
    "import torch.nn as nn\n",
    "import torch.nn.functional as F\n",
    "from torch.utils.data import DataLoader, random_split, Dataset\n",
    "from sklearn.impute import SimpleImputer\n",
    "import numpy as np\n",
    "from sklearn.preprocessing import StandardScaler\n",
    "from imblearn.over_sampling import SMOTE\n",
    "from torch.utils.tensorboard import SummaryWriter\n",
    "import time\n",
    "import matplotlib.pyplot as plt\n",
    "import seaborn as sns\n",
    "from sklearn.model_selection import train_test_split\n",
    "from imblearn.over_sampling import SMOTE\n",
    "from sklearn.decomposition import PCA\n"
   ]
  },
  {
   "cell_type": "markdown",
   "metadata": {
    "id": "lnE7ZFS_AzLg"
   },
   "source": [
    "## **Set 1 (P Tasks) Construct a forward neural network**\n",
    "*(weight ~60%)*\n",
    "\n",
    "With this set of tasks, you are going to build a neural network for a classification task. You will train the model on a MIT-BIH Arrhythmia dataset that can be downloaded from the unit site. you can review [the paper](https://www.researchgate.net/publication/352809452_Harnessing_Artificial_Intelligence_for_Secure_ECG_Analytics_at_the_Edge_for_Cardiac_Arrhythmia_Classification) to understand this dataset better. "
   ]
  },
  {
   "cell_type": "markdown",
   "metadata": {
    "id": "DDE-8C5IVGSd"
   },
   "source": [
    "### Task 1.1 Understanding the data\n",
    "\n",
    "*(weight ~20%)*\n",
    "\n",
    "---\n",
    "### **Need Review**? What does the patterns mean? \n",
    "**1. Describe the dataset and target labels for the prediction task.** \n",
    "  * Examine training examples from each target class and **explain** any patterns you observe.\n",
    "  * **Analyse** how these patterns might impact model training or the difficulty of classification.\n",
    "---"
   ]
  },
  {
   "cell_type": "markdown",
   "metadata": {},
   "source": [
    "**Answer**"
   ]
  },
  {
   "cell_type": "markdown",
   "metadata": {},
   "source": [
    "<u>Examine training examples from each target class and **explain** any patterns you observe.</u>"
   ]
  },
  {
   "cell_type": "code",
   "execution_count": 231,
   "metadata": {},
   "outputs": [
    {
     "data": {
      "image/png": "[encoded data removed]",
      "text/plain": [
       "<Figure size 1000x600 with 1 Axes>"
      ]
     },
     "metadata": {},
     "output_type": "display_data"
    }
   ],
   "source": [
    "data_frame = pd.read_csv('data.csv')\n",
    "# type = data_frame['type'].unique()\n",
    "# patient = data_frame['record'].unique()\n",
    "\n",
    "def plotDataDistribute(data_frame):\n",
    "    plt.figure(figsize=(10, 6))\n",
    "    class_counts = data_frame['type'].value_counts()\n",
    "    bars = plt.bar(class_counts.index, class_counts.values, color=['skyblue', 'lightcoral', 'lightgreen', 'gold'])\n",
    "\n",
    "    # set value labels on top of each bar\n",
    "    for bar, count in zip(bars, class_counts.values):\n",
    "        plt.text(bar.get_x() + bar.get_width()/2, bar.get_height() + max(class_counts.values)*0.01, \n",
    "                str(count), ha='center', va='bottom', fontweight='bold')\n",
    "\n",
    "    plt.title('MIT-BIH Arrhythmia Dataset', fontsize=14, fontweight='bold')\n",
    "    plt.xlabel('Type', fontsize=12)\n",
    "    plt.ylabel('Number of Sample', fontsize=12)\n",
    "    plt.yscale('log')  # us log scale\n",
    "    plt.grid(axis='y', alpha=0.3)\n",
    "\n",
    "    # set percentage \n",
    "    total_samples = len(data_frame)\n",
    "    for i, (class_name, count) in enumerate(class_counts.items()):\n",
    "        percentage = (count / total_samples) * 100\n",
    "        plt.text(i, count/2, f'{percentage:.1f}%', ha='center', va='center', \n",
    "                fontweight='bold', color='white', fontsize=10)\n",
    "\n",
    "    plt.tight_layout()\n",
    "    plt.show()\n",
    "\n",
    "plotDataDistribute(data_frame)"
   ]
  },
  {
   "cell_type": "markdown",
   "metadata": {},
   "source": [
    "**Analyze**\n",
    "\n",
    "- This is ECG data used to classify the heartbeat disease. The dataset includes 4 classes, they are very imbalance when the largest target (N) has 90083 samples and smallest target (Q) has only 15 samples\n",
    "- The Q class has very few examples, which makes it difficult for the model to learn meaningful patterns. Overall, the dataset is highly imbalanced, which may bias the model towards predicting the majority class (N)."
   ]
  },
  {
   "cell_type": "markdown",
   "metadata": {},
   "source": [
    "---"
   ]
  },
  {
   "cell_type": "markdown",
   "metadata": {},
   "source": [
    "**2. Describe the data types of each feature. What preprocessing steps are required? Why?**\n",
    "\n"
   ]
  },
  {
   "cell_type": "markdown",
   "metadata": {},
   "source": [
    "**Answer**"
   ]
  },
  {
   "cell_type": "markdown",
   "metadata": {},
   "source": [
    "<u>Describe the data types of each feature.</u>\n",
    "- This code is used to check data types of each feature"
   ]
  },
  {
   "cell_type": "code",
   "execution_count": 232,
   "metadata": {},
   "outputs": [
    {
     "data": {
      "application/vnd.microsoft.datawrangler.viewer.v0+json": {
       "columns": [
        {
         "name": "index",
         "rawType": "int64",
         "type": "integer"
        },
        {
         "name": "record",
         "rawType": "object",
         "type": "string"
        },
        {
         "name": "type",
         "rawType": "object",
         "type": "string"
        },
        {
         "name": "0_pre-RR",
         "rawType": "object",
         "type": "string"
        },
        {
         "name": "0_post-RR",
         "rawType": "object",
         "type": "string"
        },
        {
         "name": "0_pPeak",
         "rawType": "object",
         "type": "string"
        },
        {
         "name": "0_tPeak",
         "rawType": "object",
         "type": "string"
        },
        {
         "name": "0_rPeak",
         "rawType": "object",
         "type": "string"
        },
        {
         "name": "0_sPeak",
         "rawType": "object",
         "type": "string"
        },
        {
         "name": "0_qPeak",
         "rawType": "object",
         "type": "string"
        },
        {
         "name": "0_qrs_interval",
         "rawType": "object",
         "type": "string"
        },
        {
         "name": "0_pq_interval",
         "rawType": "object",
         "type": "string"
        },
        {
         "name": "0_qt_interval",
         "rawType": "object",
         "type": "string"
        },
        {
         "name": "0_st_interval",
         "rawType": "object",
         "type": "string"
        },
        {
         "name": "0_qrs_morph0",
         "rawType": "object",
         "type": "string"
        },
        {
         "name": "0_qrs_morph1",
         "rawType": "object",
         "type": "string"
        },
        {
         "name": "0_qrs_morph2",
         "rawType": "object",
         "type": "string"
        },
        {
         "name": "0_qrs_morph3",
         "rawType": "object",
         "type": "string"
        },
        {
         "name": "0_qrs_morph4",
         "rawType": "object",
         "type": "string"
        },
        {
         "name": "1_pre-RR",
         "rawType": "object",
         "type": "string"
        },
        {
         "name": "1_post-RR",
         "rawType": "object",
         "type": "string"
        },
        {
         "name": "1_pPeak",
         "rawType": "object",
         "type": "string"
        },
        {
         "name": "1_tPeak",
         "rawType": "object",
         "type": "string"
        },
        {
         "name": "1_rPeak",
         "rawType": "object",
         "type": "string"
        },
        {
         "name": "1_sPeak",
         "rawType": "object",
         "type": "string"
        },
        {
         "name": "1_qPeak",
         "rawType": "object",
         "type": "string"
        },
        {
         "name": "1_qrs_interval",
         "rawType": "object",
         "type": "string"
        },
        {
         "name": "1_pq_interval",
         "rawType": "object",
         "type": "string"
        },
        {
         "name": "1_qt_interval",
         "rawType": "object",
         "type": "string"
        },
        {
         "name": "1_st_interval",
         "rawType": "object",
         "type": "string"
        },
        {
         "name": "1_qrs_morph0",
         "rawType": "object",
         "type": "string"
        },
        {
         "name": "1_qrs_morph1",
         "rawType": "object",
         "type": "string"
        },
        {
         "name": "1_qrs_morph2",
         "rawType": "object",
         "type": "string"
        },
        {
         "name": "1_qrs_morph3",
         "rawType": "object",
         "type": "string"
        },
        {
         "name": "1_qrs_morph4",
         "rawType": "object",
         "type": "string"
        }
       ],
       "ref": "58a24092-dbd5-49a4-9a39-950a2d471e06",
       "rows": [
        [
         "0",
         "int64",
         "object",
         "int64",
         "float64",
         "float64",
         "float64",
         "float64",
         "float64",
         "float64",
         "int64",
         "int64",
         "int64",
         "int64",
         "float64",
         "float64",
         "float64",
         "float64",
         "float64",
         "int64",
         "float64",
         "float64",
         "float64",
         "float64",
         "float64",
         "float64",
         "int64",
         "int64",
         "int64",
         "int64",
         "float64",
         "float64",
         "float64",
         "float64",
         "float64"
        ]
       ],
       "shape": {
        "columns": 34,
        "rows": 1
       }
      },
      "text/html": [
       "<div>\n",
       "<style scoped>\n",
       "    .dataframe tbody tr th:only-of-type {\n",
       "        vertical-align: middle;\n",
       "    }\n",
       "\n",
       "    .dataframe tbody tr th {\n",
       "        vertical-align: top;\n",
       "    }\n",
       "\n",
       "    .dataframe thead th {\n",
       "        text-align: right;\n",
       "    }\n",
       "</style>\n",
       "<table border=\"1\" class=\"dataframe\">\n",
       "  <thead>\n",
       "    <tr style=\"text-align: right;\">\n",
       "      <th></th>\n",
       "      <th>record</th>\n",
       "      <th>type</th>\n",
       "      <th>0_pre-RR</th>\n",
       "      <th>0_post-RR</th>\n",
       "      <th>0_pPeak</th>\n",
       "      <th>0_tPeak</th>\n",
       "      <th>0_rPeak</th>\n",
       "      <th>0_sPeak</th>\n",
       "      <th>0_qPeak</th>\n",
       "      <th>0_qrs_interval</th>\n",
       "      <th>...</th>\n",
       "      <th>1_qPeak</th>\n",
       "      <th>1_qrs_interval</th>\n",
       "      <th>1_pq_interval</th>\n",
       "      <th>1_qt_interval</th>\n",
       "      <th>1_st_interval</th>\n",
       "      <th>1_qrs_morph0</th>\n",
       "      <th>1_qrs_morph1</th>\n",
       "      <th>1_qrs_morph2</th>\n",
       "      <th>1_qrs_morph3</th>\n",
       "      <th>1_qrs_morph4</th>\n",
       "    </tr>\n",
       "  </thead>\n",
       "  <tbody>\n",
       "    <tr>\n",
       "      <th>0</th>\n",
       "      <td>int64</td>\n",
       "      <td>object</td>\n",
       "      <td>int64</td>\n",
       "      <td>float64</td>\n",
       "      <td>float64</td>\n",
       "      <td>float64</td>\n",
       "      <td>float64</td>\n",
       "      <td>float64</td>\n",
       "      <td>float64</td>\n",
       "      <td>int64</td>\n",
       "      <td>...</td>\n",
       "      <td>float64</td>\n",
       "      <td>int64</td>\n",
       "      <td>int64</td>\n",
       "      <td>int64</td>\n",
       "      <td>int64</td>\n",
       "      <td>float64</td>\n",
       "      <td>float64</td>\n",
       "      <td>float64</td>\n",
       "      <td>float64</td>\n",
       "      <td>float64</td>\n",
       "    </tr>\n",
       "  </tbody>\n",
       "</table>\n",
       "<p>1 rows × 34 columns</p>\n",
       "</div>"
      ],
      "text/plain": [
       "  record    type 0_pre-RR 0_post-RR  0_pPeak  0_tPeak  0_rPeak  0_sPeak  \\\n",
       "0  int64  object    int64   float64  float64  float64  float64  float64   \n",
       "\n",
       "   0_qPeak 0_qrs_interval  ...  1_qPeak 1_qrs_interval 1_pq_interval  \\\n",
       "0  float64          int64  ...  float64          int64         int64   \n",
       "\n",
       "  1_qt_interval 1_st_interval 1_qrs_morph0 1_qrs_morph1 1_qrs_morph2  \\\n",
       "0         int64         int64      float64      float64      float64   \n",
       "\n",
       "  1_qrs_morph3 1_qrs_morph4  \n",
       "0      float64      float64  \n",
       "\n",
       "[1 rows x 34 columns]"
      ]
     },
     "execution_count": 232,
     "metadata": {},
     "output_type": "execute_result"
    }
   ],
   "source": [
    "data_type_frame = {}\n",
    "for feature, dataType in data_frame.dtypes.items():\n",
    "    data_type_frame[feature] = str(dataType)\n",
    "data_type_frame = pd.DataFrame([data_type_frame])\n",
    "data_type_frame.head()"
   ]
  },
  {
   "cell_type": "markdown",
   "metadata": {},
   "source": [
    "As we can see in this dataset, we have only one categorical feature (type) and remain features are numeric"
   ]
  },
  {
   "cell_type": "markdown",
   "metadata": {},
   "source": [
    "<u>What preprocessing steps are required? Why?</u>\n",
    "\n",
    "1. Label Encoding: \n",
    "    - Convert categorical labels ('N' 'Q' 'SVEB' 'VEB' 'F') to numeric format (0, 1, 2, 3) for neural network training.\n",
    "    - reason: because neural network and ML work well with numeric\n",
    "\n",
    "2. Feature Normalization/Standardization: \n",
    "    - Reason: to ensure all features contribute equally, prevents features with larger magnitudes from dominating the learning process\n",
    "\n",
    "3. Handle Class Imbalance:\n",
    "    - As we can see above our data is extreme imbalance (N: 90,083 vs Q: 15 samples). In [the paper](https://www.researchgate.net/publication/352809452_Harnessing_Artificial_Intelligence_for_Secure_ECG_Analytics_at_the_Edge_for_Cardiac_Arrhythmia_Classification) they use up-sample to balance the data. I think that is not good because with up-sample method, it just randomly duplicate samples from minority classes, so I will choose SMOTE method which generates synthetic samples by interpolating between existing minority class samples.\n",
    "    - Without balance data, our model will bias toward majority class 'N'\n",
    "\n",
    "4. Feature Selection:\n",
    "    - Remove features like patient IDs because it is non-informative for classify\n",
    "\n",
    "5. Apply PCA:\n",
    "    - remove noise data which usually happen in medical data like ECG signal or IoT data\n",
    "    - Better generalization and reduced overfitting "
   ]
  },
  {
   "cell_type": "markdown",
   "metadata": {},
   "source": [
    "--- "
   ]
  },
  {
   "cell_type": "markdown",
   "metadata": {},
   "source": [
    "**3. Prepare the data for learning a neural network, including preprocessing, creating training, validation, and test datasets. How many training examples and how many test examples are you using?**"
   ]
  },
  {
   "cell_type": "markdown",
   "metadata": {},
   "source": [
    "**Answer**"
   ]
  },
  {
   "cell_type": "markdown",
   "metadata": {},
   "source": [
    "<u>Process Data</u>"
   ]
  },
  {
   "cell_type": "code",
   "execution_count": 233,
   "metadata": {},
   "outputs": [
    {
     "data": {
      "image/png": "[encoded data removed]",
      "text/plain": [
       "<Figure size 1000x600 with 1 Axes>"
      ]
     },
     "metadata": {},
     "output_type": "display_data"
    }
   ],
   "source": [
    "# features selection (remove the patient ID column)\n",
    "data_frame_processed = data_frame.drop(['record'], axis=1)\n",
    "# label categorical data\n",
    "data_frame_processed['type'] = LabelEncoder().fit_transform(data_frame_processed['type'])\n",
    "# normalize data\n",
    "scaler = StandardScaler()\n",
    "feature_x_raw = data_frame_processed.drop(['type'], axis=1)\n",
    "feature_x_scaled = pd.DataFrame(scaler.fit_transform(feature_x_raw), columns= feature_x_raw.columns)\n",
    "target_y = data_frame_processed['type']\n",
    "# split data to apply pca and balance data\n",
    "x_all = feature_x_scaled.values.astype(np.float32)  # original scaled \n",
    "y_all = target_y.values.astype(np.int64)\n",
    "x_train_raw, x_temp, y_train_raw, y_temp = train_test_split(x_all, y_all, test_size=0.2, random_state=42, stratify=y_all) # float64 is highest type in the original features\n",
    "x_val, x_test, y_val, y_test = train_test_split( x_temp, y_temp, test_size=0.5, random_state=42, stratify=y_temp) #because in the original data, the target column has type int64\n",
    "#apply PCA on train data\n",
    "pca = PCA(n_components=0.95, random_state=42) # keep 95%\n",
    "x_train_pca = pca.fit_transform(x_train_raw) # find cosin before transform\n",
    "x_val_pca = pca.transform(x_val)\n",
    "x_test_pca = pca.transform(x_test)\n",
    "\n",
    "# apply SMOTE only for training set, we should not apply SMOTE for test data\n",
    "x_train_final, y_train_final = SMOTE(random_state=42).fit_resample(x_train_pca, y_train_raw)\n",
    "# create a DataFrame to reuse the plotDataDistribute function \n",
    "df_train_plot = pd.DataFrame(x_train_final)\n",
    "df_train_plot['type'] = y_train_final\n",
    "plotDataDistribute(df_train_plot)"
   ]
  },
  {
   "cell_type": "markdown",
   "metadata": {},
   "source": [
    "<u>Creating training, validation, and test datasets</u>"
   ]
  },
  {
   "cell_type": "code",
   "execution_count": null,
   "metadata": {},
   "outputs": [
    {
     "name": "stdout",
     "output_type": "stream",
     "text": [
      "Number of train dataset (after SMOTE): 360330\n",
      "Number of validation dataset: 10069\n",
      "Number of  test dataset: 10069\n"
     ]
    }
   ],
   "source": [
    "class CustomDataset(Dataset):\n",
    "    def __init__(self, x, y):\n",
    "        self.x = torch.from_numpy(x.astype(np.float32))\n",
    "        self.y = torch.from_numpy(y.astype(np.int64))\n",
    "    def __len__(self):\n",
    "        return len(self.x)\n",
    "    def __getitem__(self, idx):\n",
    "        return self.x[idx], self.y[idx]\n",
    "\n",
    "train_ds = CustomDataset(x_train_final, y_train_final)\n",
    "val_ds   = CustomDataset(x_val_pca, y_val)\n",
    "test_ds  = CustomDataset(x_test_pca, y_test)\n",
    "batch_size = 64\n",
    "train_loader = DataLoader(train_ds, batch_size=batch_size, shuffle=True)\n",
    "val_loader   = DataLoader(val_ds, batch_size=batch_size)\n",
    "test_loader  = DataLoader(test_ds, batch_size=batch_size)\n",
    "print(f\"Number of train dataset (after SMOTE): {len(train_ds)}\\nNumber of validation dataset: {len(val_ds)}\\nNumber of  test dataset: {len(test_ds)}\")"
   ]
  },
  {
   "cell_type": "markdown",
   "metadata": {},
   "source": [
    "---"
   ]
  },
  {
   "cell_type": "markdown",
   "metadata": {
    "id": "ChlhkwhkAzLi"
   },
   "source": [
    "### Task 1.2 Setting up a model for training"
   ]
  },
  {
   "cell_type": "markdown",
   "metadata": {},
   "source": [
    "Construct a deep feedforward neural network. Justify your model design decisions.\n",
    "\n",
    "**Answer**"
   ]
  },
  {
   "cell_type": "code",
   "execution_count": 235,
   "metadata": {},
   "outputs": [],
   "source": [
    "class MyNet(nn.Module):\n",
    "    def __init__(self, size_of_input, number_class):\n",
    "        super(MyNet, self).__init__()\n",
    "        self.unit_1 = nn.Linear(size_of_input, 256)\n",
    "        self.unit_2 = nn.Linear(256, 128)\n",
    "        self.unit_3 = nn.Linear(128, 64)\n",
    "        self.unit_4 = nn.Linear(64, number_class)\n",
    "    \n",
    "    def forward(self, x):\n",
    "        x = F.relu(self.unit_1(x))\n",
    "        x = F.relu(self.unit_2(x))\n",
    "        x = F.relu(self.unit_3(x))\n",
    "        x = self.unit_4(x) \n",
    "        return x"
   ]
  },
  {
   "cell_type": "markdown",
   "metadata": {},
   "source": [
    "Output Layer\n",
    "\n",
    "- **How many output nodes?**\n",
    "  - 4 nodes (one for each class: N, Q, SVEB, VEB)\n",
    "  - Determined by `number_class = len(np.unique(y_train_final))` after label encoding\n",
    "\n",
    "- **Which activation function?**\n",
    "  - No activation function (Linear output) because the loss function CrossEntropyLoss() internally applies softmax, so adding softmax to the output layer would result in double softmax application, leading to poor performance\n",
    "\n",
    "Hidden Layers\n",
    "\n",
    "- **How many hidden layers?**\n",
    "  - 3 hidden layers (`unit_1`, `unit_2`, `unit_3`)\n",
    "\n",
    "- **How many nodes in each layer?**\n",
    "  - Layer 1: 256 nodes  \n",
    "  - Layer 2: 128 nodes  \n",
    "  - Layer 3: 64 nodes  \n",
    "\n",
    "- **Which activation function for each layer?**\n",
    "  - ReLU (`F.relu`) for all hidden layers\n",
    "  - **Justification**:\n",
    "    - ReLU is computationally efficient and helps with vanishing gradient problem\n",
    "    - Works well with your standardized ECG data\n",
    "    - Provides non-linearity while maintaining training stability\n",
    "    \n",
    "Input Layer\n",
    "\n",
    "- **What is the input size?**\n",
    "  - Dynamic size: `X_train_final.shape[1]` (number of PCA components)\n",
    "\n",
    "- **Do you need to reshape the input? Why?**\n",
    "  - No reshaping needed\n",
    "  - **Reason**:\n",
    "    - My data is already in the correct format, each sample is a 1D vector of features\n"
   ]
  },
  {
   "cell_type": "markdown",
   "metadata": {},
   "source": [
    "Plot Model Structure using `torchsummary`"
   ]
  },
  {
   "cell_type": "code",
   "execution_count": 236,
   "metadata": {},
   "outputs": [
    {
     "name": "stdout",
     "output_type": "stream",
     "text": [
      "----------------------------------------------------------------\n",
      "        Layer (type)               Output Shape         Param #\n",
      "================================================================\n",
      "            Linear-1                  [-1, 256]           3,840\n",
      "            Linear-2                  [-1, 128]          32,896\n",
      "            Linear-3                   [-1, 64]           8,256\n",
      "            Linear-4                    [-1, 5]             325\n",
      "================================================================\n",
      "Total params: 45,317\n",
      "Trainable params: 45,317\n",
      "Non-trainable params: 0\n",
      "----------------------------------------------------------------\n",
      "Input size (MB): 0.00\n",
      "Forward/backward pass size (MB): 0.00\n",
      "Params size (MB): 0.17\n",
      "Estimated Total Size (MB): 0.18\n",
      "----------------------------------------------------------------\n"
     ]
    }
   ],
   "source": [
    "from torchsummary import summary\n",
    "# create model instance\n",
    "input = x_train_final.shape[1]\n",
    "number_class = len(np.unique(y_train_final))\n",
    "model = MyNet(input, number_class)\n",
    "device = torch.device('cuda' if torch.cuda.is_available() else 'cpu')\n",
    "model.to(device)\n",
    "summary(model, (x_train_final.shape[1],))"
   ]
  },
  {
   "cell_type": "markdown",
   "metadata": {},
   "source": [
    "---"
   ]
  },
  {
   "cell_type": "markdown",
   "metadata": {
    "id": "MZ2BVK5tAzMM"
   },
   "source": [
    "### Task 1.3 Fitting the model\n",
    "\n",
    "**Answer**\n",
    "\n",
    "\n",
    "\n",
    "<u>Report the settings</u>\n",
    "\n",
    "The loss function: \n",
    "- Choice: nn.CrossEntropyLoss()\n",
    "    - Role in Model Fitting:\n",
    "        - Combines LogSoftmax and NLLLoss in one class\n",
    "        - Suitable for multi-class classification (4 ECG arrhythmia classes)\n",
    "        - Provides strong penalty for confident wrong predictions\n",
    "- The metrics for model evaluation is `accuracy`\n",
    "\n",
    "Optimizer Selection:\n",
    "- Choice: torch.optim.Adam\n",
    "- Justification:\n",
    "    - Adaptive learning rates for each parameter\n",
    "    - Works well with sparse gradients (common in medical data)\n",
    "    - Less sensitive to hyperparameter tuning\n",
    "\n",
    "Training Hyperparameters:\n",
    "1. Training Batch Size: 64\n",
    "- Justification: balanced memory usage and training stability\n",
    "    Good compromise between SGD (batch_size=1) and full batch\n",
    "    Provides stable gradient estimates for Adam optimizer\n",
    "2. Number of Training Epochs: 100\n",
    "- Justification: sufficient for convergence on ECG classification\n",
    "    Allows monitoring for overfitting through validation metrics\n",
    "    Can stop early based on validation performance\n",
    "3. Learning Rate: 0.01\n",
    "- No Momentum: Adam has built-in momentum-like behavior\n",
    "- No Learning Rate Schedule: Using fixed learning rate initially\n",
    "- Justification: standard starting point for Adam optimizer\n",
    "    Will monitor training curves to adjust if needed\n"
   ]
  },
  {
   "cell_type": "markdown",
   "metadata": {},
   "source": [
    "<u> Fit the model </u>"
   ]
  },
  {
   "cell_type": "code",
   "execution_count": null,
   "metadata": {},
   "outputs": [],
   "source": [
    "writer = SummaryWriter(log_dir=f\"runs/experiment_initial\") # write log\n",
    "\n",
    "class TrainModel():\n",
    "    def __init__(self, neural_model, device, criterion, optimizer, scheduler=None):\n",
    "        self.neural_model = neural_model\n",
    "        self.criterion = criterion\n",
    "        self.optimizer = optimizer \n",
    "        self.device = device\n",
    "        self.scheduler = scheduler\n",
    "\n",
    "    def train(self, train_loader):\n",
    "        self.neural_model.train()\n",
    "        running_loss = 0.0\n",
    "        correct = 0\n",
    "        total = 0\n",
    "        for batch_id, (data, target) in enumerate(train_loader):\n",
    "            data, target = data.to(self.device), target.to(self.device)\n",
    "            \n",
    "            self.optimizer.zero_grad() #clear previous gradient\n",
    "            output = self.neural_model(data)\n",
    "            loss = self.criterion(output, target) #if confidence is high and prediction is wrong -> high penalty\n",
    "            loss.backward() \n",
    "            self.optimizer.step() #update weight\n",
    "            \n",
    "            running_loss += loss.item()\n",
    "            _, predicted = torch.max(output.data, 1)\n",
    "            total += target.size(0)\n",
    "            correct += (predicted == target).sum().item()\n",
    "        \n",
    "        epoch_loss = running_loss / len(train_loader)\n",
    "        epoch_acc = 100 * correct / total\n",
    "        return epoch_loss, epoch_acc\n",
    "\n",
    "    def validate(self, val_loader):\n",
    "        self.neural_model.eval() # switch to evaluation mode (turn OFF the dropout layers ...)\n",
    "        val_loss = 0.0\n",
    "        correct = 0\n",
    "        total = 0\n",
    "        \n",
    "        with torch.no_grad():\n",
    "            for data, target in val_loader:\n",
    "                data, target = data.to(self.device), target.to(self.device)\n",
    "                output = self.neural_model(data)\n",
    "                val_loss += self.criterion(output, target).item()\n",
    "                _, predicted = torch.max(output.data, 1)\n",
    "                total += target.size(0)\n",
    "                correct += (predicted == target).sum().item()\n",
    "        \n",
    "        val_loss /= len(val_loader)\n",
    "        val_acc = 100 * correct / total\n",
    "        return val_loss, val_acc\n",
    "    \n",
    "    def train_epoch(self, num_epochs, writer = None):\n",
    "        train_losses = []\n",
    "        train_accuracies = []\n",
    "        val_losses = []\n",
    "        val_accuracies = []\n",
    "        learning_rates = []\n",
    "        for epoch in range(num_epochs):\n",
    "            train_loss, train_acc = self.train(train_loader)\n",
    "            val_loss, val_acc = self.validate(val_loader)\n",
    "            \n",
    "            if self.scheduler is not None:\n",
    "                if isinstance(self.scheduler, torch.optim.lr_scheduler.ReduceLROnPlateau):\n",
    "                    self.scheduler.step(val_loss)  #  validation loss for ReduceLROnPlateau\n",
    "                else:\n",
    "                    self.scheduler.step()  #other schedulers\n",
    "            #track learning rate\n",
    "            current_lr = self.optimizer.param_groups[0]['lr']\n",
    "            learning_rates.append(current_lr)\n",
    "            \n",
    "            train_losses.append(train_loss)\n",
    "            train_accuracies.append(train_acc)\n",
    "            val_losses.append(val_loss)\n",
    "            val_accuracies.append(val_acc)\n",
    "            print(f'Epoch {epoch+1}/{num_epochs}: Train Loss: {train_loss:.4f}, Train Acc: {train_acc:.2f}%, Validate Loss: {val_loss:.4f}, Validate Acc: {val_acc:.2f}%')\n",
    "            if writer is not None:\n",
    "                if self.scheduler is not None:\n",
    "                    writer.add_scalars('Loss_Comparison', {'Train': train_loss, 'Validation': val_loss}, epoch)\n",
    "                    writer.add_scalars('Accuracy_Comparison', {'Train': train_acc, 'Validation': val_acc}, epoch)\n",
    "                else:    \n",
    "                    writer.add_scalars('Loss_Comparison', {'Train': train_loss, 'Validation': val_loss}, epoch)\n",
    "                    writer.add_scalars('Accuracy_Comparison', {'Train': train_acc, 'Validation': val_acc}, epoch)\n",
    "        return train_losses, train_accuracies, val_losses, val_accuracies, learning_rates\n",
    "\n",
    "\n",
    "model = MyNet((x_train_final).shape[1], len(np.unique(y_train_final)))\n",
    "device = torch.device('cuda' if torch.cuda.is_available() else 'cpu')\n",
    "model.to(device)\n",
    "loss_function = nn.CrossEntropyLoss()\n",
    "gradient_strategy = torch.optim.Adam(model.parameters(), lr=0.01)\n",
    "train_model = TrainModel(model, device, loss_function, gradient_strategy)\n",
    "train_losses, train_accuracies, val_losses, val_accuracies, learning_rate = train_model.train_epoch(num_epochs= 100, writer= writer)\n",
    "writer.flush()\n",
    "writer.close()"
   ]
  },
  {
   "cell_type": "markdown",
   "metadata": {},
   "source": [
    "**Run test set**"
   ]
  },
  {
   "cell_type": "code",
   "execution_count": 246,
   "metadata": {},
   "outputs": [
    {
     "name": "stdout",
     "output_type": "stream",
     "text": [
      "Test Loss: 0.0762, Test Accuracy: 97.53%\n"
     ]
    }
   ],
   "source": [
    "test_loss, test_acc = train_model.validate(test_loader)\n",
    "print(f'Test Loss: {test_loss:.4f}, Test Accuracy: {test_acc:.2f}%')"
   ]
  },
  {
   "cell_type": "code",
   "execution_count": 247,
   "metadata": {},
   "outputs": [
    {
     "name": "stdout",
     "output_type": "stream",
     "text": [
      "The tensorboard extension is already loaded. To reload it, use:\n",
      "  %reload_ext tensorboard\n"
     ]
    },
    {
     "data": {
      "text/plain": [
       "Reusing TensorBoard on port 6006 (pid 86998), started 1:01:42 ago. (Use '!kill 86998' to kill it.)"
      ]
     },
     "metadata": {},
     "output_type": "display_data"
    },
    {
     "data": {
      "text/html": [
       "\n",
       "      <iframe id=\"tensorboard-frame-9dbab1c21b3683bb\" width=\"100%\" height=\"800\" frameborder=\"0\">\n",
       "      </iframe>\n",
       "      <script>\n",
       "        (function() {\n",
       "          const frame = document.getElementById(\"tensorboard-frame-9dbab1c21b3683bb\");\n",
       "          const url = new URL(\"http://localhost\");\n",
       "          const port = 6006;\n",
       "          if (port) {\n",
       "            url.port = port;\n",
       "          }\n",
       "          frame.src = url;\n",
       "        })();\n",
       "      </script>\n",
       "    "
      ],
      "text/plain": [
       "<IPython.core.display.HTML object>"
      ]
     },
     "metadata": {},
     "output_type": "display_data"
    }
   ],
   "source": [
    "%load_ext tensorboard\n",
    "%tensorboard --logdir runs"
   ]
  },
  {
   "cell_type": "markdown",
   "metadata": {},
   "source": [
    "<u>**How did you decide when to stop training?**</u>\n",
    "\n",
    "- To decide when to stop training, I compared the training loss with the validation loss. I set an early stopping patience of 5 epochs, meaning that within these 5 epochs the training loss could still improve while the validation loss might fluctuate. However, if after 6 epochs the training loss continues to improve but the validation loss does not, I stop training because this indicates that the model has started to overfit."
   ]
  },
  {
   "cell_type": "markdown",
   "metadata": {},
   "source": [
    "---"
   ]
  },
  {
   "cell_type": "markdown",
   "metadata": {
    "id": "4wMtOpQwUSjk"
   },
   "source": [
    "## **Set 2 (C Tasks) Improve the model**\n",
    "### Task 2.1 Check the training using visualisation\n",
    "\n",
    "Visualise the training process (e.g., using TensorBoard). Show screenshots of visualisation.\n",
    "\n",
    "\n"
   ]
  },
  {
   "cell_type": "code",
   "execution_count": 241,
   "metadata": {},
   "outputs": [
    {
     "name": "stdout",
     "output_type": "stream",
     "text": [
      "The tensorboard extension is already loaded. To reload it, use:\n",
      "  %reload_ext tensorboard\n"
     ]
    },
    {
     "data": {
      "text/plain": [
       "Reusing TensorBoard on port 6006 (pid 86998), started 0:00:03 ago. (Use '!kill 86998' to kill it.)"
      ]
     },
     "metadata": {},
     "output_type": "display_data"
    },
    {
     "data": {
      "text/html": [
       "\n",
       "      <iframe id=\"tensorboard-frame-f68266c6420db665\" width=\"100%\" height=\"800\" frameborder=\"0\">\n",
       "      </iframe>\n",
       "      <script>\n",
       "        (function() {\n",
       "          const frame = document.getElementById(\"tensorboard-frame-f68266c6420db665\");\n",
       "          const url = new URL(\"http://localhost\");\n",
       "          const port = 6006;\n",
       "          if (port) {\n",
       "            url.port = port;\n",
       "          }\n",
       "          frame.src = url;\n",
       "        })();\n",
       "      </script>\n",
       "    "
      ],
      "text/plain": [
       "<IPython.core.display.HTML object>"
      ]
     },
     "metadata": {},
     "output_type": "display_data"
    }
   ],
   "source": [
    "%load_ext tensorboard\n",
    "%tensorboard --logdir runs"
   ]
  },
  {
   "cell_type": "markdown",
   "metadata": {},
   "source": [
    "### Screenshot of visualisation\n",
    "\n",
    "<img src=\"acc_loss2.png\" alt=\"Accuracy plot\" width=\"600\"/>\n",
    "<img src=\"over_loss.png\" alt=\"Accuracy plot\" width=\"600\"/>\n"
   ]
  },
  {
   "cell_type": "markdown",
   "metadata": {},
   "source": [
    "**Comment Overfitting**\n",
    "\n",
    "- Looking at the loss chart (validation and training), we can see that the model is overfitting. I set a patience of 5 epochs. The validation loss fluctuated from epoch 2 to 7, and after that, it did not improve, while the training loss kept improving. Therefore, we can stop training at epoch 7."
   ]
  },
  {
   "cell_type": "markdown",
   "metadata": {},
   "source": [
    "\n",
    "### Task 2.2 Apply regularisation\n",
    "\n",
    "Improve the training process by applying regularisation."
   ]
  },
  {
   "cell_type": "markdown",
   "metadata": {},
   "source": [
    "**1. Setup class**\n",
    "\n",
    "- I created three classes to compare the effectiveness of each regularization:\n",
    "    - `MyNetBatchNorm`: applies only batch normalization\n",
    "    - `MyNetDropout`: applies only dropout\n",
    "    - `MyNetImprove`: applies both dropout and batch normalization"
   ]
  },
  {
   "cell_type": "code",
   "execution_count": 252,
   "metadata": {},
   "outputs": [],
   "source": [
    "class MyNetImprove(nn.Module):\n",
    "    def __init__(self, size_of_input, number_class):\n",
    "        super(MyNetImprove, self).__init__()\n",
    "        self.unit_1 = nn.Linear(size_of_input, 256)\n",
    "        self.bn1 = nn.BatchNorm1d(256)\n",
    "        self.unit_2 = nn.Linear(256, 128)\n",
    "        self.bn2 = nn.BatchNorm1d(128)\n",
    "        self.unit_3 = nn.Linear(128, 64)\n",
    "        self.bn3 = nn.BatchNorm1d(64)\n",
    "        self.unit_4 = nn.Linear(64, number_class)\n",
    "        self.dropout = nn.Dropout(p=0.5)  # Dropout for regularization\n",
    "    \n",
    "    def forward(self, x):\n",
    "        # linear -> batch norm -> active funtion\n",
    "        x = self.unit_1(x)\n",
    "        x = self.bn1(x)\n",
    "        x = F.relu(x)\n",
    "        x = self.dropout(x)\n",
    "        \n",
    "        x = self.unit_2(x)\n",
    "        x = self.bn2(x)\n",
    "        x = F.relu(x)\n",
    "        x = self.dropout(x)\n",
    "        \n",
    "        x = self.unit_3(x)\n",
    "        x = self.bn3(x)\n",
    "        x = F.relu(x)\n",
    "        x = self.dropout(x)\n",
    "        x = self.unit_4(x)\n",
    "        return x\n",
    "    \n",
    "class MyNetBatchNorm(nn.Module):\n",
    "    def __init__(self, size_of_input, number_class):\n",
    "        super(MyNetBatchNorm, self).__init__()\n",
    "        self.unit_1 = nn.Linear(size_of_input, 256)\n",
    "        self.bn1 = nn.BatchNorm1d(256)\n",
    "        self.unit_2 = nn.Linear(256, 128)\n",
    "        self.bn2 = nn.BatchNorm1d(128)\n",
    "        self.unit_3 = nn.Linear(128, 64)\n",
    "        self.bn3 = nn.BatchNorm1d(64)\n",
    "        self.unit_4 = nn.Linear(64, number_class)\n",
    "    \n",
    "    def forward(self, x):\n",
    "        x = self.unit_1(x)\n",
    "        x = self.bn1(x)\n",
    "        x = F.relu(x)\n",
    "        \n",
    "        x = self.unit_2(x)\n",
    "        x = self.bn2(x)\n",
    "        x = F.relu(x)\n",
    "        \n",
    "        x = self.unit_3(x)\n",
    "        x = self.bn3(x)\n",
    "        x = F.relu(x)\n",
    "        \n",
    "        x = self.unit_4(x)\n",
    "        return x\n",
    "\n",
    "class MyNetDropout(nn.Module):\n",
    "    def __init__(self, size_of_input, number_class, dropout_rate=0.5):\n",
    "        super(MyNetDropout, self).__init__()\n",
    "        self.unit_1 = nn.Linear(size_of_input, 256)\n",
    "        self.unit_2 = nn.Linear(256, 128)\n",
    "        self.unit_3 = nn.Linear(128, 64)\n",
    "        self.unit_4 = nn.Linear(64, number_class)\n",
    "        self.dropout = nn.Dropout(p=dropout_rate)\n",
    "    \n",
    "    def forward(self, x):\n",
    "        x = F.relu(self.unit_1(x))\n",
    "        x = self.dropout(x)\n",
    "        x = F.relu(self.unit_2(x))\n",
    "        x = self.dropout(x)\n",
    "        x = F.relu(self.unit_3(x))\n",
    "        x = self.dropout(x)\n",
    "        x = self.unit_4(x)\n",
    "        return x"
   ]
  },
  {
   "cell_type": "markdown",
   "metadata": {},
   "source": [
    "**2. Run Experiment**"
   ]
  },
  {
   "cell_type": "code",
   "execution_count": null,
   "metadata": {},
   "outputs": [],
   "source": [
    "# experiment setup\n",
    "input_size = x_train_final.shape[1]\n",
    "num_classes = len(np.unique(y_train_final))\n",
    "num_epochs = 100\n",
    "\n",
    "#  models list\n",
    "models = {\n",
    "    'Dropout': MyNetDropout(input_size, num_classes),\n",
    "    'BatchNorm': MyNetBatchNorm(input_size, num_classes),\n",
    "    'Combined': MyNetImprove(input_size, num_classes)\n",
    "}\n",
    "\n",
    "for model_name, model in models.items():\n",
    "    model.to(device)\n",
    "    optimizer = torch.optim.Adam(model.parameters(), lr=0.001)\n",
    "    trainer = TrainModel(model, device, nn.CrossEntropyLoss(), optimizer)\n",
    "    writer = SummaryWriter(log_dir=f\"runs/model_experiment_{model_name.lower()}\")\n",
    "    train_losses, train_accuracies, val_losses, val_accuracies, learning_rates = trainer.train_epoch(\n",
    "        num_epochs=num_epochs, writer=writer\n",
    "    )\n",
    "    test_loss, test_acc = trainer.validate(test_loader)\n",
    "    print(f\"{model_name} - Final Test Accuracy: {test_acc:.2f}%\")\n",
    "    writer.flush()\n",
    "    writer.close()"
   ]
  },
  {
   "cell_type": "code",
   "execution_count": 254,
   "metadata": {},
   "outputs": [
    {
     "name": "stdout",
     "output_type": "stream",
     "text": [
      "The tensorboard extension is already loaded. To reload it, use:\n",
      "  %reload_ext tensorboard\n"
     ]
    },
    {
     "data": {
      "text/plain": [
       "Reusing TensorBoard on port 6006 (pid 86998), started 2:24:08 ago. (Use '!kill 86998' to kill it.)"
      ]
     },
     "metadata": {},
     "output_type": "display_data"
    },
    {
     "data": {
      "text/html": [
       "\n",
       "      <iframe id=\"tensorboard-frame-14750fbde6d7de45\" width=\"100%\" height=\"800\" frameborder=\"0\">\n",
       "      </iframe>\n",
       "      <script>\n",
       "        (function() {\n",
       "          const frame = document.getElementById(\"tensorboard-frame-14750fbde6d7de45\");\n",
       "          const url = new URL(\"http://localhost\");\n",
       "          const port = 6006;\n",
       "          if (port) {\n",
       "            url.port = port;\n",
       "          }\n",
       "          frame.src = url;\n",
       "        })();\n",
       "      </script>\n",
       "    "
      ],
      "text/plain": [
       "<IPython.core.display.HTML object>"
      ]
     },
     "metadata": {},
     "output_type": "display_data"
    }
   ],
   "source": [
    "%load_ext tensorboard\n",
    "%tensorboard --logdir runs"
   ]
  },
  {
   "cell_type": "markdown",
   "metadata": {},
   "source": [
    "**3. Comment**\n",
    "\n",
    "Looking at the TensorBoard results, we can see that applying only batch normalization does not fix the overfitting. Applying only dropout helps reduce overfitting, but the performance is not as good compared to the `MyNetImprove` class, which applies both batch normalization and dropout.\n",
    "\n",
    "The experimental results demonstrate that different regularization techniques address distinct aspects of the training process:\n",
    "\n",
    "1. Batch Normalization: Batch normalization makes training more stable and helps the model learn faster. However, it does not give enough regularization for the complex task of ECG classification. We can see this because the training loss keeps going down, while the validation loss go up, showing signs of overfitting.\n",
    "2. Dropout Alone: Dropout gives strong regularization by randomly turning off some neurons during training. This reduces overfitting and makes the model more robust. But without batch normalization, the training is less stable and may take longer to reach the best results.\n",
    "3. Combined Approach: Using both batch normalization and dropout together gives the best performance. Batch normalization makes training stable and efficient for learning ECG signal patterns, while dropout controls overfitting and improves generalization. This balance helps the model work better on unseen arrhythmia cases.\n"
   ]
  },
  {
   "cell_type": "markdown",
   "metadata": {},
   "source": [
    "**4. Screenshot of the loss chart**\n",
    "\n",
    "1. Only Batch Normalization\n",
    "\n",
    "<img src=\"only_batch.png\" alt=\"Accuracy plot\" width=\"600\"/>\n",
    "\n",
    "2. Dropout Alone\n",
    "\n",
    "<img src=\"only_dropout.png\" alt=\"Accuracy plot\" width=\"600\"/>\n",
    "\n",
    "3. Combined Approach\n",
    "\n",
    "<img src=\"combine.png\" alt=\"Accuracy plot\" width=\"600\"/>\n"
   ]
  },
  {
   "cell_type": "markdown",
   "metadata": {
    "id": "9C2VXCM-4Nw9"
   },
   "source": [
    "## **Set 3 (D Tasks) Analyse the learned representations**\n",
    "\n",
    "(weight ~ 10%)\n",
    "\n",
    "In this task, you will explore the visualization of embeddings at different layers of your trained neural network and analyse how they evolve using **Uniform Manifold Approximation and Projection** ([UMAP](https://github.com/lmcinnes/umap)). Below are detailed steps you can follow.\n",
    "\n",
    "1. Select a subset of your training data containing both classes.\n",
    "2. Extract the embeddings from each layer of the neural network model for the dataset.\n",
    "3. Apply UMAP to visualise the embeddings from each layer in a 2-dimensional space, highlighting different classes with distinct colours or markers. Include appropriate labels and legends in your plots.\n",
    "4. Analyse and discuss the evolution of the embeddings across layers. Answer the following questions in your analysis:\n",
    "\n",
    "  - Do the embeddings show a clear separation between classes at any specific layer?\n",
    "  - How do the separation and clustering of classes change as you move across layers?\n",
    "  - Are there any notable changes in the distribution or structure of the embeddings?\n",
    "  - Are there any layers where the embeddings become less discriminative or more entangled?\n",
    "\n",
    "5. Summarize your findings and provide insights into the behaviour of the neural network's representations at different layers. Discuss the implications of the observed changes in the embeddings for the network's ability to capture class-specific information and make predictions.\n",
    "\n"
   ]
  },
  {
   "cell_type": "markdown",
   "metadata": {
    "id": "4EgXZCBNAzMs"
   },
   "source": [
    "## **Set 4 (HD Tasks) Investigating Neural Collapse in Deep Learning**\n",
    "\n",
    "*(weight ~20%)*\n",
    "\n",
    "In this research task, you will explore the phenomenon of \"neural collapse\" in deep learning models. Additionally, you must identify meaningful research gaps or failure cases that arise from the literature or your own experiments.\n",
    "\n",
    "\n",
    "### Task 4.1 Examine layer rotation with Layca\n",
    "\n",
    "1. Reproduce experiments described in the paper [Layer rotation: a surprisingly powerful indicator of generalization in deep networks?](https://arxiv.org/abs/1806.01603),  Compare the results you obtained with the ones in the paper. Do you identify any discrepancies?\n",
    "\n",
    "2. What connections do you discover between the paper and what you have learnt in the unit?\n",
    "\n",
    "### Task 4.2 Design and Develop Your Own ML Solution\n",
    "1. Design and develop your own deep learning solution using CIFAR dataset. The proposed solution must be substantially different from the approaches presented in the article. However, this does not mean you are required to choose a new ML algorithm. You can develop a novel solution by changing the feature\n",
    "selection approach, using different preprocessing techniques, exploring alternative model combinations, or restructuring the training pipeline. The goal is to propose a system that is meaningfully distinct from the authors' method.\n",
    "Your technical report must include:\n",
    "* A clear motivation for the proposed solution\n",
    "* A description of how your method differs from the article\n",
    "* A well-structured experimental protocol\n",
    "* Evaluation using Accuracy, Precision, Recall, F1 Score, and AUC.\n",
    "\n",
    "### Deliverables for HD Tasks\n",
    "\n",
    "* Written submission (Max 4 pages): Summarize your approach to reproducing the experiments, key findings, and critical observations. Clearly articulate the research gaps or failure cases you identified.\n",
    "* Link to reproducible code\n",
    "* Short video presentation (Max 5 minutes): Highlight your main conclusions about neural collapse.\n",
    "Discuss the most pressing research gaps or failure cases and how addressing them could push the field forward."
   ]
  },
  {
   "cell_type": "markdown",
   "metadata": {
    "id": "N-9tV727aTzv"
   },
   "source": [
    "---\n",
    "\n",
    "### End of Assignment 2\n",
    "\n",
    "---"
   ]
  },
  {
   "cell_type": "markdown",
   "metadata": {},
   "source": [
    "### need check"
   ]
  },
  {
   "cell_type": "markdown",
   "metadata": {},
   "source": [
    "validation set\n",
    "\n",
    "drop out\n",
    "\n",
    "Batch normal\n",
    "\n",
    "Weight decay\n",
    "\n",
    "tensor board \n",
    "\n",
    "**show that augmentation can advoid overfiting**"
   ]
  },
  {
   "cell_type": "markdown",
   "metadata": {},
   "source": []
  }
 ],
 "metadata": {
  "colab": {
   "authorship_tag": "ABX9TyPFcF4eQDVHSaBv0HM+JwIP",
   "provenance": [
    {
     "file_id": "1cMLhlRCR6rpInqq7SgGdql4HXcdI8qsy",
     "timestamp": 1646607235032
    }
   ]
  },
  "kernelspec": {
   "display_name": "base",
   "language": "python",
   "name": "python3"
  },
  "language_info": {
   "codemirror_mode": {
    "name": "ipython",
    "version": 3
   },
   "file_extension": ".py",
   "mimetype": "text/x-python",
   "name": "python",
   "nbconvert_exporter": "python",
   "pygments_lexer": "ipython3",
   "version": "3.12.7"
  }
 },
 "nbformat": 4,
 "nbformat_minor": 0
}
