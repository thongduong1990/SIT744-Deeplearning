{
 "cells": [
  {
   "cell_type": "code",
   "execution_count": 1,
   "id": "334e9d39",
   "metadata": {},
   "outputs": [],
   "source": [
    "import torch\n",
    "from torch import nn\n",
    "import pandas as pd\n",
    "from torch.utils.data import DataLoader, random_split, Dataset\n",
    "from sklearn.impute import SimpleImputer\n",
    "import numpy as np\n",
    "from sklearn.preprocessing import StandardScaler\n",
    "from imblearn.over_sampling import SMOTE\n",
    "from torch.utils.tensorboard import SummaryWriter\n",
    "import time\n",
    "import matplotlib.pyplot as plt\n",
    "import seaborn as sns\n"
   ]
  },
  {
   "cell_type": "code",
   "execution_count": 6,
   "id": "d0f0e638",
   "metadata": {},
   "outputs": [
    {
     "name": "stdout",
     "output_type": "stream",
     "text": [
      "2906\n",
      "726\n",
      "Epoch 1\n",
      "loss: 0.656044  [   64/ 2906]\n"
     ]
    },
    {
     "name": "stderr",
     "output_type": "stream",
     "text": [
      "/var/folders/7y/tb8vlfv937523rgqdlf0zjy40000gn/T/ipykernel_4415/321213032.py:38: FutureWarning: Series.__getitem__ treating keys as positions is deprecated. In a future version, integer keys will always be treated as labels (consistent with DataFrame behavior). To access a value by position, use `ser.iloc[pos]`\n",
      "  label = torch.tensor(row[-1], dtype=torch.float32).unsqueeze(0)  # shape [1]\n"
     ]
    },
    {
     "name": "stdout",
     "output_type": "stream",
     "text": [
      "Accuracy: 0.7713498622589532%, Avg loss: 0.514430 \n",
      "\n",
      "Epoch 2\n",
      "loss: 0.520660  [   64/ 2906]\n",
      "Accuracy: 0.7878787878787878%, Avg loss: 0.471202 \n",
      "\n",
      "Epoch 3\n",
      "loss: 0.435110  [   64/ 2906]\n",
      "Accuracy: 0.7892561983471075%, Avg loss: 0.454782 \n",
      "\n",
      "Epoch 4\n",
      "loss: 0.568514  [   64/ 2906]\n",
      "Accuracy: 0.7892561983471075%, Avg loss: 0.444061 \n",
      "\n",
      "Epoch 5\n",
      "loss: 0.400519  [   64/ 2906]\n",
      "Accuracy: 0.7851239669421488%, Avg loss: 0.438486 \n",
      "\n",
      "Epoch 6\n",
      "loss: 0.492533  [   64/ 2906]\n",
      "Accuracy: 0.7851239669421488%, Avg loss: 0.434268 \n",
      "\n",
      "Epoch 7\n",
      "loss: 0.426101  [   64/ 2906]\n",
      "Accuracy: 0.7975206611570248%, Avg loss: 0.431569 \n",
      "\n",
      "Epoch 8\n",
      "loss: 0.528951  [   64/ 2906]\n",
      "Accuracy: 0.7988980716253443%, Avg loss: 0.426967 \n",
      "\n",
      "Epoch 9\n",
      "loss: 0.523290  [   64/ 2906]\n",
      "Accuracy: 0.7988980716253443%, Avg loss: 0.424634 \n",
      "\n",
      "Epoch 10\n",
      "loss: 0.466374  [   64/ 2906]\n",
      "Accuracy: 0.8057851239669421%, Avg loss: 0.422360 \n",
      "\n",
      "Epoch 11\n",
      "loss: 0.409606  [   64/ 2906]\n",
      "Accuracy: 0.803030303030303%, Avg loss: 0.419841 \n",
      "\n",
      "Epoch 12\n",
      "loss: 0.458662  [   64/ 2906]\n",
      "Accuracy: 0.8071625344352618%, Avg loss: 0.419187 \n",
      "\n",
      "Epoch 13\n",
      "loss: 0.449992  [   64/ 2906]\n",
      "Accuracy: 0.8016528925619835%, Avg loss: 0.416559 \n",
      "\n",
      "Epoch 14\n",
      "loss: 0.454249  [   64/ 2906]\n",
      "Accuracy: 0.790633608815427%, Avg loss: 0.415922 \n",
      "\n",
      "Epoch 15\n",
      "loss: 0.396610  [   64/ 2906]\n",
      "Accuracy: 0.8126721763085399%, Avg loss: 0.412961 \n",
      "\n",
      "Epoch 16\n",
      "loss: 0.357159  [   64/ 2906]\n",
      "Accuracy: 0.803030303030303%, Avg loss: 0.409821 \n",
      "\n",
      "Epoch 17\n",
      "loss: 0.364663  [   64/ 2906]\n",
      "Accuracy: 0.8085399449035813%, Avg loss: 0.407539 \n",
      "\n",
      "Epoch 18\n",
      "loss: 0.449795  [   64/ 2906]\n",
      "Accuracy: 0.8057851239669421%, Avg loss: 0.407230 \n",
      "\n",
      "Epoch 19\n",
      "loss: 0.389930  [   64/ 2906]\n",
      "Accuracy: 0.8071625344352618%, Avg loss: 0.404387 \n",
      "\n",
      "Epoch 20\n",
      "loss: 0.447167  [   64/ 2906]\n",
      "Accuracy: 0.8168044077134986%, Avg loss: 0.405773 \n",
      "\n",
      "DONE!\n"
     ]
    }
   ],
   "source": [
    "datasetCsv = pd.read_csv('dataset.csv')\n",
    "# drop id column because it can't be a feature to train\n",
    "datasetCsv.drop(columns=[\"Id\"], axis= 1, inplace=True)\n",
    "#replace zeros with NaN \n",
    "fields_with_invalid_zeros = ['Glucose', 'BloodPressure', 'SkinThickness', 'Insulin', 'BMI']\n",
    "for col in fields_with_invalid_zeros:\n",
    "    datasetCsv[col] = datasetCsv[col].apply(lambda x: np.nan if x == 0 else x)\n",
    "\n",
    "#impute values\n",
    "imputer = SimpleImputer(strategy='median')\n",
    "df_imputed = pd.DataFrame(imputer.fit_transform(datasetCsv), columns=datasetCsv.columns)\n",
    "\n",
    "#normalize feature columns (excluding the target)\n",
    "X = df_imputed.drop(columns=['Outcome'])\n",
    "y = df_imputed['Outcome']\n",
    "scaler = StandardScaler()\n",
    "X_scaled = pd.DataFrame(scaler.fit_transform(X), columns=X.columns)\n",
    "#combine features and label into one DataFrame\n",
    "smote = SMOTE(random_state=42)\n",
    "X_resampled, y_resampled = smote.fit_resample(X_scaled, y)\n",
    "\n",
    "preprocessed_df = pd.DataFrame(X_resampled, columns=X.columns)\n",
    "preprocessed_df['Outcome'] = y_resampled\n",
    "\n",
    "\n",
    "device = torch.accelerator.current_accelerator().type if torch.accelerator.is_available() else \"cpu\"\n",
    "writer = SummaryWriter(log_dir=f\"runs/experiment_1\")\n",
    "class CustomDataset(Dataset):\n",
    "    def __init__(self, dataFrane):\n",
    "        self.data = dataFrane\n",
    "        \n",
    "    def __len__(self):\n",
    "        return len(self.data)\n",
    "    \n",
    "    def __getitem__(self, index):\n",
    "        row = self.data.iloc[index]\n",
    "        features = torch.tensor(row[:-1].values, dtype=torch.float32)\n",
    "        label = torch.tensor(row[-1], dtype=torch.float32).unsqueeze(0)  # shape [1]\n",
    "        return features, label\n",
    "    \n",
    "class NeuralNetwork(nn.Module):\n",
    "    def __init__(self):\n",
    "        super().__init__()\n",
    "        self.flatten = nn.Flatten()\n",
    "        self.linear_relu_stack = nn.Sequential(\n",
    "            nn.Linear(8, 32),\n",
    "            nn.ReLU(),\n",
    "            nn.Linear(32, 1),\n",
    "            nn.Sigmoid()\n",
    "        )\n",
    "    \n",
    "    def forward(self, x):\n",
    "        logits = self.linear_relu_stack(x)\n",
    "        return logits\n",
    "def train(dataLoader, model, loss_fn, optimizer, epoch, writer):\n",
    "        size = len(dataLoader.dataset)\n",
    "        model.train() #set model to the training mode, it just switches internal setting\n",
    "        running_loss = 0.0\n",
    "        correct = 0\n",
    "        for batch, (X, y) in enumerate(dataLoader):\n",
    "            X, y = X.to(device), y.to(device)\n",
    "            predict = model(X)\n",
    "            loss = loss_fn(predict, y)\n",
    "            #backpropagation\n",
    "            loss.backward()\n",
    "            optimizer.step()\n",
    "            optimizer.zero_grad() #?\n",
    "            # Calculate accuracy for this batch\n",
    "            pred_binary = (predict >= 0.5).float()\n",
    "            correct += (pred_binary == y).sum().item()\n",
    "            running_loss += loss.item()\n",
    "            \n",
    "            if batch % 100 == 0:\n",
    "                loss, current = loss.item(), (batch + 1) * len(X)\n",
    "                print(f\"loss: {loss:>7f}  [{current:>5d}/{size:>5d}]\")\n",
    "        # Log training metrics to TensorBoard\n",
    "        avg_loss = running_loss / len(dataLoader)\n",
    "        accuracy = (correct / size) * 100\n",
    "        \n",
    "        writer.add_scalar('Loss/Train', avg_loss, epoch)\n",
    "        writer.add_scalar('Accuracy/Train', accuracy, epoch)\n",
    "                \n",
    "def test(dataloader, model, loss_fn, epoch, writer):\n",
    "    size = len(dataloader.dataset)\n",
    "    num_batches = len(dataloader)\n",
    "    model.eval()\n",
    "    test_loss, correct = 0, 0\n",
    "    with torch.no_grad():\n",
    "        for X, y in dataloader:\n",
    "            X, y = X.to(device), y.to(device)\n",
    "            pred = model(X)\n",
    "            test_loss += loss_fn(pred, y).item()\n",
    "            pred = pred.flatten()\n",
    "            y = y.flatten()\n",
    "            for i in range(len(pred)):\n",
    "                predict = 1 if pred[i] >= 0.5 else 0\n",
    "                if predict == y[i]:\n",
    "                   correct += 1 \n",
    "    test_loss /= num_batches\n",
    "    correct /= size\n",
    "    writer.add_scalar('Loss/Test', test_loss, epoch)\n",
    "    writer.add_scalar('Accuracy/Test', correct, epoch)\n",
    "    print(f\"Accuracy: {correct}%, Avg loss: {test_loss:>8f} \\n\")\n",
    "    return correct\n",
    "    \n",
    "    \n",
    "customDataset = CustomDataset(preprocessed_df)\n",
    "\n",
    "trainData, testData = random_split(customDataset, [0.8, 0.2])\n",
    "print(len(trainData))\n",
    "print(len(testData))\n",
    "trainDataLoader = DataLoader(trainData, batch_size=64, shuffle=True)\n",
    "testDataLoader = DataLoader(testData, batch_size=64, shuffle=False)\n",
    "model = NeuralNetwork().to(device)\n",
    "loss_fn = nn.BCELoss() # use binary cross entropy because we have 2 classes in target\n",
    "optimizer = torch.optim.SGD(model.parameters(), lr= 0.1) #??? changed SGD to adam\n",
    "\n",
    "epochs = 20\n",
    "for i in range(epochs):\n",
    "    print(f'Epoch {i + 1}')\n",
    "    train(trainDataLoader, model, loss_fn, optimizer, i, writer)\n",
    "    test(testDataLoader, model, loss_fn, i, writer)\n",
    "writer.close()\n",
    "print(\"DONE!\")"
   ]
  },
  {
   "cell_type": "code",
   "execution_count": 4,
   "id": "2864b36a",
   "metadata": {},
   "outputs": [
    {
     "name": "stdout",
     "output_type": "stream",
     "text": [
      "The tensorboard extension is already loaded. To reload it, use:\n",
      "  %reload_ext tensorboard\n"
     ]
    },
    {
     "data": {
      "text/plain": [
       "Reusing TensorBoard on port 6007 (pid 4878), started 0:00:02 ago. (Use '!kill 4878' to kill it.)"
      ]
     },
     "metadata": {},
     "output_type": "display_data"
    },
    {
     "data": {
      "text/html": [
       "\n",
       "      <iframe id=\"tensorboard-frame-1257607166fa4011\" width=\"100%\" height=\"800\" frameborder=\"0\">\n",
       "      </iframe>\n",
       "      <script>\n",
       "        (function() {\n",
       "          const frame = document.getElementById(\"tensorboard-frame-1257607166fa4011\");\n",
       "          const url = new URL(\"http://localhost\");\n",
       "          const port = 6007;\n",
       "          if (port) {\n",
       "            url.port = port;\n",
       "          }\n",
       "          frame.src = url;\n",
       "        })();\n",
       "      </script>\n",
       "    "
      ],
      "text/plain": [
       "<IPython.core.display.HTML object>"
      ]
     },
     "metadata": {},
     "output_type": "display_data"
    }
   ],
   "source": [
    "%load_ext tensorboard\n",
    "%tensorboard --logdir runs"
   ]
  },
  {
   "cell_type": "code",
   "execution_count": 30,
   "id": "449b20e4",
   "metadata": {},
   "outputs": [],
   "source": [
    "# Re-run everything after kernel reset\n",
    "import pandas as pd\n",
    "import numpy as np\n",
    "from sklearn.impute import SimpleImputer\n",
    "from sklearn.preprocessing import StandardScaler\n",
    "from imblearn.over_sampling import SMOTE\n",
    "\n",
    "# Load dataset\n",
    "datasetCsv = pd.read_csv(\"dataset.csv\")\n",
    "\n",
    "# Drop ID column\n",
    "datasetCsv.drop(columns=[\"Id\"], axis=1, inplace=True)\n",
    "\n",
    "# Replace zero with NaN for selected medical fields\n",
    "fields_with_invalid_zeros = ['Glucose', 'BloodPressure', 'SkinThickness', 'Insulin', 'BMI']\n",
    "for col in fields_with_invalid_zeros:\n",
    "    datasetCsv[col] = datasetCsv[col].apply(lambda x: np.nan if x == 0 else x)\n",
    "\n",
    "# Impute missing values using median\n",
    "imputer = SimpleImputer(strategy='median')\n",
    "df_imputed = pd.DataFrame(imputer.fit_transform(datasetCsv), columns=datasetCsv.columns)\n",
    "\n",
    "# Separate features and target\n",
    "X = df_imputed.drop(columns=['Outcome'])\n",
    "y = df_imputed['Outcome']\n",
    "\n",
    "# Normalize features\n",
    "scaler = StandardScaler()\n",
    "X_scaled = pd.DataFrame(scaler.fit_transform(X), columns=X.columns)\n",
    "\n",
    "# Apply SMOTE to balance classes\n",
    "smote = SMOTE(random_state=42)\n",
    "X_resampled, y_resampled = smote.fit_resample(X_scaled, y)\n",
    "\n",
    "# Recover original age values before scaling\n",
    "age_mean = df_imputed['Age'].mean()\n",
    "age_std = df_imputed['Age'].std()\n",
    "ages_unscaled = X_resampled['Age'] * age_std + age_mean\n",
    "\n",
    "# Assign age groups\n",
    "def age_group(age):\n",
    "    if age < 30:\n",
    "        return 'Under 30'\n",
    "    elif 30 <= age <= 50:\n",
    "        return '30–50'\n",
    "    else:\n",
    "        return 'Over 50'\n",
    "\n",
    "age_groups = pd.Series(ages_unscaled).apply(age_group)\n",
    "\n",
    "# Create final processed DataFrame with AgeGroup and Outcome\n",
    "processed_df = pd.DataFrame(X_resampled, columns=X.columns)\n",
    "processed_df['AgeGroup'] = age_groups\n",
    "processed_df['Outcome'] = y_resampled"
   ]
  },
  {
   "cell_type": "code",
   "execution_count": 46,
   "id": "30adafe2",
   "metadata": {},
   "outputs": [
    {
     "name": "stdout",
     "output_type": "stream",
     "text": [
      "Total samples: 3632\n",
      "Samples over 50: 418\n",
      "Percentage over 50: 11.51%\n",
      "\n",
      "Outcome distribution for Over 50 group:\n",
      "Non-diabetic (0): 163 (39.00%)\n",
      "Diabetic (1): 255 (61.00%)\n",
      "\n",
      "Dataset ready for testing on over 50 age group!\n",
      "Accuracy: 0.7894736842105263%, Avg loss: 0.458751 \n",
      "\n"
     ]
    },
    {
     "name": "stderr",
     "output_type": "stream",
     "text": [
      "/var/folders/7y/tb8vlfv937523rgqdlf0zjy40000gn/T/ipykernel_4415/321213032.py:38: FutureWarning: Series.__getitem__ treating keys as positions is deprecated. In a future version, integer keys will always be treated as labels (consistent with DataFrame behavior). To access a value by position, use `ser.iloc[pos]`\n",
      "  label = torch.tensor(row[-1], dtype=torch.float32).unsqueeze(0)  # shape [1]\n"
     ]
    },
    {
     "data": {
      "text/plain": [
       "0.7894736842105263"
      ]
     },
     "execution_count": 46,
     "metadata": {},
     "output_type": "execute_result"
    }
   ],
   "source": [
    "# Filter data for people over 50 years old\n",
    "over_50_data = processed_df[processed_df['AgeGroup'] == 'Over 50']\n",
    "\n",
    "print(f\"Total samples: {len(processed_df)}\")\n",
    "print(f\"Samples over 50: {len(over_50_data)}\")\n",
    "print(f\"Percentage over 50: {len(over_50_data)/len(processed_df)*100:.2f}%\")\n",
    "\n",
    "# Check the outcome distribution for over 50 group\n",
    "outcome_distribution = over_50_data['Outcome'].value_counts()\n",
    "print(f\"\\nOutcome distribution for Over 50 group:\")\n",
    "print(f\"Non-diabetic (0): {outcome_distribution[0]} ({outcome_distribution[0]/len(over_50_data)*100:.2f}%)\")\n",
    "print(f\"Diabetic (1): {outcome_distribution[1]} ({outcome_distribution[1]/len(over_50_data)*100:.2f}%)\")\n",
    "\n",
    "# Remove AgeGroup column before creating dataset (only keep numerical features and Outcome)\n",
    "over_50_data_clean = over_50_data.drop(columns=['AgeGroup'])\n",
    "\n",
    "# Create dataset and dataloader for over 50 data\n",
    "over_50_dataset = CustomDataset(over_50_data_clean)\n",
    "over_50_dataloader = DataLoader(over_50_dataset, batch_size=64, shuffle=False)\n",
    "\n",
    "# Test the model on over 50 data (need to import necessary modules first)\n",
    "import torch\n",
    "from torch import nn\n",
    "from torch.utils.data import DataLoader, Dataset\n",
    "from torch.utils.tensorboard import SummaryWriter\n",
    "\n",
    "print(\"\\nDataset ready for testing on over 50 age group!\")\n",
    "test(over_50_dataloader, model, loss_fn, 0, writer)"
   ]
  },
  {
   "cell_type": "code",
   "execution_count": 38,
   "id": "60328480",
   "metadata": {},
   "outputs": [
    {
     "name": "stdout",
     "output_type": "stream",
     "text": [
      "Testing model performance on Over 50 age group:\n",
      "==================================================\n"
     ]
    },
    {
     "name": "stderr",
     "output_type": "stream",
     "text": [
      "/var/folders/7y/tb8vlfv937523rgqdlf0zjy40000gn/T/ipykernel_4415/321213032.py:38: FutureWarning: Series.__getitem__ treating keys as positions is deprecated. In a future version, integer keys will always be treated as labels (consistent with DataFrame behavior). To access a value by position, use `ser.iloc[pos]`\n",
      "  label = torch.tensor(row[-1], dtype=torch.float32).unsqueeze(0)  # shape [1]\n"
     ]
    },
    {
     "name": "stdout",
     "output_type": "stream",
     "text": [
      "Accuracy: 0.7894736842105263%, Avg loss: 0.458751 \n",
      "\n"
     ]
    }
   ],
   "source": [
    "# Test the trained model specifically on over 50 data\n",
    "# Make sure you've run the training cell first to create model, loss_fn, and writer\n",
    "\n",
    "if 'model' in globals() and 'loss_fn' in globals():\n",
    "    print(\"Testing model performance on Over 50 age group:\")\n",
    "    print(\"=\" * 50)\n",
    "    test(over_50_dataloader, model, loss_fn, 0, writer)\n",
    "else:\n",
    "    print(\"Please run the training cell first to create the model, loss function, and writer variables.\")"
   ]
  },
  {
   "cell_type": "code",
   "execution_count": 31,
   "id": "c0639be8",
   "metadata": {},
   "outputs": [
    {
     "data": {
      "image/png": "[encoded data removed]",
      "text/plain": [
       "<Figure size 600x400 with 1 Axes>"
      ]
     },
     "metadata": {},
     "output_type": "display_data"
    }
   ],
   "source": [
    "# Plot the percentage distribution of each age group from the processed DataFrame\n",
    "import matplotlib.pyplot as plt\n",
    "\n",
    "# Calculate percentage distribution\n",
    "age_group_percent = processed_df['AgeGroup'].value_counts(normalize=True) * 100\n",
    "\n",
    "# Plot as bar chart\n",
    "plt.figure(figsize=(6, 4))\n",
    "age_group_percent.plot(kind='bar', color='teal')\n",
    "plt.title(\"Age Group Distribution After Processing (%)\")\n",
    "plt.ylabel(\"Percentage\")\n",
    "plt.xticks(rotation=0)\n",
    "plt.grid(axis='y', linestyle='--', alpha=0.6)\n",
    "plt.tight_layout()\n",
    "plt.show()\n"
   ]
  },
  {
   "cell_type": "markdown",
   "id": "b20b0398",
   "metadata": {},
   "source": [
    "### Test real data"
   ]
  },
  {
   "cell_type": "code",
   "execution_count": 54,
   "id": "5b85d141",
   "metadata": {},
   "outputs": [
    {
     "name": "stdout",
     "output_type": "stream",
     "text": [
      "Raw data shape: (2768, 9)\n",
      "Raw data columns: ['Pregnancies', 'Glucose', 'BloodPressure', 'SkinThickness', 'Insulin', 'BMI', 'DiabetesPedigreeFunction', 'Age', 'Outcome']\n",
      "\n",
      "First few rows of raw data:\n",
      "   Pregnancies  Glucose  BloodPressure  SkinThickness  Insulin   BMI  \\\n",
      "0            6      148             72             35        0  33.6   \n",
      "1            1       85             66             29        0  26.6   \n",
      "2            8      183             64              0        0  23.3   \n",
      "3            1       89             66             23       94  28.1   \n",
      "4            0      137             40             35      168  43.1   \n",
      "\n",
      "   DiabetesPedigreeFunction  Age  Outcome  \n",
      "0                     0.627   50        1  \n",
      "1                     0.351   31        0  \n",
      "2                     0.672   32        1  \n",
      "3                     0.167   21        0  \n",
      "4                     2.288   33        1  \n",
      "\n",
      "Checking for zeros and missing values:\n",
      "Pregnancies: 412 zeros, 0 missing values\n",
      "Glucose: 18 zeros, 0 missing values\n",
      "BloodPressure: 125 zeros, 0 missing values\n",
      "SkinThickness: 800 zeros, 0 missing values\n",
      "Insulin: 1330 zeros, 0 missing values\n",
      "BMI: 39 zeros, 0 missing values\n",
      "DiabetesPedigreeFunction: 0 zeros, 0 missing values\n",
      "Age: 0 zeros, 0 missing values\n",
      "Outcome: 1816 zeros, 0 missing values\n",
      "\n",
      "Raw data loaded: 2768 samples\n",
      "Ready to test on completely raw, unprocessed data!\n"
     ]
    }
   ],
   "source": [
    "# Load completely raw dataset for testing (no preprocessing at all)\n",
    "raw_datasetCsv = pd.read_csv('dataset.csv')\n",
    "\n",
    "# Only drop Id column, keep everything else as is (including zeros and missing values)\n",
    "raw_datasetCsv = raw_datasetCsv.drop(columns=[\"Id\"], axis=1)\n",
    "\n",
    "print(f\"Raw data shape: {raw_datasetCsv.shape}\")\n",
    "print(f\"Raw data columns: {raw_datasetCsv.columns.tolist()}\")\n",
    "print(f\"\\nFirst few rows of raw data:\")\n",
    "print(raw_datasetCsv.head())\n",
    "\n",
    "print(f\"\\nChecking for zeros and missing values:\")\n",
    "for col in raw_datasetCsv.columns:\n",
    "    zeros = (raw_datasetCsv[col] == 0).sum()\n",
    "    missing = raw_datasetCsv[col].isnull().sum()\n",
    "    print(f\"{col}: {zeros} zeros, {missing} missing values\")\n",
    "\n",
    "# Create dataset and dataloader with completely raw data\n",
    "raw_customDataset = CustomDataset(raw_datasetCsv)\n",
    "rawDataLoader = DataLoader(raw_customDataset, batch_size=64, shuffle=False)\n",
    "\n",
    "print(f\"\\nRaw data loaded: {len(raw_customDataset)} samples\")\n",
    "print(\"Ready to test on completely raw, unprocessed data!\")"
   ]
  },
  {
   "cell_type": "code",
   "execution_count": 56,
   "id": "d3f14b1a",
   "metadata": {},
   "outputs": [
    {
     "name": "stderr",
     "output_type": "stream",
     "text": [
      "/var/folders/7y/tb8vlfv937523rgqdlf0zjy40000gn/T/ipykernel_4415/321213032.py:38: FutureWarning: Series.__getitem__ treating keys as positions is deprecated. In a future version, integer keys will always be treated as labels (consistent with DataFrame behavior). To access a value by position, use `ser.iloc[pos]`\n",
      "  label = torch.tensor(row[-1], dtype=torch.float32).unsqueeze(0)  # shape [1]\n"
     ]
    },
    {
     "name": "stdout",
     "output_type": "stream",
     "text": [
      "Accuracy: 0.3504335260115607%, Avg loss: 62.778939 \n",
      "\n"
     ]
    },
    {
     "data": {
      "text/plain": [
       "0.3504335260115607"
      ]
     },
     "execution_count": 56,
     "metadata": {},
     "output_type": "execute_result"
    }
   ],
   "source": [
    "test(rawDataLoader, model, loss_fn, 0, writer)"
   ]
  },
  {
   "cell_type": "code",
   "execution_count": 57,
   "id": "ea595184",
   "metadata": {},
   "outputs": [
    {
     "name": "stdout",
     "output_type": "stream",
     "text": [
      "============================================================\n",
      "TESTING MODEL PERFORMANCE BY OUTCOME CLASS\n",
      "============================================================\n",
      "Total samples: 3632\n",
      "Diabetic samples (1): 1816 (50.00%)\n",
      "Non-diabetic samples (0): 1816 (50.00%)\n",
      "\n",
      "==================================================\n",
      "TESTING ON DIABETIC PATIENTS (Outcome = 1)\n",
      "==================================================\n",
      "Testing 1816 diabetic samples...\n"
     ]
    },
    {
     "name": "stderr",
     "output_type": "stream",
     "text": [
      "/var/folders/7y/tb8vlfv937523rgqdlf0zjy40000gn/T/ipykernel_4415/321213032.py:38: FutureWarning: Series.__getitem__ treating keys as positions is deprecated. In a future version, integer keys will always be treated as labels (consistent with DataFrame behavior). To access a value by position, use `ser.iloc[pos]`\n",
      "  label = torch.tensor(row[-1], dtype=torch.float32).unsqueeze(0)  # shape [1]\n"
     ]
    },
    {
     "name": "stdout",
     "output_type": "stream",
     "text": [
      "Accuracy: 0.8166299559471366%, Avg loss: 0.441466 \n",
      "\n",
      "\n",
      "==================================================\n",
      "TESTING ON NON-DIABETIC PATIENTS (Outcome = 0)\n",
      "==================================================\n",
      "Testing 1816 non-diabetic samples...\n",
      "Accuracy: 0.802863436123348%, Avg loss: 0.409316 \n",
      "\n",
      "\n",
      "============================================================\n",
      "SUMMARY OF RESULTS BY OUTCOME CLASS\n",
      "============================================================\n",
      "Diabetic patients accuracy: 81.66%\n",
      "Non-diabetic patients accuracy: 80.29%\n",
      "Overall difference: 1.38%\n",
      "→ Model performs BETTER on diabetic patients\n",
      "Accuracy: 0.802863436123348%, Avg loss: 0.409316 \n",
      "\n",
      "\n",
      "============================================================\n",
      "SUMMARY OF RESULTS BY OUTCOME CLASS\n",
      "============================================================\n",
      "Diabetic patients accuracy: 81.66%\n",
      "Non-diabetic patients accuracy: 80.29%\n",
      "Overall difference: 1.38%\n",
      "→ Model performs BETTER on diabetic patients\n"
     ]
    }
   ],
   "source": [
    "# Group data by Outcome and test model performance on each class\n",
    "diabetic_data = processed_df[processed_df['Outcome'] == 1.0]\n",
    "non_diabetic_data = processed_df[processed_df['Outcome'] == 0.0]\n",
    "\n",
    "print(\"=\"*60)\n",
    "print(\"TESTING MODEL PERFORMANCE BY OUTCOME CLASS\")\n",
    "print(\"=\"*60)\n",
    "\n",
    "print(f\"Total samples: {len(processed_df)}\")\n",
    "print(f\"Diabetic samples (1): {len(diabetic_data)} ({len(diabetic_data)/len(processed_df)*100:.2f}%)\")\n",
    "print(f\"Non-diabetic samples (0): {len(non_diabetic_data)} ({len(non_diabetic_data)/len(processed_df)*100:.2f}%)\")\n",
    "\n",
    "# Remove AgeGroup column if it exists\n",
    "def clean_data_for_testing(data):\n",
    "    if 'AgeGroup' in data.columns:\n",
    "        return data.drop(columns=['AgeGroup'])\n",
    "    return data\n",
    "\n",
    "# Create datasets and dataloaders for each outcome group\n",
    "diabetic_data_clean = clean_data_for_testing(diabetic_data)\n",
    "non_diabetic_data_clean = clean_data_for_testing(non_diabetic_data)\n",
    "\n",
    "diabetic_dataset = CustomDataset(diabetic_data_clean)\n",
    "non_diabetic_dataset = CustomDataset(non_diabetic_data_clean)\n",
    "\n",
    "diabetic_dataloader = DataLoader(diabetic_dataset, batch_size=64, shuffle=False)\n",
    "non_diabetic_dataloader = DataLoader(non_diabetic_dataset, batch_size=64, shuffle=False)\n",
    "\n",
    "print(\"\\n\" + \"=\"*50)\n",
    "print(\"TESTING ON DIABETIC PATIENTS (Outcome = 1)\")\n",
    "print(\"=\"*50)\n",
    "print(f\"Testing {len(diabetic_data)} diabetic samples...\")\n",
    "diabetic_accuracy = test(diabetic_dataloader, model, loss_fn, 0, writer)\n",
    "\n",
    "print(\"\\n\" + \"=\"*50)\n",
    "print(\"TESTING ON NON-DIABETIC PATIENTS (Outcome = 0)\")\n",
    "print(\"=\"*50)\n",
    "print(f\"Testing {len(non_diabetic_data)} non-diabetic samples...\")\n",
    "non_diabetic_accuracy = test(non_diabetic_dataloader, model, loss_fn, 0, writer)\n",
    "\n",
    "print(\"\\n\" + \"=\"*60)\n",
    "print(\"SUMMARY OF RESULTS BY OUTCOME CLASS\")\n",
    "print(\"=\"*60)\n",
    "print(f\"Diabetic patients accuracy: {diabetic_accuracy:.2%}\")\n",
    "print(f\"Non-diabetic patients accuracy: {non_diabetic_accuracy:.2%}\")\n",
    "print(f\"Overall difference: {abs(diabetic_accuracy - non_diabetic_accuracy):.2%}\")\n",
    "\n",
    "if diabetic_accuracy > non_diabetic_accuracy:\n",
    "    print(\"→ Model performs BETTER on diabetic patients\")\n",
    "else:\n",
    "    print(\"→ Model performs BETTER on non-diabetic patients\")"
   ]
  }
 ],
 "metadata": {
  "kernelspec": {
   "display_name": "base",
   "language": "python",
   "name": "python3"
  },
  "language_info": {
   "codemirror_mode": {
    "name": "ipython",
    "version": 3
   },
   "file_extension": ".py",
   "mimetype": "text/x-python",
   "name": "python",
   "nbconvert_exporter": "python",
   "pygments_lexer": "ipython3",
   "version": "3.12.7"
  }
 },
 "nbformat": 4,
 "nbformat_minor": 5
}
