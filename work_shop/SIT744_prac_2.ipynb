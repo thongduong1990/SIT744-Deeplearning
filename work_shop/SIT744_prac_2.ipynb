{
  "cells": [
    {
      "cell_type": "markdown",
      "metadata": {
        "id": "ZeHe2I9Ix2iM"
      },
      "source": [
        "# SIT319/SIT744 Practical 2: Introduction to TensorBoard and automatic differentiation\n",
        "\n"
      ]
    },
    {
      "cell_type": "markdown",
      "metadata": {
        "id": "wSJnyS9Fy51S"
      },
      "source": [
        "ℹ We suggest that you run this notebook using Google Colab.\n",
        "\n",
        "\n",
        "\n"
      ]
    },
    {
      "cell_type": "markdown",
      "metadata": {
        "id": "v1XQAobcnsUU"
      },
      "source": [
        "## Task 1: Use TensorBoard with PyTorch\n",
        "\n",
        "TensorBoard is a visualization tool that helps monitor PyTorch training, debug models, and compare experiments.\n"
      ]
    },
    {
      "cell_type": "markdown",
      "metadata": {
        "id": "GSdKFfHCMfsu"
      },
      "source": [
        "### Step 1: Enable TensorBoard in Colab\n",
        "\n",
        "Colab already includes TensorBoard, but you can ensure it's installed:"
      ]
    },
    {
      "cell_type": "code",
      "execution_count": 1,
      "metadata": {
        "id": "ceNokz49MpFX"
      },
      "outputs": [],
      "source": [
        "# Load TensorBoard extension\n",
        "%load_ext tensorboard"
      ]
    },
    {
      "cell_type": "markdown",
      "metadata": {
        "id": "iS7O3WBkNJDf"
      },
      "source": [
        "If you are running this notebook locally, install TensorBoard in your terminal:\n",
        "\n",
        "```shell\n",
        "$ pip install tensorboard\n",
        "```"
      ]
    },
    {
      "cell_type": "markdown",
      "metadata": {
        "id": "bGUBMW5UOoOj"
      },
      "source": [
        "### Step 2: Create a TensorBoard logger\n",
        "\n",
        "TensorBoard looks for a log folder called logdir, which contains summary data to be visualised. In PyTorch, we define logdir when initializing SummaryWriter"
      ]
    },
    {
      "cell_type": "code",
      "execution_count": 2,
      "metadata": {
        "id": "ZVSSVwRdNso7"
      },
      "outputs": [],
      "source": [
        "import torch\n",
        "import torch.nn as nn\n",
        "from torch.utils.tensorboard import SummaryWriter\n",
        "import time\n",
        "\n",
        "# Initialize TensorBoard writer\n",
        "writer = SummaryWriter(log_dir=f\"runs/experiment_{int(time.time())}\")"
      ]
    },
    {
      "cell_type": "markdown",
      "metadata": {
        "id": "aeUT1XzWO-QL"
      },
      "source": [
        "The `SummaryWriter` logs data to `runs/experiment_xxx`, which TensorBoard reads.\n",
        "\n",
        "> 📝 Check what new folders have been created by the above code. Do you see any files inside the folders?"
      ]
    },
    {
      "cell_type": "markdown",
      "metadata": {
        "id": "hjH28jbA3Iw1"
      },
      "source": [
        "Here is how TensorBoard expects logdir to be organised.\n",
        "\n",
        "\n",
        "#### runs\n",
        "\n",
        "A run refers to a separate execution of the model, typically stored as a subfolder under logdir. Multiple runs allow comparison of different experiments."
      ]
    },
    {
      "cell_type": "code",
      "execution_count": 3,
      "metadata": {
        "id": "2rk78ytUQvpq"
      },
      "outputs": [],
      "source": [
        "writer1 = SummaryWriter(log_dir=\"runs/experiment_1\")\n",
        "writer2 = SummaryWriter(log_dir=\"runs/experiment_2\")"
      ]
    },
    {
      "cell_type": "markdown",
      "metadata": {
        "id": "tQJpOFLlQXwF"
      },
      "source": [
        "#### event files\n",
        "\n",
        "PyTorch's SummaryWriter creates event files in logdir.\n",
        "These files have names like events.out.tfevents.<timestamp>.\n",
        "These are automatically recognized by TensorBoard.\n",
        "\n",
        "Each file contains records called *summaries*.\n",
        "\n",
        "\n"
      ]
    },
    {
      "cell_type": "markdown",
      "metadata": {
        "id": "b-YjG9nCYuiq"
      },
      "source": [
        "#### tags\n",
        "\n",
        "You add tags to a summary by passing a `tag` argument in logging calls (See examples below). In TensorBoard, these tags allow you to filter and categorise data to be visualised."
      ]
    },
    {
      "cell_type": "code",
      "execution_count": 4,
      "metadata": {
        "id": "jgrPKqxEYnUo"
      },
      "outputs": [],
      "source": [
        "# Logging loss to an event file\n",
        "for epoch in range(10):\n",
        "    loss = 0.05 * epoch  # Dummy loss for illustration\n",
        "    writer.add_scalar(\"Loss/train\", loss, epoch)  # 'Loss/train' is the tag\n",
        "writer.close()"
      ]
    },
    {
      "cell_type": "markdown",
      "metadata": {
        "id": "JkeuoDM2ZaWw"
      },
      "source": [
        "Let's visualise the dummy loss written into the first SummaryWriter:"
      ]
    },
    {
      "cell_type": "code",
      "execution_count": 12,
      "metadata": {
        "collapsed": true,
        "id": "fs0TZBaAZsKJ"
      },
      "outputs": [
        {
          "name": "stdout",
          "output_type": "stream",
          "text": [
            "The tensorboard extension is already loaded. To reload it, use:\n",
            "  %reload_ext tensorboard\n"
          ]
        },
        {
          "data": {
            "text/plain": [
              "Reusing TensorBoard on port 6007 (pid 61877), started 0:00:02 ago. (Use '!kill 61877' to kill it.)"
            ]
          },
          "metadata": {},
          "output_type": "display_data"
        },
        {
          "data": {
            "text/html": [
              "\n",
              "      <iframe id=\"tensorboard-frame-9833deaa99b99722\" width=\"100%\" height=\"800\" frameborder=\"0\">\n",
              "      </iframe>\n",
              "      <script>\n",
              "        (function() {\n",
              "          const frame = document.getElementById(\"tensorboard-frame-9833deaa99b99722\");\n",
              "          const url = new URL(\"http://localhost\");\n",
              "          const port = 6007;\n",
              "          if (port) {\n",
              "            url.port = port;\n",
              "          }\n",
              "          frame.src = url;\n",
              "        })();\n",
              "      </script>\n",
              "    "
            ],
            "text/plain": [
              "<IPython.core.display.HTML object>"
            ]
          },
          "metadata": {},
          "output_type": "display_data"
        }
      ],
      "source": [
        "%load_ext tensorboard\n",
        "%tensorboard --logdir runs"
      ]
    },
    {
      "cell_type": "markdown",
      "metadata": {
        "id": "18g4KSkWhAEa"
      },
      "source": [
        "### Additional exercise:  Logging Dummy Metrics\n",
        "\n",
        "1. Setup TensorBoard:\n",
        " - Import necessary modules and initialize a `SummaryWriter`.\n",
        " - Create a log folder (e.g. \"runs/experiment_xxx\") where event files will be saved.\n",
        "\n",
        "2. Log a Dummy Loss:\n",
        "\n",
        " - Simulate training by iterating over several epochs (e.g. 20).\n",
        " - For each epoch, compute a dummy loss (for example, using a simple mathematical function like `loss = 1/(epoch+1)` or any function you choose) and log it using `writer.add_scalar(\"Loss/train\", loss, epoch)`.\n",
        "\n",
        "3. Visualize in TensorBoard:\n",
        "\n",
        " - Run TensorBoard (e.g. `%tensorboard --logdir runs` in Colab or locally) and check that your loss curve is visible.\n",
        "\n",
        "Additional Challenge:\n",
        "\n",
        "- Log an additional metric (for instance, “Accuracy/train”) and compare the two curves in TensorBoard.\n",
        "- Create another run with a different simulated training strategy and compare the two runs side-by-side.\n"
      ]
    },
    {
      "cell_type": "markdown",
      "metadata": {
        "id": "kMNglTF02_73"
      },
      "source": [
        "## Task 2: Visualise computational graph of a PyTorch model\n",
        "\n",
        "Given a PyTorch model, we can use TensorBoard to visualise its Computational Graph."
      ]
    },
    {
      "cell_type": "code",
      "execution_count": 6,
      "metadata": {
        "id": "ggechJunds_y"
      },
      "outputs": [],
      "source": [
        "import torch\n",
        "\n",
        "\n",
        "# Define a PyTorch model for y = x^2 + x\n",
        "class FooFunction(nn.Module):\n",
        "    def forward(self, x):\n",
        "        return x ** 2 + x  # Function: y = x^2 + x\n",
        "\n",
        "# Initialize model\n",
        "model = FooFunction()\n",
        "\n",
        "# Create input tensor\n",
        "x = torch.tensor([[2.0]])  # Must be a tensor inside a list for proper graph logging\n",
        "\n",
        "\n",
        "# Log computational graph to TensorBoard\n",
        "writer.add_graph(model, input_to_model=[x])\n",
        "writer.flush()"
      ]
    },
    {
      "cell_type": "markdown",
      "metadata": {
        "id": "01k-B7fqhsIv"
      },
      "source": [
        "Now you can refresh TensorBoard and you should be able to see a **GRAPHS** tab. There you can find the computation graph. Click inside the `FooFunction` node to understand how the model is implemented."
      ]
    },
    {
      "cell_type": "markdown",
      "metadata": {
        "id": "mjXl4-wW45uI"
      },
      "source": [
        "You should be able to see a **GRAPHS** tab and there you can find the computational graph.\n",
        "> How many *operations* do you see in the computational graph?"
      ]
    },
    {
      "cell_type": "markdown",
      "metadata": {
        "id": "DbSV8UhjKjhR"
      },
      "source": [
        "> 📝 **Exercise**:\n",
        "> 1. Follow the example above to display the computation graph of the function $z = 3 x^2 + 2xy$.\n",
        "  - Define a simple PyTorch model by subclassing nn.Module.\n",
        "  - Create a sample input tensor (ensure it’s the right shape, e.g. wrapped in a list if needed).\n",
        "  - Use `writer.add_graph(model, input_to_model=[x])` to log the model’s computational graph to TensorBoard.\n",
        "> 2. Log the value of the sine function from 0 to 100; Display the values in TensorBoard. (*Hint: use a different tag.*)\n",
        "> 3. Create another run. And plot the cosine function instead. (*Hint: use a different summary writer.*)"
      ]
    },
    {
      "cell_type": "markdown",
      "metadata": {
        "id": "P82VgscODrJO"
      },
      "source": [
        "## Task 3. PyTorch Automatic Differentiation (Autograd)\n",
        "\n",
        "Computing gradient is a core requirement for training deep learning models. PyTorch's autograd module enables automatic differentiation, making it easy to compute gradients."
      ]
    },
    {
      "cell_type": "code",
      "execution_count": 7,
      "metadata": {
        "id": "O41C6ajTl9lI"
      },
      "outputs": [],
      "source": [
        "# Create input tensor with requires_grad=True to track gradients\n",
        "x = torch.tensor([[2.0]], requires_grad=True)\n",
        "\n",
        "# Forward pass: Compute y = x^2 + x\n",
        "y = model(x)"
      ]
    },
    {
      "cell_type": "markdown",
      "metadata": {
        "id": "OCQbtYTNmEfX"
      },
      "source": [
        "> 📝 What is the value of $y$? Use pen and paper to work out  the gradient $∇y$?"
      ]
    },
    {
      "cell_type": "markdown",
      "metadata": {
        "id": "_0VfITxdKU0i"
      },
      "source": [
        "Autograd’s internal gradient functions (`grad_fn`) are added in the forward pass."
      ]
    },
    {
      "cell_type": "code",
      "execution_count": 8,
      "metadata": {
        "id": "W353I6C5KnQG"
      },
      "outputs": [
        {
          "name": "stdout",
          "output_type": "stream",
          "text": [
            "<AddBackward0 object at 0x377cb42e0>\n",
            "((<PowBackward0 object at 0x377cb4370>, 0), (<AccumulateGrad object at 0x377cb4280>, 0))\n",
            "((<AccumulateGrad object at 0x377cb42e0>, 0),)\n"
          ]
        }
      ],
      "source": [
        "# Print the recorded gradient function in the graph\n",
        "print(y.grad_fn)  # Shows the last operation in the graph\n",
        "\n",
        "# Show the chain of operations in the graph\n",
        "print(y.grad_fn.next_functions)\n",
        "\n",
        "# Going one level deeper\n",
        "print(y.grad_fn.next_functions[0][0].next_functions)"
      ]
    },
    {
      "cell_type": "markdown",
      "metadata": {
        "id": "x3xxTx5rSjxa"
      },
      "source": [
        "> Can you map these `grad_fn` to their respective operation nodes in the computational graph?"
      ]
    },
    {
      "cell_type": "code",
      "execution_count": 9,
      "metadata": {
        "id": "FljRqmmM4Syj"
      },
      "outputs": [
        {
          "name": "stdout",
          "output_type": "stream",
          "text": [
            "Gradient dy/dx at x=2.0: 5.0\n"
          ]
        }
      ],
      "source": [
        "# Compute gradients (dy/dx)\n",
        "y.backward()\n",
        "\n",
        "# Print gradient\n",
        "print(f\"Gradient dy/dx at x={x.item()}: {x.grad.item()}\")"
      ]
    },
    {
      "cell_type": "markdown",
      "metadata": {
        "id": "f1MCC2LaoGJ4"
      },
      "source": [
        "### Disabling Autograd (No Gradient Tracking)\n",
        "\n",
        "Sometimes, we don’t need gradients, e.g., during inference.\n",
        "Disable autograd using `.detach()` or `torch.no_grad()`. Stopping unnecessary gradient tracking saves GPU memory."
      ]
    },
    {
      "cell_type": "code",
      "execution_count": 10,
      "metadata": {
        "id": "I8jQKrmRoQHy"
      },
      "outputs": [
        {
          "name": "stdout",
          "output_type": "stream",
          "text": [
            "True\n",
            "False\n"
          ]
        }
      ],
      "source": [
        "print(y.requires_grad)\n",
        "\n",
        "# Create a tensor without gradient tracking\n",
        "z = y.detach()\n",
        "print(z.requires_grad)"
      ]
    },
    {
      "cell_type": "markdown",
      "metadata": {
        "id": "ymLRSgS6oxrT"
      },
      "source": [
        "Using `torch.no_grad()`"
      ]
    },
    {
      "cell_type": "code",
      "execution_count": 11,
      "metadata": {
        "id": "4PEav8Boot_Z"
      },
      "outputs": [
        {
          "name": "stdout",
          "output_type": "stream",
          "text": [
            "False\n"
          ]
        }
      ],
      "source": [
        "with torch.no_grad():\n",
        "    y = x ** 2\n",
        "print(y.requires_grad)  # Output: False"
      ]
    },
    {
      "cell_type": "markdown",
      "metadata": {
        "id": "4dLgkI7BA0-4"
      },
      "source": [
        "**Exercise**: Follow the example above to compute the gradient of function $z(x,y) = 3 x^2 + 2xy$."
      ]
    },
    {
      "cell_type": "markdown",
      "metadata": {
        "id": "UmJez5G2jstw"
      },
      "source": [
        "Additional exercise: Compute Gradients for a Custom Function\n",
        "\n",
        "1. Define a Function with Two Inputs:\n",
        "\n",
        " - For example, define $z(x,y)=3x^2+2xy$.\n",
        " - Create tensors for x and y with requires_grad=True.\n",
        "\n",
        "2. Compute the Function and Backward Pass:\n",
        " - Calculate $z$ using the defined formula.\n",
        " - Call `z.backward()` to compute the gradients.\n",
        " - Print the gradients of `x` and `y`.\n",
        "\n",
        "3. Disable Gradient Tracking:\n",
        "\n",
        " - Use `torch.no_grad()` or the `.detach()` method to perform an operation without tracking gradients.\n",
        " - Verify by checking the `requires_grad` property of the output."
      ]
    },
    {
      "cell_type": "markdown",
      "metadata": {
        "id": "cbd7zbd1NW42"
      },
      "source": [
        "## Additional resources\n",
        "\n",
        "- [Deep Learning with PyTorch: A 60 Minute Blitz](https://pytorch.org/tutorials/beginner/deep_learning_60min_blitz.html)\n",
        "- [Visualizing Models, Data, and Training with TensorBoard](https://pytorch.org/tutorials/intermediate/tensorboard_tutorial.html)\n",
        "- [A Gentle Introduction to torch.autograd](https://pytorch.org/tutorials/beginner/blitz/autograd_tutorial.html)"
      ]
    }
  ],
  "metadata": {
    "colab": {
      "provenance": [],
      "toc_visible": true
    },
    "kernelspec": {
      "display_name": "base",
      "language": "python",
      "name": "python3"
    },
    "language_info": {
      "codemirror_mode": {
        "name": "ipython",
        "version": 3
      },
      "file_extension": ".py",
      "mimetype": "text/x-python",
      "name": "python",
      "nbconvert_exporter": "python",
      "pygments_lexer": "ipython3",
      "version": "3.12.7"
    }
  },
  "nbformat": 4,
  "nbformat_minor": 0
}
